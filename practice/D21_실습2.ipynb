{
 "cells": [
  {
   "cell_type": "markdown",
   "metadata": {
    "Collapsed": "false",
    "id": "iiQv9kPGM3oI"
   },
   "source": [
    "\r\n",
    "**Lab 2 : Graph Property**\r\n",
    "- Instuctor : Kijung Shin\r\n",
    "- Teaching Assistants : Deukryeol Yoon(main), Hyunju Lee, Shinhwan Kang \r\n",
    "- 본 실습에서는 그래프의 다양한 특성 중 그래프 지름, 전역 군집 계수, 차수 분포를 배우고, 수업에서 배운 small world graph의 그래프 특성을 알아본다.\r\n",
    "\r\n"
   ]
  },
  {
   "cell_type": "code",
   "execution_count": null,
   "metadata": {
    "Collapsed": "false",
    "id": "zl9mVoHDMxUP"
   },
   "outputs": [],
   "source": [
    "from google.colab import drive\r\n",
    "drive.mount('/content/drive')"
   ]
  },
  {
   "cell_type": "code",
   "execution_count": null,
   "metadata": {
    "Collapsed": "false",
    "id": "qEI5BI2onH4v"
   },
   "outputs": [],
   "source": [
    "\r\n",
    "\r\n",
    "# 실습에 필요한 library를 import하고 그래프를 초기화합니다.\r\n",
    "import networkx as nx\r\n",
    "import os\r\n",
    "import os.path as osp\r\n",
    "import numpy as np\r\n",
    "import sys\r\n",
    "import matplotlib.pyplot as plt\r\n",
    "import collections\r\n",
    "np.set_printoptions(threshold=sys.maxsize)\r\n",
    "\r\n",
    "cycle_graph = nx.Graph()\r\n",
    "regular_graph = nx.Graph()\r\n",
    "small_world_graph = nx.Graph()\r\n",
    "random_graph = nx.Graph()"
   ]
  },
  {
   "cell_type": "code",
   "execution_count": null,
   "metadata": {
    "Collapsed": "false",
    "id": "EcA9t2EJnxz-"
   },
   "outputs": [],
   "source": [
    "# 실습에 사용할 데이터를 읽어옵니다.\r\n",
    "data = osp.abspath(osp.join(os.getcwd(), 'drive/MyDrive/data/lab/lab2/cycle.txt'))\r\n",
    "f = open(data)\r\n",
    "for line in f:\r\n",
    "    v1, v2 = map(int, line.split())\r\n",
    "    cycle_graph.add_edge(v1, v2)\r\n",
    "\r\n",
    "data = osp.abspath(osp.join(os.getcwd(), 'drive/MyDrive/data/lab/lab2/regular.txt'))\r\n",
    "f = open(data)\r\n",
    "for line in f:\r\n",
    "    v1, v2 = map(int, line.split())\r\n",
    "    regular_graph.add_edge(v1, v2)\r\n",
    "\r\n",
    "data = osp.abspath(osp.join(os.getcwd(), 'drive/MyDrive/data/lab/lab2/small_world.txt'))\r\n",
    "f = open(data)\r\n",
    "for line in f:\r\n",
    "    v1, v2, = map(int, line.split())\r\n",
    "    small_world_graph.add_edge(v1, v2)\r\n",
    "\r\n",
    "data = osp.abspath(osp.join(os.getcwd(), 'drive/MyDrive/data/lab/lab2/random.txt'))\r\n",
    "f = open(data)\r\n",
    "for line in f:\r\n",
    "    v1, v2 = map(int, line.split())\r\n",
    "    random_graph.add_edge(v1, v2)"
   ]
  },
  {
   "cell_type": "code",
   "execution_count": null,
   "metadata": {
    "Collapsed": "false",
    "id": "XUV9U8Mg6cWa"
   },
   "outputs": [],
   "source": [
    "# 그래프의 전역 군집 계수를 찾는 함수입니다.\r\n",
    "#\r\n",
    "# 특정 정점 u의 정점 계수(cc)는 아래와 같이 구할 수 있습니다.\r\n",
    "# cc(u) = 2T(u)/(deg(u) * (deg(u) - 1))\r\n",
    "#   - cc(u) : 정점 u의 군집계수\r\n",
    "#   - T(u)  : 정점 u가 들어있는 삼각형 개수\r\n",
    "#   - deg(u): 정점 u의 차수 (degree)\r\n",
    "#\r\n",
    "# 그리고 전역 군집 계수는 모든 정점의 cc(u)의 평균을 의미합니다.\r\n",
    "# 전역 군집 계수\r\n",
    "# avg_cc(G) = sigma(u in G) cc(u) / n\r\n",
    "#   - avg_cc(G) : 그래프 G의 전역 군집 계수\r\n",
    "#   - n         : 그래프 G의 정점 개수\r\n",
    "#\r\n",
    "def getGraphAverageClusteringCoefficient(Graph):"
   ]
  },
  {
   "cell_type": "code",
   "execution_count": null,
   "metadata": {
    "Collapsed": "false",
    "id": "vAcilKNwosif"
   },
   "outputs": [],
   "source": [
    "# 본 실습에서는 그래프의 다양한 특성 중 그래프 지름과 전역 군집 계수를 분석해봅니다.\n",
    "# 그래프에서 Diameter, Average Clustering Coefficient를 찾는 알고리즘을 구현하고, networkx에서 제공하는 라이브러리와 결과를 비교해봅시다.\n",
    "\n",
    "# 그래프의 지름을 찾는 함수입니다.\n",
    "# Definition. Graph Diameter\n",
    "#   The graph diameter of a graph is the length max(u,v)d(u,v) of the \"longest shortest path between any two graph vertices (u,v), where d(u,v) is a graph distance.\n",
    "#\n",
    "def getGraphDiameter(Graph):"
   ]
  },
  {
   "cell_type": "code",
   "execution_count": null,
   "metadata": {
    "Collapsed": "false",
    "id": "5V35tik7-uCp"
   },
   "outputs": [],
   "source": [
    "# 아래는 위의 함수로 구한 그래프 지름 및 전역 군집 계수 값과 networkX에서 지원하는 library로 구한 값을 비교해봅니다.\r\n",
    "#\r\n",
    "#                   |     그래프 지름        |     전역 군집 계수\r\n",
    "# ------------------+------------------------------------------------------------                    \r\n",
    "# Regular Graph     |         High           |              High\r\n",
    "# Small World Graph |         Low            |              High\r\n",
    "# Random Graph      |         Low            |              Low\r\n",
    "#\r\n",
    "print(\"1. Graph Diameter\")\r\n",
    "print(\"cycle graph : \" + str(nx.diameter(cycle_graph)))\r\n",
    "print(\"cycle graph : \" + str(getGraphDiameter(cycle_graph)))\r\n",
    "\r\n",
    "print(\"regular graph : \" + str(nx.diameter(regular_graph)))\r\n",
    "print(\"regular graph : \" + str(getGraphDiameter(regular_graph)))\r\n",
    "\r\n",
    "print(\"small world graph : \" + str(nx.diameter(small_world_graph)))\r\n",
    "print(\"small world graph : \" + str(getGraphDiameter(small_world_graph)))\r\n",
    "\r\n",
    "print(\"random graph : \" + str(nx.diameter(random_graph)))\r\n",
    "print(\"random graph : \" + str(getGraphDiameter(random_graph)) + \"\\n\")\r\n",
    "\r\n",
    "print(\"2. Average Clustering Coefficient\")\r\n",
    "print(\"cycle graph : \" + str(nx.average_clustering(cycle_graph)))\r\n",
    "print(\"cycle graph : \" + str(getGraphAverageClusteringCoefficient(cycle_graph)))\r\n",
    "print(\"regular graph : \" + str(nx.average_clustering(regular_graph)))\r\n",
    "print(\"regular graph : \" + str(getGraphAverageClusteringCoefficient(regular_graph)))\r\n",
    "\r\n",
    "print(\"small world graph : \" + str(nx.average_clustering(small_world_graph)))\r\n",
    "print(\"small world graph : \" + str(getGraphAverageClusteringCoefficient(small_world_graph)))\r\n",
    "\r\n",
    "\r\n",
    "print(\"random graph : \" + str(nx.average_clustering(random_graph)))\r\n",
    "print(\"random graph : \" + str(getGraphAverageClusteringCoefficient(random_graph)) + \"\\n\")"
   ]
  },
  {
   "cell_type": "code",
   "execution_count": null,
   "metadata": {
    "Collapsed": "false",
    "id": "Nb5B_6X8_63o"
   },
   "outputs": [],
   "source": [
    "# 그래프의 차수 분포을 그리는 부분입니다.\r\n",
    "print(\"3. Degree Distribution\")\r\n",
    "degree_sequence = sorted([d for n, d in random_graph.degree()], reverse = True)\r\n",
    "degreeCount = collections.Counter(degree_sequence)\r\n",
    "deg, cnt = zip(*degreeCount.items())\r\n",
    "plt.bar(deg, cnt, color=\"b\")\r\n",
    "plt.xlabel('degree')\r\n",
    "plt.ylabel('number of vertices')\r\n",
    "plt.xticks([2, 3, 4])\r\n",
    "plt.show()\r\n"
   ]
  }
 ],
 "metadata": {
  "colab": {
   "collapsed_sections": [],
   "name": "W05_D21_실습2.ipynb",
   "provenance": [
    {
     "file_id": "1hf-f-haCoFGgjPQUkK-4Xg1Orh9Vkk2I",
     "timestamp": 1613991885932
    }
   ]
  },
  "kernelspec": {
   "display_name": "Python 3",
   "language": "python",
   "name": "python3"
  },
  "language_info": {
   "codemirror_mode": {
    "name": "ipython",
    "version": 3
   },
   "file_extension": ".py",
   "mimetype": "text/x-python",
   "name": "python",
   "nbconvert_exporter": "python",
   "pygments_lexer": "ipython3",
   "version": "3.7.6"
  }
 },
 "nbformat": 4,
 "nbformat_minor": 4
}
