{
 "cells": [
  {
   "cell_type": "markdown",
   "metadata": {
    "Collapsed": "false",
    "id": "ELHe4WkmNi7v"
   },
   "source": [
    "**Lab 1-1 : Graph Basic**\r\n",
    "- Instuctor : Kijung Shin\r\n",
    "- Teaching Assistants : Deukryeol Yoon(main), Hyunju Lee, Shinhwan Kang \r\n",
    "- 본 실습에서는 그래프를 컴퓨터 상에서 다루는 기초적인 방법을 배운다.\r\n"
   ]
  },
  {
   "cell_type": "code",
   "execution_count": 3,
   "metadata": {
    "Collapsed": "false",
    "executionInfo": {
     "elapsed": 629,
     "status": "ok",
     "timestamp": 1613991125906,
     "user": {
      "displayName": "오진석",
      "photoUrl": "",
      "userId": "12229120938967938448"
     },
     "user_tz": -540
    },
    "id": "5wBs1FcZN8lt"
   },
   "outputs": [],
   "source": [
    "# 실습에 필요한 library를 임포트합니다.\r\n",
    "import sys\r\n",
    "import networkx as nx                           # NetworkX\r\n",
    "import numpy as np                              # 선형대수를 위한 라이브러리\r\n",
    "import matplotlib.pyplot as plt                 # 그림을 그리기 위한 라이브러리\r\n",
    "np.set_printoptions(threshold=sys.maxsize)      "
   ]
  },
  {
   "cell_type": "code",
   "execution_count": 4,
   "metadata": {
    "Collapsed": "false",
    "colab": {
     "base_uri": "https://localhost:8080/"
    },
    "executionInfo": {
     "elapsed": 703,
     "status": "ok",
     "timestamp": 1613991128761,
     "user": {
      "displayName": "오진석",
      "photoUrl": "",
      "userId": "12229120938967938448"
     },
     "user_tz": -540
    },
    "id": "5HaZbl3YN5X8",
    "outputId": "6c32d4fa-18c5-4073-b473-628679423c45"
   },
   "outputs": [
    {
     "name": "stdout",
     "output_type": "stream",
     "text": [
      "###### Graph Init ######\n"
     ]
    }
   ],
   "source": [
    "print(\"###### Graph Init ######\")               \r\n",
    "G= nx.Graph()                                   # 방향성이 없는 그래프\r\n",
    "DiGraph = nx.DiGraph()                          # 방향성이 있는 그래프"
   ]
  },
  {
   "cell_type": "code",
   "execution_count": 5,
   "metadata": {
    "Collapsed": "false",
    "colab": {
     "base_uri": "https://localhost:8080/"
    },
    "executionInfo": {
     "elapsed": 627,
     "status": "ok",
     "timestamp": 1613991130300,
     "user": {
      "displayName": "오진석",
      "photoUrl": "",
      "userId": "12229120938967938448"
     },
     "user_tz": -540
    },
    "id": "2HqTFL81b1Yj",
    "outputId": "e504244f-429d-4dda-a285-ed157d6bcf4b"
   },
   "outputs": [
    {
     "name": "stdout",
     "output_type": "stream",
     "text": [
      "###### Add Node to Graph ######\n",
      "# Add node 1\n",
      "Num of nodes in G : 1\n",
      "Graph : [1]\n",
      "\n"
     ]
    }
   ],
   "source": [
    "print(\"###### Add Node to Graph ######\")                    \r\n",
    "print(\"# Add node 1\")                                      \r\n",
    "G.add_node(1)                                               # 정점 1 추가\r\n",
    "print(\"Num of nodes in G : \" + str(G.number_of_nodes()))    # 정점의 수 반환\r\n",
    "print(\"Graph : \" + str(G.nodes)+ \"\\n\")                      # 정점의 목록 반환"
   ]
  },
  {
   "cell_type": "code",
   "execution_count": 7,
   "metadata": {
    "Collapsed": "false",
    "colab": {
     "base_uri": "https://localhost:8080/"
    },
    "executionInfo": {
     "elapsed": 803,
     "status": "ok",
     "timestamp": 1613991181622,
     "user": {
      "displayName": "오진석",
      "photoUrl": "",
      "userId": "12229120938967938448"
     },
     "user_tz": -540
    },
    "id": "4ek4x0xFdbEa",
    "outputId": "28b17ebe-aaae-4499-d135-9f78bc33d30f"
   },
   "outputs": [
    {
     "name": "stdout",
     "output_type": "stream",
     "text": [
      "# Add vertex 2 ~ 10\n",
      "1\n",
      "2\n",
      "3\n",
      "4\n",
      "5\n",
      "6\n",
      "7\n",
      "8\n",
      "9\n",
      "10\n",
      "Num of nodes in G : 10\n",
      "Graph : [1, 2, 3, 4, 5, 6, 7, 8, 9, 10]\n",
      "\n"
     ]
    }
   ],
   "source": [
    "print(\"# Add vertex 2 ~ 10\")                                # 정점 2 ~ 10 추가\r\n",
    "for i in range (1, 11):\r\n",
    "    print(i)\r\n",
    "    G.add_node(i)\r\n",
    "print(\"Num of nodes in G : \" + str(G.number_of_nodes()))\r\n",
    "print(\"Graph : \" + str(G.nodes) + \"\\n\")"
   ]
  },
  {
   "cell_type": "code",
   "execution_count": null,
   "metadata": {
    "Collapsed": "false",
    "colab": {
     "base_uri": "https://localhost:8080/"
    },
    "executionInfo": {
     "elapsed": 1472,
     "status": "ok",
     "timestamp": 1609815897448,
     "user": {
      "displayName": "윤득렬",
      "photoUrl": "",
      "userId": "09323511381889997844"
     },
     "user_tz": -540
    },
    "id": "MF5Pr2bsdjrq",
    "outputId": "3ccd58f8-b1d3-4dad-9686-d430a2f09a7c"
   },
   "outputs": [
    {
     "name": "stdout",
     "output_type": "stream",
     "text": [
      "###### Add Edge to Graph ######\n",
      "#Add edge (1, 2)\n",
      "Graph : [(1, 2)]\n",
      "\n"
     ]
    }
   ],
   "source": [
    "print(\"###### Add Edge to Graph ######\")                    \r\n",
    "G = nx.Graph()\r\n",
    "print(\"#Add edge (1, 2)\")                                   \r\n",
    "G.add_edge(1, 2)                                            # 정점 1과 2 사이에 간선 추가\r\n",
    "print(\"Graph : \" + str(G.edges) + \"\\n\")                     # 간선의 목록 반환"
   ]
  },
  {
   "cell_type": "code",
   "execution_count": null,
   "metadata": {
    "Collapsed": "false",
    "colab": {
     "base_uri": "https://localhost:8080/"
    },
    "executionInfo": {
     "elapsed": 1468,
     "status": "ok",
     "timestamp": 1609815897448,
     "user": {
      "displayName": "윤득렬",
      "photoUrl": "",
      "userId": "09323511381889997844"
     },
     "user_tz": -540
    },
    "id": "a7zrRb46eX4w",
    "outputId": "31c8cae2-1336-4a1d-a268-7113fb21aeb5"
   },
   "outputs": [
    {
     "name": "stdout",
     "output_type": "stream",
     "text": [
      "#Add edge (1, i) for i = 2 ~ 10\n",
      "Graph : [(1, 2), (1, 3), (1, 4), (1, 5), (1, 6), (1, 7), (1, 8), (1, 9), (1, 10)]\n",
      "\n"
     ]
    }
   ],
   "source": [
    "print(\"#Add edge (1, i) for i = 2 ~ 10\")                    # 정점 1과 다른 정점 사이의 간선 추가\r\n",
    "for i in range (2, 11):\r\n",
    "    G.add_edge(1, i)\r\n",
    "print(\"Graph : \" + str(G.edges) + \"\\n\")"
   ]
  },
  {
   "cell_type": "code",
   "execution_count": null,
   "metadata": {
    "Collapsed": "false",
    "colab": {
     "base_uri": "https://localhost:8080/",
     "height": 248
    },
    "executionInfo": {
     "elapsed": 1946,
     "status": "ok",
     "timestamp": 1609815897932,
     "user": {
      "displayName": "윤득렬",
      "photoUrl": "",
      "userId": "09323511381889997844"
     },
     "user_tz": -540
    },
    "id": "0yJA5jg8efSo",
    "outputId": "61c357ca-cc4d-46c2-e04e-e311c9c1678c"
   },
   "outputs": [
    {
     "data": {
      "image/png": "[encoded data removed]",
      "text/plain": [
       "<Figure size 432x288 with 1 Axes>"
      ]
     },
     "metadata": {
      "tags": []
     },
     "output_type": "display_data"
    }
   ],
   "source": [
    "# 그래프를 시각화\r\n",
    "# 정점의 위치 결정\r\n",
    "pos = nx.spring_layout(G)                                               \r\n",
    "# 정점의 색과 크기를 지정하여 출력\r\n",
    "im = nx.draw_networkx_nodes(G, pos, node_color=\"red\", node_size=100)    \r\n",
    "# 간선 출력\r\n",
    "nx.draw_networkx_edges(G, pos)                                          \r\n",
    "# 각 정점의 라벨을 출력\r\n",
    "nx.draw_networkx_labels(G, pos, font_size=10, font_color=\"black\")       \r\n",
    "plt.show()\r\n"
   ]
  }
 ],
 "metadata": {
  "colab": {
   "collapsed_sections": [],
   "name": "W05_D21_실습1-1.ipynb",
   "provenance": [
    {
     "file_id": "1BWKhk9sXsTUQhsHWUzVt1jc9UgYyuB3n",
     "timestamp": 1613990951980
    }
   ]
  },
  "kernelspec": {
   "display_name": "Python 3",
   "language": "python",
   "name": "python3"
  },
  "language_info": {
   "codemirror_mode": {
    "name": "ipython",
    "version": 3
   },
   "file_extension": ".py",
   "mimetype": "text/x-python",
   "name": "python",
   "nbconvert_exporter": "python",
   "pygments_lexer": "ipython3",
   "version": "3.7.6"
  }
 },
 "nbformat": 4,
 "nbformat_minor": 4
}
