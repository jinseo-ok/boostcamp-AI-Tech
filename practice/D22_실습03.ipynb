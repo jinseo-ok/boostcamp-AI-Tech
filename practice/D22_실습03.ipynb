{
 "cells": [
  {
   "cell_type": "markdown",
   "metadata": {
    "Collapsed": "false",
    "id": "CkyklNZUMWzS"
   },
   "source": [
    "**Lab 3 : PageRank**\r\n",
    "- Instuctor : Kijung Shin\r\n",
    "- Teaching Assistants : Deukryeol Yoon(main), Hyunju Lee, Shinhwan Kang\r\n",
    "- 본 실습에서는 PageRank 알고리즘에 대해서 배운다."
   ]
  },
  {
   "cell_type": "code",
   "execution_count": 1,
   "metadata": {
    "Collapsed": "false",
    "colab": {
     "base_uri": "https://localhost:8080/"
    },
    "executionInfo": {
     "elapsed": 21355,
     "status": "ok",
     "timestamp": 1614263657731,
     "user": {
      "displayName": "오진석",
      "photoUrl": "",
      "userId": "12229120938967938448"
     },
     "user_tz": -540
    },
    "id": "1OYgVV7EnErX",
    "outputId": "3f2412fa-3f7b-49a5-88e1-cbb43825d9c0"
   },
   "outputs": [
    {
     "name": "stdout",
     "output_type": "stream",
     "text": [
      "Mounted at /content/drive\n"
     ]
    }
   ],
   "source": [
    "from google.colab import drive\n",
    "drive.mount('/content/drive')"
   ]
  },
  {
   "cell_type": "code",
   "execution_count": 11,
   "metadata": {
    "Collapsed": "false",
    "executionInfo": {
     "elapsed": 905,
     "status": "ok",
     "timestamp": 1614264392104,
     "user": {
      "displayName": "오진석",
      "photoUrl": "",
      "userId": "12229120938967938448"
     },
     "user_tz": -540
    },
    "id": "tKbU4xZXCLbd"
   },
   "outputs": [],
   "source": [
    "# -*- coding: utf-8 -*-\r\n",
    "# 실습에 필요한 library를 import하고 그래프를 초기화합니다.\r\n",
    "import networkx as nx\r\n",
    "import os\r\n",
    "import os.path as osp\r\n",
    "import numpy as np\r\n",
    "import sys\r\n",
    "import matplotlib.pyplot as plt\r\n",
    "import collections\r\n",
    "np.set_printoptions(threshold=sys.maxsize)"
   ]
  },
  {
   "cell_type": "code",
   "execution_count": 12,
   "metadata": {
    "Collapsed": "false",
    "executionInfo": {
     "elapsed": 723,
     "status": "ok",
     "timestamp": 1614264392104,
     "user": {
      "displayName": "오진석",
      "photoUrl": "",
      "userId": "12229120938967938448"
     },
     "user_tz": -540
    },
    "id": "Cyupgqp6FXgn"
   },
   "outputs": [],
   "source": [
    "# 실습에 필요한 데이터셋을 읽어서 저장합니다.\r\n",
    "\r\n",
    "# 문서의 제목 목록으로 각 줄이 '[문서 식별자][문서 번호]\\n' \r\n",
    "path_v2n = osp.abspath(osp.join(os.getcwd(), '/content/drive/MyDrive/boostcamp/data/graph/others/vertex2name.txt'))\r\n",
    "\r\n",
    "# 하이퍼링크 목록으로 '[나가는 문서 식별자][들어오는 문서 식별자]\\n'\r\n",
    "path_edges = osp.abspath(osp.join(os.getcwd(), '/content/drive/MyDrive/boostcamp/data/graph/others/edges.txt'))\r\n",
    "\r\n",
    "# keyword(문서의 제목 목록) : deep_learning.txt (딥러닝), lee.txt (이순신), bong.txt(봉준호)\r\n",
    "path_keyword = osp.abspath(osp.join(os.getcwd(), '/content/drive/MyDrive/boostcamp/data/graph/lab/lab3/deep_learning.txt'))"
   ]
  },
  {
   "cell_type": "code",
   "execution_count": 24,
   "metadata": {
    "Collapsed": "false",
    "executionInfo": {
     "elapsed": 38694,
     "status": "ok",
     "timestamp": 1614264666821,
     "user": {
      "displayName": "오진석",
      "photoUrl": "",
      "userId": "12229120938967938448"
     },
     "user_tz": -540
    },
    "id": "3nA_YL5goIcP"
   },
   "outputs": [],
   "source": [
    "G = nx.DiGraph() # 그래프 생성\n",
    "\n",
    "# 엣지 추가\n",
    "f = open(path_edges)\n",
    "for line in f:\n",
    "    v1, v2 = map(int, line.split())\n",
    "    G.add_edge(v1, v2)\n",
    "\n",
    "# 문서 사전\n",
    "n2v = {}\n",
    "v2n = {}\n",
    "f = open(path_v2n)\n",
    "for line in f:\n",
    "    v, n = line.split()\n",
    "    v = int(v)\n",
    "    n = n.rstrip()\n",
    "    n2v[n] = v\n",
    "    v2n[v] = n\n",
    "\n",
    "# \n",
    "node_key = []\n",
    "f = open(path_keyword)\n",
    "for line in f:\n",
    "    v = line.rstrip()\n",
    "    v = int(v)\n",
    "    node_key.append(v)"
   ]
  },
  {
   "cell_type": "code",
   "execution_count": 25,
   "metadata": {
    "Collapsed": "false",
    "executionInfo": {
     "elapsed": 36606,
     "status": "ok",
     "timestamp": 1614264667235,
     "user": {
      "displayName": "오진석",
      "photoUrl": "",
      "userId": "12229120938967938448"
     },
     "user_tz": -540
    },
    "id": "jmgSSZMZIfuG"
   },
   "outputs": [],
   "source": [
    "# 키워드를 포함한 문서들로 이루어진 부분 그래프(subgraph) H를 추출합니다.\r\n",
    "H = G.subgraph(node_key)"
   ]
  },
  {
   "cell_type": "code",
   "execution_count": 26,
   "metadata": {
    "Collapsed": "false",
    "colab": {
     "base_uri": "https://localhost:8080/"
    },
    "executionInfo": {
     "elapsed": 33583,
     "status": "ok",
     "timestamp": 1614264667236,
     "user": {
      "displayName": "오진석",
      "photoUrl": "",
      "userId": "12229120938967938448"
     },
     "user_tz": -540
    },
    "id": "lLSqC046QhYt",
    "outputId": "31316579-112a-4557-88ea-184cd640bc32"
   },
   "outputs": [
    {
     "name": "stdout",
     "output_type": "stream",
     "text": [
      "###### PageRank Algorithm ######\n",
      "딥러닝\n",
      "OpenCV\n",
      "이스트소프트\n",
      "인공지능인문학\n",
      "미분기하학\n",
      "PyTorch\n",
      "라온피플\n",
      "자동긴급제동장치\n",
      "케플러-90i\n",
      "T2d\n"
     ]
    }
   ],
   "source": [
    "# subgraph H에 대해서 pagerank 알고리즘을 시행합니다.\r\n",
    "print(\"###### PageRank Algorithm ######\")\r\n",
    "pr = nx.pagerank(H, alpha = 0.9)\r\n",
    "res = [key for (key, value) in sorted(pr.items(), key=lambda x:x[1], reverse=True)]\r\n",
    "for item in res[:10]:\r\n",
    "    print(v2n[item])"
   ]
  },
  {
   "cell_type": "code",
   "execution_count": null,
   "metadata": {
    "Collapsed": "false",
    "id": "NElpdM5YquaV"
   },
   "outputs": [],
   "source": []
  }
 ],
 "metadata": {
  "colab": {
   "collapsed_sections": [],
   "name": "실습3.ipynb의 사본",
   "provenance": [
    {
     "file_id": "1lLSbueB_iN_urNiDVUvO6w-TPm0s44vX",
     "timestamp": 1614263130157
    }
   ]
  },
  "kernelspec": {
   "display_name": "Python 3",
   "language": "python",
   "name": "python3"
  },
  "language_info": {
   "codemirror_mode": {
    "name": "ipython",
    "version": 3
   },
   "file_extension": ".py",
   "mimetype": "text/x-python",
   "name": "python",
   "nbconvert_exporter": "python",
   "pygments_lexer": "ipython3",
   "version": "3.7.6"
  }
 },
 "nbformat": 4,
 "nbformat_minor": 4
}
