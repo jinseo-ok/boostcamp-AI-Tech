{
 "cells": [
  {
   "cell_type": "code",
   "execution_count": 33,
   "metadata": {
    "Collapsed": "false"
   },
   "outputs": [],
   "source": [
    "import os\n",
    "import sys\n",
    "\n",
    "import requests\n",
    "import json\n",
    "from bs4 import BeautifulSoup\n",
    "from urllib.request import urlretrieve\n",
    "\n",
    "import numpy as np\n",
    "import pandas as pd\n",
    "from tqdm import tqdm\n",
    "\n",
    "import cv2\n",
    "from PIL import Image"
   ]
  },
  {
   "cell_type": "code",
   "execution_count": 90,
   "metadata": {
    "Collapsed": "false"
   },
   "outputs": [],
   "source": [
    "def getRepThumb(category):\n",
    "    \n",
    "    url = f'https://comic.naver.com/webtoon/genre.nhn?genre={category}'\n",
    "    response = requests.get(url)\n",
    "    soup = BeautifulSoup(response.text, 'html.parser')\n",
    "    items = soup.select('div.list_area > ul > li')\n",
    "    \n",
    "    category_endpoints = []\n",
    "    for item in items:\n",
    "        endpoint = 'https://comic.naver.com'\n",
    "        web_url = endpoint + item.select_one('div.thumb > a')['href']\n",
    "        web_title = item.select_one('div.thumb > a')['title']\n",
    "        web_thumb = item.select_one('div.thumb > a > img')['src']\n",
    "        \n",
    "        DATA_PATH = 'dataset'\n",
    "        if not os.path.exists(DATA_PATH):\n",
    "            os.mkdir(DATA_PATH)\n",
    "        \n",
    "        FILE_PATH = os.path.join(DATA_PATH, category)\n",
    "        if not os.path.exists(FILE_PATH):\n",
    "            os.makedirs(FILE_PATH)\n",
    "        \n",
    "        FILE_NAME = FILE_PATH + f'/{web_title}.jpg'\n",
    "        urlretrieve(web_thumb, FILE_NAME)\n",
    "        category_endpoints.append([category, web_title, web_url])\n",
    "        \n",
    "    return category_endpoints"
   ]
  },
  {
   "cell_type": "code",
   "execution_count": 58,
   "metadata": {
    "Collapsed": "false"
   },
   "outputs": [],
   "source": [
    "url = 'https://comic.naver.com/webtoon/genre.nhn?genre=episode'\n",
    "response = requests.get(url)\n",
    "soup = BeautifulSoup(response.text, 'html.parser')\n",
    "categories = soup.select('div.snb > ul.spot > li')\n",
    "categories = [elem.text.strip() for elem in categories]"
   ]
  },
  {
   "cell_type": "code",
   "execution_count": 91,
   "metadata": {
    "Collapsed": "false"
   },
   "outputs": [
    {
     "name": "stderr",
     "output_type": "stream",
     "text": [
      "100%|██████████| 13/13 [00:03<00:00,  3.53it/s]\n"
     ]
    }
   ],
   "source": [
    "web_urls = []\n",
    "for category in tqdm(categories):\n",
    "    category_urls = getRepThumb(category)\n",
    "    web_urls.extend(category_urls)"
   ]
  },
  {
   "cell_type": "code",
   "execution_count": 92,
   "metadata": {
    "Collapsed": "false"
   },
   "outputs": [],
   "source": [
    "webtoon = pd.DataFrame(web_urls, columns = ['category', 'title', 'url'])"
   ]
  },
  {
   "cell_type": "code",
   "execution_count": 95,
   "metadata": {
    "Collapsed": "false"
   },
   "outputs": [
    {
     "data": {
      "text/html": [
       "<div>\n",
       "<style scoped>\n",
       "    .dataframe tbody tr th:only-of-type {\n",
       "        vertical-align: middle;\n",
       "    }\n",
       "\n",
       "    .dataframe tbody tr th {\n",
       "        vertical-align: top;\n",
       "    }\n",
       "\n",
       "    .dataframe thead th {\n",
       "        text-align: right;\n",
       "    }\n",
       "</style>\n",
       "<table border=\"1\" class=\"dataframe\">\n",
       "  <thead>\n",
       "    <tr style=\"text-align: right;\">\n",
       "      <th></th>\n",
       "      <th>category</th>\n",
       "      <th>title</th>\n",
       "      <th>url</th>\n",
       "    </tr>\n",
       "  </thead>\n",
       "  <tbody>\n",
       "    <tr>\n",
       "      <th>0</th>\n",
       "      <td>에피소드</td>\n",
       "      <td>독립일기</td>\n",
       "      <td>https://comic.naver.com/webtoon/list.nhn?title...</td>\n",
       "    </tr>\n",
       "    <tr>\n",
       "      <th>1</th>\n",
       "      <td>에피소드</td>\n",
       "      <td>모죠의 일지</td>\n",
       "      <td>https://comic.naver.com/webtoon/list.nhn?title...</td>\n",
       "    </tr>\n",
       "    <tr>\n",
       "      <th>2</th>\n",
       "      <td>에피소드</td>\n",
       "      <td>한림체육관</td>\n",
       "      <td>https://comic.naver.com/webtoon/list.nhn?title...</td>\n",
       "    </tr>\n",
       "    <tr>\n",
       "      <th>3</th>\n",
       "      <td>에피소드</td>\n",
       "      <td>세상은 돈과 권력</td>\n",
       "      <td>https://comic.naver.com/webtoon/list.nhn?title...</td>\n",
       "    </tr>\n",
       "    <tr>\n",
       "      <th>4</th>\n",
       "      <td>에피소드</td>\n",
       "      <td>지옥급식</td>\n",
       "      <td>https://comic.naver.com/webtoon/list.nhn?title...</td>\n",
       "    </tr>\n",
       "    <tr>\n",
       "      <th>...</th>\n",
       "      <td>...</td>\n",
       "      <td>...</td>\n",
       "      <td>...</td>\n",
       "    </tr>\n",
       "    <tr>\n",
       "      <th>2270</th>\n",
       "      <td>스포츠</td>\n",
       "      <td>가족의 초상</td>\n",
       "      <td>https://comic.naver.com/webtoon/list.nhn?title...</td>\n",
       "    </tr>\n",
       "    <tr>\n",
       "      <th>2271</th>\n",
       "      <td>스포츠</td>\n",
       "      <td>동경소녀</td>\n",
       "      <td>https://comic.naver.com/webtoon/list.nhn?title...</td>\n",
       "    </tr>\n",
       "    <tr>\n",
       "      <th>2272</th>\n",
       "      <td>스포츠</td>\n",
       "      <td>한스와 에밀리</td>\n",
       "      <td>https://comic.naver.com/webtoon/list.nhn?title...</td>\n",
       "    </tr>\n",
       "    <tr>\n",
       "      <th>2273</th>\n",
       "      <td>스포츠</td>\n",
       "      <td>징글정글</td>\n",
       "      <td>https://comic.naver.com/webtoon/list.nhn?title...</td>\n",
       "    </tr>\n",
       "    <tr>\n",
       "      <th>2274</th>\n",
       "      <td>스포츠</td>\n",
       "      <td>우리 안의 주</td>\n",
       "      <td>https://comic.naver.com/webtoon/list.nhn?title...</td>\n",
       "    </tr>\n",
       "  </tbody>\n",
       "</table>\n",
       "<p>2275 rows × 3 columns</p>\n",
       "</div>"
      ],
      "text/plain": [
       "     category      title                                                url\n",
       "0        에피소드       독립일기  https://comic.naver.com/webtoon/list.nhn?title...\n",
       "1        에피소드     모죠의 일지  https://comic.naver.com/webtoon/list.nhn?title...\n",
       "2        에피소드      한림체육관  https://comic.naver.com/webtoon/list.nhn?title...\n",
       "3        에피소드  세상은 돈과 권력  https://comic.naver.com/webtoon/list.nhn?title...\n",
       "4        에피소드       지옥급식  https://comic.naver.com/webtoon/list.nhn?title...\n",
       "...       ...        ...                                                ...\n",
       "2270      스포츠     가족의 초상  https://comic.naver.com/webtoon/list.nhn?title...\n",
       "2271      스포츠       동경소녀  https://comic.naver.com/webtoon/list.nhn?title...\n",
       "2272      스포츠    한스와 에밀리  https://comic.naver.com/webtoon/list.nhn?title...\n",
       "2273      스포츠       징글정글  https://comic.naver.com/webtoon/list.nhn?title...\n",
       "2274      스포츠    우리 안의 주  https://comic.naver.com/webtoon/list.nhn?title...\n",
       "\n",
       "[2275 rows x 3 columns]"
      ]
     },
     "execution_count": 95,
     "metadata": {},
     "output_type": "execute_result"
    }
   ],
   "source": [
    "webtoon"
   ]
  },
  {
   "cell_type": "code",
   "execution_count": 123,
   "metadata": {
    "Collapsed": "false"
   },
   "outputs": [],
   "source": [
    "def getdetailThumbs(url):\n",
    "    thumb_list = []\n",
    "    for i in range(1, 3):\n",
    "        try:\n",
    "            url = url + f\"&page={i}\"\n",
    "            response = requests.get(url)\n",
    "            soup = BeautifulSoup(response.text, 'html.parser')\n",
    "            items = soup.select('tr > td > a > img')\n",
    "        \n",
    "        \n",
    "            for item in items:\n",
    "                if item['alt'] == 'AD 배너':\n",
    "                    continue\n",
    "\n",
    "                thumb_list.append(item['src'])\n",
    "        except:\n",
    "            pass\n",
    "            \n",
    "    return thumb_list"
   ]
  },
  {
   "cell_type": "code",
   "execution_count": 125,
   "metadata": {
    "Collapsed": "false"
   },
   "outputs": [
    {
     "name": "stderr",
     "output_type": "stream",
     "text": [
      "100%|██████████| 2275/2275 [55:37<00:00,  1.47s/it] \n"
     ]
    }
   ],
   "source": [
    "for category, title, url in tqdm(webtoon.values):\n",
    "    \n",
    "    thumb_list = getdetailThumbs(url)\n",
    "    \n",
    "    for i, thumb in enumerate(thumb_list, start = 1):\n",
    "        FILE_NAME = os.path.join('dataset', category, f'{title}_{i}.jpg')\n",
    "        urlretrieve(thumb, FILE_NAME)"
   ]
  },
  {
   "cell_type": "code",
   "execution_count": 127,
   "metadata": {
    "Collapsed": "false"
   },
   "outputs": [],
   "source": [
    "file_num = 0\n",
    "categories = os.listdir('./dataset')\n",
    "\n",
    "for category in categories:\n",
    "    FILE_PATH = os.path.join('dataset', category)\n",
    "    file_num += len(os.listdir(FILE_PATH))"
   ]
  },
  {
   "cell_type": "code",
   "execution_count": 128,
   "metadata": {
    "Collapsed": "false"
   },
   "outputs": [
    {
     "name": "stdout",
     "output_type": "stream",
     "text": [
      "42030\n"
     ]
    }
   ],
   "source": [
    "print(file_num)"
   ]
  },
  {
   "cell_type": "code",
   "execution_count": null,
   "metadata": {
    "Collapsed": "false"
   },
   "outputs": [],
   "source": []
  }
 ],
 "metadata": {
  "kernelspec": {
   "display_name": "Python 3",
   "language": "python",
   "name": "python3"
  },
  "language_info": {
   "codemirror_mode": {
    "name": "ipython",
    "version": 3
   },
   "file_extension": ".py",
   "mimetype": "text/x-python",
   "name": "python",
   "nbconvert_exporter": "python",
   "pygments_lexer": "ipython3",
   "version": "3.7.6"
  }
 },
 "nbformat": 4,
 "nbformat_minor": 4
}
