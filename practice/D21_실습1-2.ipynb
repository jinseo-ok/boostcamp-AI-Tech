{
 "cells": [
  {
   "cell_type": "markdown",
   "metadata": {
    "Collapsed": "false",
    "id": "NbktdZHHN39k"
   },
   "source": [
    "**Lab 1-2 : Graph Representation**\r\n",
    "- Instuctor : Kijung Shin\r\n",
    "- Teaching Assistants : Deukryeol Yoon(main), Hyunju Lee, Shinhwan Kang \r\n",
    "- 본 실습에서는 그래프를 표현할 수 있는 다양한 방법에 대해서 알아본다.\r\n"
   ]
  },
  {
   "cell_type": "code",
   "execution_count": 8,
   "metadata": {
    "Collapsed": "false",
    "executionInfo": {
     "elapsed": 515,
     "status": "ok",
     "timestamp": 1613991663548,
     "user": {
      "displayName": "오진석",
      "photoUrl": "",
      "userId": "12229120938967938448"
     },
     "user_tz": -540
    },
    "id": "sWhLNsYSOI33"
   },
   "outputs": [
    {
     "ename": "SyntaxError",
     "evalue": "invalid syntax (<ipython-input-8-a1d284b79aa4>, line 2)",
     "output_type": "error",
     "traceback": [
      "\u001b[0;36m  File \u001b[0;32m\"<ipython-input-8-a1d284b79aa4>\"\u001b[0;36m, line \u001b[0;32m2\u001b[0m\n\u001b[0;31m    import numpy as np)\u001b[0m\n\u001b[0m                      ^\u001b[0m\n\u001b[0;31mSyntaxError\u001b[0m\u001b[0;31m:\u001b[0m invalid syntax\n"
     ]
    }
   ],
   "source": [
    "import sys\n",
    "import numpy as np)\r\n",
    "np.set_printoptions(threshold=sys.maxsize)"
   ]
  },
  {
   "cell_type": "code",
   "execution_count": 6,
   "metadata": {
    "Collapsed": "false",
    "executionInfo": {
     "elapsed": 847,
     "status": "ok",
     "timestamp": 1613992175889,
     "user": {
      "displayName": "오진석",
      "photoUrl": "",
      "userId": "12229120938967938448"
     },
     "user_tz": -540
    },
    "id": "DkyLF9r4fiLl"
   },
   "outputs": [
    {
     "ename": "NameError",
     "evalue": "name 'importdrive' is not defined",
     "output_type": "error",
     "traceback": [
      "\u001b[0;31m---------------------------------------------------------------------------\u001b[0m",
      "\u001b[0;31mNameError\u001b[0m                                 Traceback (most recent call last)",
      "\u001b[0;32m<ipython-input-6-d468d4e4e888>\u001b[0m in \u001b[0;36m<module>\u001b[0;34m\u001b[0m\n\u001b[1;32m      3\u001b[0m \u001b[0;32mimport\u001b[0m \u001b[0mos\u001b[0m\u001b[0;34m.\u001b[0m\u001b[0mpath\u001b[0m \u001b[0;32mas\u001b[0m \u001b[0mosp\u001b[0m\u001b[0;34m\u001b[0m\u001b[0;34m\u001b[0m\u001b[0m\n\u001b[1;32m      4\u001b[0m \u001b[0;32mimport\u001b[0m \u001b[0mnumpy\u001b[0m \u001b[0;32mas\u001b[0m \u001b[0mnp\u001b[0m\u001b[0;34m\u001b[0m\u001b[0;34m\u001b[0m\u001b[0m\n\u001b[0;32m----> 5\u001b[0;31m \u001b[0mimportdrive\u001b[0m\u001b[0;34m\u001b[0m\u001b[0;34m\u001b[0m\u001b[0m\n\u001b[0m\u001b[1;32m      6\u001b[0m \u001b[0mG\u001b[0m \u001b[0;34m=\u001b[0m \u001b[0mnx\u001b[0m\u001b[0;34m.\u001b[0m\u001b[0mGraph\u001b[0m\u001b[0;34m(\u001b[0m\u001b[0;34m)\u001b[0m\u001b[0;34m\u001b[0m\u001b[0;34m\u001b[0m\u001b[0m\n\u001b[1;32m      7\u001b[0m \u001b[0mDiGraph\u001b[0m \u001b[0;34m=\u001b[0m \u001b[0mnx\u001b[0m\u001b[0;34m.\u001b[0m\u001b[0mDiGraph\u001b[0m\u001b[0;34m(\u001b[0m\u001b[0;34m)\u001b[0m\u001b[0;34m\u001b[0m\u001b[0;34m\u001b[0m\u001b[0m\n",
      "\u001b[0;31mNameError\u001b[0m: name 'importdrive' is not defined"
     ]
    }
   ],
   "source": [
    "import networkx as nx\r\n",
    "import os                                   \r\n",
    "import os.path as osp                       \r\n",
    "import numpy as np\r\n",
    "importdrive\r\n",
    "G = nx.Graph()\r\n",
    "DiGraph = nx.DiGraph()"
   ]
  },
  {
   "cell_type": "code",
   "execution_count": 9,
   "metadata": {
    "Collapsed": "false",
    "colab": {
     "base_uri": "https://localhost:8080/",
     "height": 52
    },
    "executionInfo": {
     "elapsed": 1118,
     "status": "ok",
     "timestamp": 1613992063115,
     "user": {
      "displayName": "오진석",
      "photoUrl": "",
      "userId": "12229120938967938448"
     },
     "user_tz": -540
    },
    "id": "e2BjEZj0hfWh",
    "outputId": "7a3717f7-3645-4a34-a2ba-f9112236339c"
   },
   "outputs": [
    {
     "name": "stdout",
     "output_type": "stream",
     "text": [
      "###### Read Graphs ######\n"
     ]
    },
    {
     "data": {
      "application/vnd.google.colaboratory.intrinsic+json": {
       "type": "string"
      },
      "text/plain": [
       "'/content/drive/MyDrive/boostcamp/data/graph/lab/lab1/small_cycle.txt'"
      ]
     },
     "execution_count": 9,
     "metadata": {
      "tags": []
     },
     "output_type": "execute_result"
    }
   ],
   "source": [
    "# 10개의 node로 이루어진, 원 모양의 그래프 정보를 가져옵니다.\r\n",
    "# 각 데이터셋은 edge 형태로 저장되어 있습니다.\r\n",
    "print(\"###### Read Graphs ######\")\r\n",
    "data = osp.abspath(osp.join(os.getcwd(), '/content/drive/MyDrive/boostcamp/data/graph/lab/lab1/small_cycle.txt'))\r\n",
    "\r\n",
    "data"
   ]
  },
  {
   "cell_type": "code",
   "execution_count": 15,
   "metadata": {
    "Collapsed": "false",
    "colab": {
     "base_uri": "https://localhost:8080/"
    },
    "executionInfo": {
     "elapsed": 839,
     "status": "ok",
     "timestamp": 1613992178962,
     "user": {
      "displayName": "오진석",
      "photoUrl": "",
      "userId": "12229120938967938448"
     },
     "user_tz": -540
    },
    "id": "CtUTmjyibHsS",
    "outputId": "3b1a9c49-3174-49aa-98f6-1ba2d82a54ef"
   },
   "outputs": [
    {
     "name": "stdout",
     "output_type": "stream",
     "text": [
      "[(1, 2), (1, 10), (2, 3), (3, 4), (4, 5), (5, 6), (6, 7), (7, 8), (8, 9), (9, 10)]\n"
     ]
    }
   ],
   "source": [
    "f = open(data)\n",
    "for line in f:                                                               # 파일의 각 라인은 v1 v2 형태로 저장되어있습니다.\n",
    "\tv1, v2 = list(map(int, line.split()))                                      # 각 라인을 읽어 space를 기준으로 split해주고 이를 integer mapping해줍니다.\n",
    "\tG.add_edge(v1, v2)\n",
    "\n",
    "print(G.edges)"
   ]
  },
  {
   "cell_type": "code",
   "execution_count": 16,
   "metadata": {
    "Collapsed": "false",
    "colab": {
     "base_uri": "https://localhost:8080/"
    },
    "executionInfo": {
     "elapsed": 948,
     "status": "ok",
     "timestamp": 1613992181508,
     "user": {
      "displayName": "오진석",
      "photoUrl": "",
      "userId": "12229120938967938448"
     },
     "user_tz": -540
    },
    "id": "GgFqyeCBj1qL",
    "outputId": "3e62557b-e742-4f11-83c5-c333131490d8"
   },
   "outputs": [
    {
     "name": "stdout",
     "output_type": "stream",
     "text": [
      "###### Graph to List ######\n"
     ]
    }
   ],
   "source": [
    "# 그래프를 인접 리스트로 저장\r\n",
    "print(\"###### Graph to List ######\")                                     \r\n",
    "ListGraph = nx.to_dict_of_lists(G)\r\n",
    "for v in DiGraph:\r\n",
    "    print(str(v) + \" : \" + str(ListGraph[v]))"
   ]
  },
  {
   "cell_type": "code",
   "execution_count": 19,
   "metadata": {
    "Collapsed": "false",
    "colab": {
     "base_uri": "https://localhost:8080/"
    },
    "executionInfo": {
     "elapsed": 957,
     "status": "ok",
     "timestamp": 1613992197609,
     "user": {
      "displayName": "오진석",
      "photoUrl": "",
      "userId": "12229120938967938448"
     },
     "user_tz": -540
    },
    "id": "2NPY0OBMbkz5",
    "outputId": "fc3efa64-61bd-4680-fdf6-1140288587d0"
   },
   "outputs": [
    {
     "data": {
      "text/plain": [
       "{1: [2, 10],\n",
       " 2: [1, 3],\n",
       " 3: [2, 4],\n",
       " 4: [3, 5],\n",
       " 5: [4, 6],\n",
       " 6: [5, 7],\n",
       " 7: [6, 8],\n",
       " 8: [7, 9],\n",
       " 9: [8, 10],\n",
       " 10: [9, 1]}"
      ]
     },
     "execution_count": 19,
     "metadata": {
      "tags": []
     },
     "output_type": "execute_result"
    }
   ],
   "source": [
    "ListGraph"
   ]
  },
  {
   "cell_type": "code",
   "execution_count": null,
   "metadata": {
    "Collapsed": "false",
    "colab": {
     "base_uri": "https://localhost:8080/"
    },
    "executionInfo": {
     "elapsed": 765,
     "status": "ok",
     "timestamp": 1609816951382,
     "user": {
      "displayName": "윤득렬",
      "photoUrl": "",
      "userId": "09323511381889997844"
     },
     "user_tz": -540
    },
    "id": "_OGDOnBIj3Vf",
    "outputId": "0a068fc2-c9e6-4ffb-9bdb-3f0c57abae3b"
   },
   "outputs": [
    {
     "name": "stdout",
     "output_type": "stream",
     "text": [
      "###### Graph to EdgeList ######\n",
      "[(1, 2, {}), (1, 10, {}), (2, 3, {}), (3, 4, {}), (4, 5, {}), (5, 6, {}), (6, 7, {}), (7, 8, {}), (8, 9, {}), (9, 10, {})]\n",
      "1 2\n",
      "1 10\n",
      "2 3\n",
      "3 4\n",
      "4 5\n",
      "5 6\n",
      "6 7\n",
      "7 8\n",
      "8 9\n",
      "9 10\n"
     ]
    }
   ],
   "source": [
    "# 그래프를 간선 리스트로 저장\r\n",
    "print(\"###### Graph to EdgeList ######\")                                  \r\n",
    "EdgeListGraph = nx.to_edgelist(G)                                     \r\n",
    "for e in EdgeListGraph:\r\n",
    "    v1, v2, w = e\r\n",
    "    print(v1, v2)"
   ]
  },
  {
   "cell_type": "code",
   "execution_count": null,
   "metadata": {
    "Collapsed": "false",
    "colab": {
     "base_uri": "https://localhost:8080/"
    },
    "executionInfo": {
     "elapsed": 938,
     "status": "ok",
     "timestamp": 1609817235579,
     "user": {
      "displayName": "윤득렬",
      "photoUrl": "",
      "userId": "09323511381889997844"
     },
     "user_tz": -540
    },
    "id": "tv7_ixfRlIXf",
    "outputId": "7ada88b6-68a0-4d27-c586-e37830a06631"
   },
   "outputs": [
    {
     "name": "stdout",
     "output_type": "stream",
     "text": [
      "###### Graph to numpy array ######\n",
      "[[0. 1. 0. 0. 0. 0. 0. 0. 0. 1.]\n",
      " [1. 0. 1. 0. 0. 0. 0. 0. 0. 0.]\n",
      " [0. 1. 0. 1. 0. 0. 0. 0. 0. 0.]\n",
      " [0. 0. 1. 0. 1. 0. 0. 0. 0. 0.]\n",
      " [0. 0. 0. 1. 0. 1. 0. 0. 0. 0.]\n",
      " [0. 0. 0. 0. 1. 0. 1. 0. 0. 0.]\n",
      " [0. 0. 0. 0. 0. 1. 0. 1. 0. 0.]\n",
      " [0. 0. 0. 0. 0. 0. 1. 0. 1. 0.]\n",
      " [0. 0. 0. 0. 0. 0. 0. 1. 0. 1.]\n",
      " [1. 0. 0. 0. 0. 0. 0. 0. 1. 0.]]\n"
     ]
    }
   ],
   "source": [
    "# 그래프를 인접 행렬(일반 행렬)로 저장\r\n",
    "print(\"###### Graph to numpy array ######\")\r\n",
    "NumpyArrayGraph = nx.to_numpy_array(G)                                    \r\n",
    "print(NumpyArrayGraph)\r\n"
   ]
  },
  {
   "cell_type": "code",
   "execution_count": null,
   "metadata": {
    "Collapsed": "false",
    "colab": {
     "base_uri": "https://localhost:8080/"
    },
    "executionInfo": {
     "elapsed": 954,
     "status": "ok",
     "timestamp": 1609817326050,
     "user": {
      "displayName": "윤득렬",
      "photoUrl": "",
      "userId": "09323511381889997844"
     },
     "user_tz": -540
    },
    "id": "BEKbfomjlZU-",
    "outputId": "b068b5f1-ae83-4130-8e19-ba3c6321d793"
   },
   "outputs": [
    {
     "name": "stdout",
     "output_type": "stream",
     "text": [
      "###### Graph to Spicy sparse matrix ######\n",
      "  (0, 1)\t1\n",
      "  (0, 9)\t1\n",
      "  (1, 0)\t1\n",
      "  (1, 2)\t1\n",
      "  (2, 1)\t1\n",
      "  (2, 3)\t1\n",
      "  (3, 2)\t1\n",
      "  (3, 4)\t1\n",
      "  (4, 3)\t1\n",
      "  (4, 5)\t1\n",
      "  (5, 4)\t1\n",
      "  (5, 6)\t1\n",
      "  (6, 5)\t1\n",
      "  (6, 7)\t1\n",
      "  (7, 6)\t1\n",
      "  (7, 8)\t1\n",
      "  (8, 7)\t1\n",
      "  (8, 9)\t1\n",
      "  (9, 0)\t1\n",
      "  (9, 8)\t1\n"
     ]
    }
   ],
   "source": [
    "# 그래프를 인접 행렬(희소 행렬)로 저장\r\n",
    "print(\"###### Graph to Spicy sparse matrix ######\")\r\n",
    "SparseMatrixGraph = nx.to_scipy_sparse_matrix(G)                       \r\n",
    "print(SparseMatrixGraph)"
   ]
  }
 ],
 "metadata": {
  "colab": {
   "collapsed_sections": [],
   "name": "W05_D21_실습1-2.ipynb",
   "provenance": [
    {
     "file_id": "1K9oT8cHKYNYhsgJkcak80u37G9XlL-LL",
     "timestamp": 1613990957094
    }
   ]
  },
  "kernelspec": {
   "display_name": "Python 3",
   "language": "python",
   "name": "python3"
  },
  "language_info": {
   "codemirror_mode": {
    "name": "ipython",
    "version": 3
   },
   "file_extension": ".py",
   "mimetype": "text/x-python",
   "name": "python",
   "nbconvert_exporter": "python",
   "pygments_lexer": "ipython3",
   "version": "3.7.6"
  }
 },
 "nbformat": 4,
 "nbformat_minor": 4
}
