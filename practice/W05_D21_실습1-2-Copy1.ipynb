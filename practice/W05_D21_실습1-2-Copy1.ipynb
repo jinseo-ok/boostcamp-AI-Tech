{
 "cells": [
  {
   "cell_type": "markdown",
   "metadata": {
    "Collapsed": "false",
    "id": "NbktdZHHN39k"
   },
   "source": [
    "**Lab 1-2 : Graph Representation**\r\n",
    "- Instuctor : Kijung Shin\r\n",
    "- Teaching Assistants : Deukryeol Yoon(main), Hyunju Lee, Shinhwan Kang \r\n",
    "- 본 실습에서는 그래프를 표현할 수 있는 다양한 방법에 대해서 알아본다.\r\n"
   ]
  },
  {
   "cell_type": "code",
   "execution_count": 1,
   "metadata": {
    "Collapsed": "false",
    "executionInfo": {
     "elapsed": 515,
     "status": "ok",
     "timestamp": 1613991663548,
     "user": {
      "displayName": "오진석",
      "photoUrl": "",
      "userId": "12229120938967938448"
     },
     "user_tz": -540
    },
    "id": "sWhLNsYSOI33"
   },
   "outputs": [],
   "source": [
    "import sys\n",
    "import numpy as np\r\n",
    "np.set_printoptions(threshold=sys.maxsize)"
   ]
  },
  {
   "cell_type": "code",
   "execution_count": 20,
   "metadata": {
    "Collapsed": "false",
    "executionInfo": {
     "elapsed": 847,
     "status": "ok",
     "timestamp": 1613992175889,
     "user": {
      "displayName": "오진석",
      "photoUrl": "",
      "userId": "12229120938967938448"
     },
     "user_tz": -540
    },
    "id": "DkyLF9r4fiLl"
   },
   "outputs": [],
   "source": [
    "import networkx as nx\r\n",
    "import os                                   \r\n",
    "import os.path as osp                       \r\n",
    "import numpy as rive\r\n",
    "G = nx.Graph()\r\n",
    "DiGraph = nx.DiGraph()"
   ]
  },
  {
   "cell_type": "code",
   "execution_count": 5,
   "metadata": {
    "Collapsed": "false"
   },
   "outputs": [
    {
     "data": {
      "text/plain": [
       "(<networkx.classes.graph.Graph at 0x7ff9e4185e50>,\n",
       " <networkx.classes.digraph.DiGraph at 0x7ff9e4185cd0>)"
      ]
     },
     "execution_count": 5,
     "metadata": {},
     "output_type": "execute_result"
    }
   ],
   "source": [
    "G, DiGraph"
   ]
  },
  {
   "cell_type": "code",
   "execution_count": 27,
   "metadata": {
    "Collapsed": "false"
   },
   "outputs": [
    {
     "data": {
      "text/plain": [
       "NodeView(())"
      ]
     },
     "execution_count": 27,
     "metadata": {},
     "output_type": "execute_result"
    }
   ],
   "source": [
    "G.nodes"
   ]
  },
  {
   "cell_type": "code",
   "execution_count": 28,
   "metadata": {
    "Collapsed": "false"
   },
   "outputs": [
    {
     "name": "stdout",
     "output_type": "stream",
     "text": [
      "###### Read Graphs ######\n"
     ]
    }
   ],
   "source": [
    "# 10개의 node로 이루어진, 원 모양의 그래프 정보를 가져옵니다.\n",
    "# 각 데이터셋은 edge 형태로 저장되어 있습니다.\n",
    "\n",
    "print(\"###### Read Graphs ######\")\n",
    "PATH = os.path.join('graph', 'lab', 'lab1', 'small_cycle.txt')"
   ]
  },
  {
   "cell_type": "code",
   "execution_count": 66,
   "metadata": {
    "Collapsed": "false",
    "colab": {
     "base_uri": "https://localhost:8080/"
    },
    "executionInfo": {
     "elapsed": 839,
     "status": "ok",
     "timestamp": 1613992178962,
     "user": {
      "displayName": "오진석",
      "photoUrl": "",
      "userId": "12229120938967938448"
     },
     "user_tz": -540
    },
    "id": "CtUTmjyibHsS",
    "outputId": "3b1a9c49-3174-49aa-98f6-1ba2d82a54ef"
   },
   "outputs": [
    {
     "name": "stdout",
     "output_type": "stream",
     "text": [
      "[(1, 10), (1, 2), (2, 3), (3, 4), (4, 5), (5, 6), (6, 7), (7, 8), (8, 9), (9, 10)]\n"
     ]
    }
   ],
   "source": [
    "f = open(PATH)\n",
    "for line in f:                                                               # 파일의 각 라인은 v1 v2 형태로 저장되어있습니다.\n",
    "\tv1, v2 = list(map(int, line.split()))                                      # 각 라인을 읽어 space를 기준으로 split해주고 이를 integer mapping해줍니다.\n",
    "\tG.add_edge(v1, v2)\n",
    "\n",
    "print(G.edges)"
   ]
  },
  {
   "cell_type": "code",
   "execution_count": 30,
   "metadata": {
    "Collapsed": "false",
    "colab": {
     "base_uri": "https://localhost:8080/"
    },
    "executionInfo": {
     "elapsed": 948,
     "status": "ok",
     "timestamp": 1613992181508,
     "user": {
      "displayName": "오진석",
      "photoUrl": "",
      "userId": "12229120938967938448"
     },
     "user_tz": -540
    },
    "id": "GgFqyeCBj1qL",
    "outputId": "3e62557b-e742-4f11-83c5-c333131490d8"
   },
   "outputs": [
    {
     "name": "stdout",
     "output_type": "stream",
     "text": [
      "###### Graph to List ######\n"
     ]
    }
   ],
   "source": [
    "# 그래프를 인접 리스트로 저장\r\n",
    "print(\"###### Graph to List ######\")                                     \r\n",
    "ListGraph = nx.to_dict_of_lists(G)\r\n",
    "for v in DiGraph:\r\n",
    "    print(str(v) + \" : \" + str(ListGraph[v]))"
   ]
  },
  {
   "cell_type": "code",
   "execution_count": 31,
   "metadata": {
    "Collapsed": "false",
    "colab": {
     "base_uri": "https://localhost:8080/"
    },
    "executionInfo": {
     "elapsed": 957,
     "status": "ok",
     "timestamp": 1613992197609,
     "user": {
      "displayName": "오진석",
      "photoUrl": "",
      "userId": "12229120938967938448"
     },
     "user_tz": -540
    },
    "id": "2NPY0OBMbkz5",
    "outputId": "fc3efa64-61bd-4680-fdf6-1140288587d0"
   },
   "outputs": [
    {
     "data": {
      "text/plain": [
       "{1: [2, 10],\n",
       " 2: [1, 3],\n",
       " 3: [2, 4],\n",
       " 4: [3, 5],\n",
       " 5: [4, 6],\n",
       " 6: [5, 7],\n",
       " 7: [6, 8],\n",
       " 8: [7, 9],\n",
       " 9: [8, 10],\n",
       " 10: [9, 1]}"
      ]
     },
     "execution_count": 31,
     "metadata": {},
     "output_type": "execute_result"
    }
   ],
   "source": [
    "ListGraph"
   ]
  },
  {
   "cell_type": "code",
   "execution_count": 32,
   "metadata": {
    "Collapsed": "false",
    "colab": {
     "base_uri": "https://localhost:8080/"
    },
    "executionInfo": {
     "elapsed": 765,
     "status": "ok",
     "timestamp": 1609816951382,
     "user": {
      "displayName": "윤득렬",
      "photoUrl": "",
      "userId": "09323511381889997844"
     },
     "user_tz": -540
    },
    "id": "_OGDOnBIj3Vf",
    "outputId": "0a068fc2-c9e6-4ffb-9bdb-3f0c57abae3b"
   },
   "outputs": [
    {
     "name": "stdout",
     "output_type": "stream",
     "text": [
      "###### Graph to EdgeList ######\n",
      "1 2\n",
      "1 10\n",
      "2 3\n",
      "3 4\n",
      "4 5\n",
      "5 6\n",
      "6 7\n",
      "7 8\n",
      "8 9\n",
      "9 10\n"
     ]
    }
   ],
   "source": [
    "# 그래프를 간선 리스트로 저장\r\n",
    "print(\"###### Graph to EdgeList ######\")                                  \r\n",
    "EdgeListGraph = nx.to_edgelist(G)                                     \r\n",
    "for e in EdgeListGraph:\r\n",
    "    v1, v2, w = e\r\n",
    "    print(v1, v2)"
   ]
  },
  {
   "cell_type": "code",
   "execution_count": 33,
   "metadata": {
    "Collapsed": "false",
    "colab": {
     "base_uri": "https://localhost:8080/"
    },
    "executionInfo": {
     "elapsed": 938,
     "status": "ok",
     "timestamp": 1609817235579,
     "user": {
      "displayName": "윤득렬",
      "photoUrl": "",
      "userId": "09323511381889997844"
     },
     "user_tz": -540
    },
    "id": "tv7_ixfRlIXf",
    "outputId": "7ada88b6-68a0-4d27-c586-e37830a06631"
   },
   "outputs": [
    {
     "name": "stdout",
     "output_type": "stream",
     "text": [
      "###### Graph to numpy array ######\n",
      "[[0. 1. 0. 0. 0. 0. 0. 0. 0. 1.]\n",
      " [1. 0. 1. 0. 0. 0. 0. 0. 0. 0.]\n",
      " [0. 1. 0. 1. 0. 0. 0. 0. 0. 0.]\n",
      " [0. 0. 1. 0. 1. 0. 0. 0. 0. 0.]\n",
      " [0. 0. 0. 1. 0. 1. 0. 0. 0. 0.]\n",
      " [0. 0. 0. 0. 1. 0. 1. 0. 0. 0.]\n",
      " [0. 0. 0. 0. 0. 1. 0. 1. 0. 0.]\n",
      " [0. 0. 0. 0. 0. 0. 1. 0. 1. 0.]\n",
      " [0. 0. 0. 0. 0. 0. 0. 1. 0. 1.]\n",
      " [1. 0. 0. 0. 0. 0. 0. 0. 1. 0.]]\n"
     ]
    }
   ],
   "source": [
    "# 그래프를 인접 행렬(일반 행렬)로 저장\r\n",
    "print(\"###### Graph to numpy array ######\")\r\n",
    "NumpyArrayGraph = nx.to_numpy_array(G)                                    \r\n",
    "print(NumpyArrayGraph)\r\n"
   ]
  },
  {
   "cell_type": "code",
   "execution_count": 34,
   "metadata": {
    "Collapsed": "false",
    "colab": {
     "base_uri": "https://localhost:8080/"
    },
    "executionInfo": {
     "elapsed": 954,
     "status": "ok",
     "timestamp": 1609817326050,
     "user": {
      "displayName": "윤득렬",
      "photoUrl": "",
      "userId": "09323511381889997844"
     },
     "user_tz": -540
    },
    "id": "BEKbfomjlZU-",
    "outputId": "b068b5f1-ae83-4130-8e19-ba3c6321d793"
   },
   "outputs": [
    {
     "name": "stdout",
     "output_type": "stream",
     "text": [
      "###### Graph to Spicy sparse matrix ######\n",
      "  (0, 1)\t1\n",
      "  (0, 9)\t1\n",
      "  (1, 0)\t1\n",
      "  (1, 2)\t1\n",
      "  (2, 1)\t1\n",
      "  (2, 3)\t1\n",
      "  (3, 2)\t1\n",
      "  (3, 4)\t1\n",
      "  (4, 3)\t1\n",
      "  (4, 5)\t1\n",
      "  (5, 4)\t1\n",
      "  (5, 6)\t1\n",
      "  (6, 5)\t1\n",
      "  (6, 7)\t1\n",
      "  (7, 6)\t1\n",
      "  (7, 8)\t1\n",
      "  (8, 7)\t1\n",
      "  (8, 9)\t1\n",
      "  (9, 0)\t1\n",
      "  (9, 8)\t1\n"
     ]
    }
   ],
   "source": [
    "# 그래프를 인접 행렬(희소 행렬)로 저장\r\n",
    "print(\"###### Graph to Spicy sparse matrix ######\")\r\n",
    "SparseMatrixGraph = nx.to_scipy_sparse_matrix(G)                       \r\n",
    "print(SparseMatrixGraph)"
   ]
  },
  {
   "cell_type": "code",
   "execution_count": 37,
   "metadata": {
    "Collapsed": "false"
   },
   "outputs": [
    {
     "data": {
      "text/plain": [
       "(10, NodeView((1, 2, 3, 4, 5, 6, 7, 8, 9, 10)))"
      ]
     },
     "execution_count": 37,
     "metadata": {},
     "output_type": "execute_result"
    }
   ],
   "source": [
    "len(G.nodes), G.nodes"
   ]
  },
  {
   "cell_type": "code",
   "execution_count": 51,
   "metadata": {
    "Collapsed": "false"
   },
   "outputs": [
    {
     "data": {
      "text/plain": [
       "EdgeView([(1, 10), (1, 2), (2, 3), (3, 4), (4, 5), (5, 6), (6, 7), (7, 8), (8, 9), (9, 10)])"
      ]
     },
     "execution_count": 51,
     "metadata": {},
     "output_type": "execute_result"
    }
   ],
   "source": [
    "G.edges"
   ]
  },
  {
   "cell_type": "code",
   "execution_count": 68,
   "metadata": {
    "Collapsed": "false"
   },
   "outputs": [
    {
     "data": {
      "text/plain": [
       "[10, 2]"
      ]
     },
     "execution_count": 68,
     "metadata": {},
     "output_type": "execute_result"
    }
   ],
   "source": [
    "adj_nodes = [k for k in G.adj[1]]\n",
    "adj_nodes"
   ]
  },
  {
   "cell_type": "code",
   "execution_count": 69,
   "metadata": {
    "Collapsed": "false"
   },
   "outputs": [
    {
     "name": "stdout",
     "output_type": "stream",
     "text": [
      "10\n",
      "2\n"
     ]
    }
   ],
   "source": [
    "for k in adj_nodes:\n",
    "    print(k)\n",
    "    G.remove_edge(k, 1)"
   ]
  },
  {
   "cell_type": "code",
   "execution_count": 70,
   "metadata": {
    "Collapsed": "false"
   },
   "outputs": [
    {
     "data": {
      "text/plain": [
       "EdgeView([(2, 3), (3, 4), (4, 5), (5, 6), (6, 7), (7, 8), (8, 9), (9, 10)])"
      ]
     },
     "execution_count": 70,
     "metadata": {},
     "output_type": "execute_result"
    }
   ],
   "source": [
    "G.edges"
   ]
  },
  {
   "cell_type": "code",
   "execution_count": 81,
   "metadata": {
    "Collapsed": "false"
   },
   "outputs": [],
   "source": [
    "#-*- coding:utf-8 -*-\n",
    "import os\n",
    "import os.path as osp\n",
    "import time\n",
    "from collections import defaultdict\n",
    "from typing import DefaultDict, Dict, Set, TextIO, Tuple, Union, List\n",
    "import numpy as np\n",
    "import sys\n",
    "from abc import *\n",
    "np.set_printoptions(threshold=sys.maxsize)"
   ]
  },
  {
   "cell_type": "code",
   "execution_count": 82,
   "metadata": {
    "Collapsed": "false"
   },
   "outputs": [],
   "source": [
    "###################################################\n",
    "#   Abstract Graph class                          #\n",
    "#                                                 #\n",
    "###################################################\n",
    "class DiGraph(metaclass=ABCMeta):\n",
    "    \n",
    "    @abstractmethod\n",
    "    def __str__(self):\n",
    "        pass\n",
    "    \n",
    "    @abstractmethod\n",
    "    def nodes(self) -> Set[int]:\n",
    "        pass\n",
    "\n",
    "    @abstractmethod\n",
    "    def edges(self) -> List[Tuple[int, int]]:\n",
    "        pass\n",
    "    \n",
    "    @abstractmethod\n",
    "    def add_vertex(self, v: int) -> None:\n",
    "        pass\n",
    "    \n",
    "    @abstractmethod\n",
    "    def remove_vertex(self, v: int) -> None:\n",
    "        pass\n",
    "\n",
    "    @abstractmethod\n",
    "    def add_edge(self, src: int, dst: int) -> None:\n",
    "        pass\n",
    "\n",
    "    @abstractmethod\n",
    "    def remove_edge(self, src: int, dst: int) -> None:\n",
    "        pass\n",
    "\n",
    "    @abstractmethod\n",
    "    def out_neighbor(self, v: int):\n",
    "        pass\n",
    "\n",
    "    @abstractmethod\n",
    "    def out_degree(self, v: int) -> int:\n",
    "        pass\n",
    "\n",
    "    @abstractmethod\n",
    "    def has_edge(self, src: int, dst: int) -> bool:\n",
    "        pass\n"
   ]
  },
  {
   "cell_type": "code",
   "execution_count": 148,
   "metadata": {
    "Collapsed": "false"
   },
   "outputs": [],
   "source": [
    "###################################################\n",
    "#   Dictionary Array Graph                        #\n",
    "#    - 정점       : self._nodes                   #             \n",
    "#    - 나가는간선 : self._out_neighbor            #\n",
    "#                                                 #\n",
    "###################################################\n",
    "class Graph_dict(DiGraph):\n",
    "\n",
    "    def __init__(self) -> None:\n",
    "        self._nodes = set()\n",
    "        self._out_neighbor = defaultdict(set)\n",
    "\n",
    "    def __str__(self):\n",
    "        result = \"\"\n",
    "        for v in self._nodes:\n",
    "            neighbors = self._out_neighbor[v]\n",
    "            if not neighbors:\n",
    "                result = result + str(v) + \" : empty\\n\"\n",
    "            else : result = result + str(v) + \" : \" +  str(neighbors) + \"\\n\"\n",
    "        return result\n",
    "    \n",
    "    def nodes(self) -> Set[int]:\n",
    "        return self._nodes\n",
    "\n",
    "    def edges(self) -> List[Tuple[int, int]]:\n",
    "        edges = []\n",
    "        for v1 in self._nodes:\n",
    "            neighbors = self._out_neighbor[v1]\n",
    "            for v2 in neighbors:\n",
    "                edges.append((v1, v2))\n",
    "        return edges\n",
    "        \n",
    "\n",
    "\n",
    "    ################# Write your answer here #####################\n",
    "    def add_vertex(self, v: int) -> None:\n",
    "        return self._nodes.add(v)\n",
    "\n",
    "    ################# Write your answer here #####################\n",
    "    def remove_vertex(self, v: int) -> None:\n",
    "        if len(self._nodes) == 0:\n",
    "            return\n",
    "        else:\n",
    "            self._nodes.remove(v)\n",
    "            adj_nodes = [node for node in self._out_neighbor[v]]\n",
    "            for node in adj_nodes:\n",
    "                self.remove_edge(v, node)\n",
    "\n",
    "    def add_edge(self, src: int, dst: int) -> None:\n",
    "        self.add_vertex(src)\n",
    "        self.add_vertex(dst)\n",
    "        self._out_neighbor[src].add(dst)\n",
    "\n",
    "    def remove_edge(self, src: int, dst: int) -> None:\n",
    "        neighbor = self.out_neighbor(src)\n",
    "        if dst in neighbor:\n",
    "            self._out_neighbor[src].remove(dst)\n",
    "\n",
    "    ################# Write your answer here #####################\n",
    "    def out_neighbor(self, v: int) -> Set[int]:\n",
    "        return self._out_neighbor[v]\n",
    "    \n",
    "    ################# Write your answer here #####################\n",
    "    def out_degree(self, v: int) -> int:\n",
    "        return len(self._out_neighbor[v])\n",
    "    \n",
    "    def has_edge(self, src: int, dst: int) -> bool:\n",
    "        return dst in self._out_neighbor[src]\n",
    "    \n",
    "    ################# Write your answer here #####################\n",
    "    # HW 1-2\n",
    "    def subgraph(self, vertices: List[int]):\n",
    "        raise NotImplemented \n"
   ]
  },
  {
   "cell_type": "code",
   "execution_count": 149,
   "metadata": {
    "Collapsed": "false"
   },
   "outputs": [],
   "source": [
    "graph_dict = Graph_dict()"
   ]
  },
  {
   "cell_type": "code",
   "execution_count": 150,
   "metadata": {
    "Collapsed": "false"
   },
   "outputs": [
    {
     "data": {
      "text/plain": [
       "set()"
      ]
     },
     "execution_count": 150,
     "metadata": {},
     "output_type": "execute_result"
    }
   ],
   "source": [
    "graph_dict.nodes()"
   ]
  },
  {
   "cell_type": "code",
   "execution_count": 151,
   "metadata": {
    "Collapsed": "false"
   },
   "outputs": [],
   "source": [
    "graph_dict.add_vertex(1)\n",
    "graph_dict.add_vertex(3)"
   ]
  },
  {
   "cell_type": "code",
   "execution_count": 153,
   "metadata": {
    "Collapsed": "false"
   },
   "outputs": [],
   "source": [
    "graph_dict.add_edge(1, 3)"
   ]
  },
  {
   "cell_type": "code",
   "execution_count": 154,
   "metadata": {
    "Collapsed": "false"
   },
   "outputs": [],
   "source": [
    "graph_dict.add_edge(1, 5)"
   ]
  },
  {
   "cell_type": "code",
   "execution_count": 156,
   "metadata": {
    "Collapsed": "false"
   },
   "outputs": [
    {
     "data": {
      "text/plain": [
       "{1, 3, 5}"
      ]
     },
     "execution_count": 156,
     "metadata": {},
     "output_type": "execute_result"
    }
   ],
   "source": [
    "graph_dict.nodes()"
   ]
  },
  {
   "cell_type": "code",
   "execution_count": 157,
   "metadata": {
    "Collapsed": "false"
   },
   "outputs": [
    {
     "data": {
      "text/plain": [
       "{3, 5}"
      ]
     },
     "execution_count": 157,
     "metadata": {},
     "output_type": "execute_result"
    }
   ],
   "source": [
    "graph_dict.out_neighbor(1)"
   ]
  },
  {
   "cell_type": "code",
   "execution_count": 158,
   "metadata": {
    "Collapsed": "false"
   },
   "outputs": [],
   "source": [
    "graph_dict.remove_vertex(1)"
   ]
  },
  {
   "cell_type": "code",
   "execution_count": 159,
   "metadata": {
    "Collapsed": "false"
   },
   "outputs": [
    {
     "data": {
      "text/plain": [
       "{3, 5}"
      ]
     },
     "execution_count": 159,
     "metadata": {},
     "output_type": "execute_result"
    }
   ],
   "source": [
    "graph_dict.nodes()"
   ]
  },
  {
   "cell_type": "code",
   "execution_count": 160,
   "metadata": {
    "Collapsed": "false"
   },
   "outputs": [
    {
     "data": {
      "text/plain": [
       "[]"
      ]
     },
     "execution_count": 160,
     "metadata": {},
     "output_type": "execute_result"
    }
   ],
   "source": [
    "graph_dict.edges()"
   ]
  },
  {
   "cell_type": "code",
   "execution_count": null,
   "metadata": {
    "Collapsed": "false"
   },
   "outputs": [],
   "source": []
  }
 ],
 "metadata": {
  "colab": {
   "collapsed_sections": [],
   "name": "W05_D21_실습1-2.ipynb",
   "provenance": [
    {
     "file_id": "1K9oT8cHKYNYhsgJkcak80u37G9XlL-LL",
     "timestamp": 1613990957094
    }
   ]
  },
  "kernelspec": {
   "display_name": "Python 3",
   "language": "python",
   "name": "python3"
  },
  "language_info": {
   "codemirror_mode": {
    "name": "ipython",
    "version": 3
   },
   "file_extension": ".py",
   "mimetype": "text/x-python",
   "name": "python",
   "nbconvert_exporter": "python",
   "pygments_lexer": "ipython3",
   "version": "3.7.6"
  }
 },
 "nbformat": 4,
 "nbformat_minor": 4
}
