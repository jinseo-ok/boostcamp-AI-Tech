{
 "cells": [
  {
   "cell_type": "markdown",
   "metadata": {
    "Collapsed": "false"
   },
   "source": [
    "**Lab 8 : Latent Factor based Recommendation System**\n",
    "- Instuctor : Kijung Shin\n",
    "- Teaching Assistants : Hyunju Lee(main), Deukryeol Yoon, Shinhwan Kang \n",
    "- 본 실습에서는 추천 시스템에서 가장 흔히 쓰이는 surprise library를 사용하여 Latent Factor 기반 추천 시스템을 구현해본다."
   ]
  },
  {
   "cell_type": "code",
   "execution_count": 2,
   "metadata": {
    "Collapsed": "false"
   },
   "outputs": [],
   "source": [
    "import os\n",
    "import sys\n",
    "\n",
    "import numpy as np \n",
    "import pandas as pd\n",
    "\n",
    "from surprise import SVD\n",
    "from surprise.model_selection import train_test_split\n",
    "from surprise.dataset import DatasetAutoFolds\n",
    "from surprise.model_selection import cross_validate\n",
    "from surprise import Dataset, Reader\n",
    "from surprise import accuracy"
   ]
  },
  {
   "cell_type": "markdown",
   "metadata": {
    "Collapsed": "false"
   },
   "source": [
    "## Dataset Loading"
   ]
  },
  {
   "cell_type": "code",
   "execution_count": 8,
   "metadata": {
    "Collapsed": "false"
   },
   "outputs": [
    {
     "name": "stdout",
     "output_type": "stream",
     "text": [
      "### Rating Dataset Format ###\n",
      "\n",
      "   userId  movieId  rating  timestamp\n",
      "0       1        1     4.0  964982703\n",
      "1       1        3     4.0  964981247\n",
      "2       1        6     4.0  964982224\n",
      "3       1       47     5.0  964983815\n",
      "4       1       50     5.0  964982931\n",
      "\n",
      "\n",
      "### Rating Dataset - Timestamp Removed ###\n",
      "\n"
     ]
    },
    {
     "data": {
      "text/html": [
       "<div>\n",
       "<style scoped>\n",
       "    .dataframe tbody tr th:only-of-type {\n",
       "        vertical-align: middle;\n",
       "    }\n",
       "\n",
       "    .dataframe tbody tr th {\n",
       "        vertical-align: top;\n",
       "    }\n",
       "\n",
       "    .dataframe thead th {\n",
       "        text-align: right;\n",
       "    }\n",
       "</style>\n",
       "<table border=\"1\" class=\"dataframe\">\n",
       "  <thead>\n",
       "    <tr style=\"text-align: right;\">\n",
       "      <th></th>\n",
       "      <th>userId</th>\n",
       "      <th>movieId</th>\n",
       "      <th>rating</th>\n",
       "    </tr>\n",
       "  </thead>\n",
       "  <tbody>\n",
       "    <tr>\n",
       "      <th>0</th>\n",
       "      <td>1</td>\n",
       "      <td>1</td>\n",
       "      <td>4.0</td>\n",
       "    </tr>\n",
       "    <tr>\n",
       "      <th>1</th>\n",
       "      <td>1</td>\n",
       "      <td>3</td>\n",
       "      <td>4.0</td>\n",
       "    </tr>\n",
       "    <tr>\n",
       "      <th>2</th>\n",
       "      <td>1</td>\n",
       "      <td>6</td>\n",
       "      <td>4.0</td>\n",
       "    </tr>\n",
       "    <tr>\n",
       "      <th>3</th>\n",
       "      <td>1</td>\n",
       "      <td>47</td>\n",
       "      <td>5.0</td>\n",
       "    </tr>\n",
       "    <tr>\n",
       "      <th>4</th>\n",
       "      <td>1</td>\n",
       "      <td>50</td>\n",
       "      <td>5.0</td>\n",
       "    </tr>\n",
       "    <tr>\n",
       "      <th>...</th>\n",
       "      <td>...</td>\n",
       "      <td>...</td>\n",
       "      <td>...</td>\n",
       "    </tr>\n",
       "    <tr>\n",
       "      <th>100831</th>\n",
       "      <td>610</td>\n",
       "      <td>166534</td>\n",
       "      <td>4.0</td>\n",
       "    </tr>\n",
       "    <tr>\n",
       "      <th>100832</th>\n",
       "      <td>610</td>\n",
       "      <td>168248</td>\n",
       "      <td>5.0</td>\n",
       "    </tr>\n",
       "    <tr>\n",
       "      <th>100833</th>\n",
       "      <td>610</td>\n",
       "      <td>168250</td>\n",
       "      <td>5.0</td>\n",
       "    </tr>\n",
       "    <tr>\n",
       "      <th>100834</th>\n",
       "      <td>610</td>\n",
       "      <td>168252</td>\n",
       "      <td>5.0</td>\n",
       "    </tr>\n",
       "    <tr>\n",
       "      <th>100835</th>\n",
       "      <td>610</td>\n",
       "      <td>170875</td>\n",
       "      <td>3.0</td>\n",
       "    </tr>\n",
       "  </tbody>\n",
       "</table>\n",
       "<p>100836 rows × 3 columns</p>\n",
       "</div>"
      ],
      "text/plain": [
       "        userId  movieId  rating\n",
       "0            1        1     4.0\n",
       "1            1        3     4.0\n",
       "2            1        6     4.0\n",
       "3            1       47     5.0\n",
       "4            1       50     5.0\n",
       "...        ...      ...     ...\n",
       "100831     610   166534     4.0\n",
       "100832     610   168248     5.0\n",
       "100833     610   168250     5.0\n",
       "100834     610   168252     5.0\n",
       "100835     610   170875     3.0\n",
       "\n",
       "[100836 rows x 3 columns]"
      ]
     },
     "execution_count": 8,
     "metadata": {},
     "output_type": "execute_result"
    }
   ],
   "source": [
    "#### 데이터셋 불러오기(MovieLens 10k) ####\n",
    "FILE_PATH = os.path.join('graph', 'others', 'ratings.csv')\n",
    "df_ratings = pd.read_csv(FILE_PATH)\n",
    "\n",
    "#### 평점 데이터셋 형태 확인#### \n",
    "# surprise library의 Reader 사용 시 반드시 사용자-아이템-평점 순으로 정보가 들어가 있어야 함\n",
    "\n",
    "print(\"### Rating Dataset Format ###\", end='\\n\\n')\n",
    "print(df_ratings.head(), end='\\n\\n\\n')\n",
    "df_ratings.drop(['timestamp'], axis=1, inplace=True)\n",
    "print(\"### Rating Dataset - Timestamp Removed ###\", end='\\n\\n')\n",
    "df_ratings"
   ]
  },
  {
   "cell_type": "code",
   "execution_count": 7,
   "metadata": {
    "Collapsed": "false"
   },
   "outputs": [
    {
     "name": "stdout",
     "output_type": "stream",
     "text": [
      "### Movie Dataset Format ###\n",
      "\n",
      "Columns of Movie Dataset :  Index(['movieId', 'title', 'genres'], dtype='object')\n",
      "\n"
     ]
    },
    {
     "data": {
      "text/html": [
       "<div>\n",
       "<style scoped>\n",
       "    .dataframe tbody tr th:only-of-type {\n",
       "        vertical-align: middle;\n",
       "    }\n",
       "\n",
       "    .dataframe tbody tr th {\n",
       "        vertical-align: top;\n",
       "    }\n",
       "\n",
       "    .dataframe thead th {\n",
       "        text-align: right;\n",
       "    }\n",
       "</style>\n",
       "<table border=\"1\" class=\"dataframe\">\n",
       "  <thead>\n",
       "    <tr style=\"text-align: right;\">\n",
       "      <th></th>\n",
       "      <th>movieId</th>\n",
       "      <th>title</th>\n",
       "      <th>genres</th>\n",
       "    </tr>\n",
       "  </thead>\n",
       "  <tbody>\n",
       "    <tr>\n",
       "      <th>0</th>\n",
       "      <td>1</td>\n",
       "      <td>Toy Story (1995)</td>\n",
       "      <td>Adventure|Animation|Children|Comedy|Fantasy</td>\n",
       "    </tr>\n",
       "    <tr>\n",
       "      <th>1</th>\n",
       "      <td>2</td>\n",
       "      <td>Jumanji (1995)</td>\n",
       "      <td>Adventure|Children|Fantasy</td>\n",
       "    </tr>\n",
       "    <tr>\n",
       "      <th>2</th>\n",
       "      <td>3</td>\n",
       "      <td>Grumpier Old Men (1995)</td>\n",
       "      <td>Comedy|Romance</td>\n",
       "    </tr>\n",
       "    <tr>\n",
       "      <th>3</th>\n",
       "      <td>4</td>\n",
       "      <td>Waiting to Exhale (1995)</td>\n",
       "      <td>Comedy|Drama|Romance</td>\n",
       "    </tr>\n",
       "    <tr>\n",
       "      <th>4</th>\n",
       "      <td>5</td>\n",
       "      <td>Father of the Bride Part II (1995)</td>\n",
       "      <td>Comedy</td>\n",
       "    </tr>\n",
       "  </tbody>\n",
       "</table>\n",
       "</div>"
      ],
      "text/plain": [
       "   movieId                               title  \\\n",
       "0        1                    Toy Story (1995)   \n",
       "1        2                      Jumanji (1995)   \n",
       "2        3             Grumpier Old Men (1995)   \n",
       "3        4            Waiting to Exhale (1995)   \n",
       "4        5  Father of the Bride Part II (1995)   \n",
       "\n",
       "                                        genres  \n",
       "0  Adventure|Animation|Children|Comedy|Fantasy  \n",
       "1                   Adventure|Children|Fantasy  \n",
       "2                               Comedy|Romance  \n",
       "3                         Comedy|Drama|Romance  \n",
       "4                                       Comedy  "
      ]
     },
     "execution_count": 7,
     "metadata": {},
     "output_type": "execute_result"
    }
   ],
   "source": [
    "FILE_PATH = os.path.join('graph', 'others', 'movies.csv')\n",
    "df_movies = pd.read_csv(FILE_PATH)\n",
    "\n",
    "#### 영화 데이터셋 형태 확인 ####\n",
    "print(\"### Movie Dataset Format ###\", end = '\\n\\n')\n",
    "print(\"Columns of Movie Dataset : \",df_movies.columns, end = '\\n\\n')\n",
    "df_movies.head()"
   ]
  },
  {
   "cell_type": "code",
   "execution_count": 9,
   "metadata": {
    "Collapsed": "false"
   },
   "outputs": [
    {
     "name": "stdout",
     "output_type": "stream",
     "text": [
      "num users: 610, num items:9724\n"
     ]
    }
   ],
   "source": [
    "#### Dataset의 User, Movie 수 확인 ####\n",
    "n_users = df_ratings.userId.unique().shape[0]\n",
    "n_items = df_ratings.movieId.unique().shape[0]\n",
    "print(\"num users: {}, num items:{}\".format(n_users, n_items))"
   ]
  },
  {
   "cell_type": "code",
   "execution_count": 10,
   "metadata": {
    "Collapsed": "false"
   },
   "outputs": [
    {
     "name": "stdout",
     "output_type": "stream",
     "text": [
      "        userId  movieId  rating\n",
      "0            1        1     4.0\n",
      "1            1        3     4.0\n",
      "2            1        6     4.0\n",
      "3            1       47     5.0\n",
      "4            1       50     5.0\n",
      "...        ...      ...     ...\n",
      "100838     900   106696     5.0\n",
      "100839     900   166461     5.0\n",
      "100840     900      595     5.0\n",
      "100841     900   138168     1.0\n",
      "100842     900     1997     1.0\n",
      "\n",
      "[100843 rows x 3 columns]\n"
     ]
    }
   ],
   "source": [
    "### Add Your Own Data ### \n",
    "\n",
    "###################################### Example 1#################################################\n",
    "# User 800 is a HUGE fan of Musical Movies\n",
    "rows = []                               # row = [user_id, movie_id, rating]\n",
    "user_id = 800\n",
    "rows.append([user_id, 73, 5])        # movie    73: Miserables, Les (1995)\n",
    "rows.append([user_id, 107780, 5])     # movie  107780: Cats(1998) \n",
    "rows.append([user_id, 588, 5])     # movie  588: Aladin(1992)\n",
    "rows.append([user_id, 60397, 5])    # movie 69397: Mamma Mia!(2008)\n",
    "rows.append([user_id, 99149, 5])    # movie 99149: Miserables, Les (2012)\n",
    "rows.append([user_id, 138186, 1])    # movie 138186: Sorrow(2015)\n",
    "rows.append([user_id, 1997, 1])    # movie 1997: Scream 2 (1991)\n",
    "\n",
    "##################################################################################################\n",
    "\n",
    "###################################### Example 2#################################################\n",
    "# User 900 is a HUGE fan of Animation Movies\n",
    "rows = []                               # row = [user_id, movie_id, rating]\n",
    "user_id = 900\n",
    "rows.append([user_id, 1022, 5])        # movie    1022: Cinderella(1950)\n",
    "rows.append([user_id, 594, 5])     # movie  594: Snow White and the Seven Dwarfs(1937) \n",
    "rows.append([user_id, 106696, 5])     # movie  106696: Frozen(2013)\n",
    "rows.append([user_id, 166461, 5])    # movie 166461: Moana(2016)\n",
    "rows.append([user_id, 595, 5])    # movie 595: Beauty and the Beast (1991)\n",
    "rows.append([user_id, 138168, 1])    # movie 138168: Sorrow(2015)\n",
    "rows.append([user_id, 1997, 1])    # movie 1997: Scream 2 (1991)\n",
    "\n",
    "##################################################################################################\n",
    "\n",
    "\n",
    "########################### Add Your Own Ratings using 'movie.csv' data #########################\n",
    "# my_rows = []\n",
    "# my_id = 2021\n",
    "# rows.append([user_id, ,])       # Fill your movie id and rating     \n",
    "# rows.append([user_id, ,])       # 여러분이 평가할 영화의 id와 점수를 입력하세요.\n",
    "# rows.append([user_id, ,])\n",
    "# rows.append([user_id, ,])\n",
    "# rows.append([user_id, ,])\n",
    "\n",
    "##################################################################################################\n",
    "for row in rows:\n",
    "    df_ratings = df_ratings.append(pd.Series(row, index=df_ratings.columns), ignore_index=True)\n",
    "print(df_ratings)"
   ]
  },
  {
   "cell_type": "code",
   "execution_count": 11,
   "metadata": {
    "Collapsed": "false"
   },
   "outputs": [
    {
     "name": "stdout",
     "output_type": "stream",
     "text": [
      "num users: 611, num items:9725\n"
     ]
    }
   ],
   "source": [
    "#### Dataset의 User, Movie 수 확인 ####\n",
    "n_users = df_ratings.userId.unique().shape[0]\n",
    "n_items = df_ratings.movieId.unique().shape[0]\n",
    "print(\"num users: {}, num items:{}\".format(n_users, n_items))"
   ]
  },
  {
   "cell_type": "code",
   "execution_count": 12,
   "metadata": {
    "Collapsed": "false"
   },
   "outputs": [],
   "source": [
    "#### Get Movid Name from Movie ID - 영화 ID로부터 영화 제목 얻기 ###\n",
    "\n",
    "movie_set = set()     \n",
    "ratings = np.zeros((n_users, n_items))\n",
    "\n",
    "# itertuples 참고자료: https://dailyheumsi.tistory.com/121\n",
    "for (_, movie_id, _) in df_ratings.itertuples(index = False): # source: https://pandas.pydata.org/pandas-docs/stable/reference/api/pandas.DataFrame.itertuples.html\n",
    "    movie_set.add(movie_id)\n",
    "\n",
    "movie_id_to_name = dict()\n",
    "movie_id_to_genre = dict()\n",
    "\n",
    "for (movie_id, movie_name, movie_genre) in df_movies.itertuples(index=False):\n",
    "    if movie_id not in movie_set:              # 어떤 영화가 rating data에 없는 경우 skip\n",
    "        continue\n",
    "    movie_id_to_name[movie_id] = movie_name \n",
    "    movie_id_to_genre[movie_id] = movie_genre"
   ]
  },
  {
   "cell_type": "code",
   "execution_count": 18,
   "metadata": {
    "Collapsed": "false"
   },
   "outputs": [
    {
     "name": "stdout",
     "output_type": "stream",
     "text": [
      "<class 'surprise.dataset.DatasetAutoFolds'>\n",
      "<class 'surprise.trainset.Trainset'>\n",
      "<class 'surprise.trainset.Trainset'>\n",
      "<class 'surprise.dataset.DatasetAutoFolds'>\n"
     ]
    }
   ],
   "source": [
    "#### pandas dataframe을 surprise dataset 형태로 바꿔준 후, train set과 test set을 split 해준다 ####\n",
    "reader = Reader(rating_scale = (0, 5))\n",
    "data = Dataset.load_from_df(df_ratings[['userId','movieId','rating']], reader = reader)\n",
    "\n",
    "train, test = train_test_split(data, test_size = 0.2, shuffle = True)\n",
    "\n",
    "print(type(data))\n",
    "print(type(train))\n",
    "\n",
    "##################################################################################\n",
    "## Grid Search를 위해 surprise.trainset 형태의 데이터를 surprise.dataset으로 변경해준다\n",
    "iterator = train.all_ratings()\n",
    "train_df = pd.DataFrame(columns = ['userId', 'movieId', 'rating'])\n",
    "i = 0\n",
    "for (uid, iid, rating) in iterator:\n",
    "    train_df.loc[i] = [train.to_raw_uid(int(uid)), train.to_raw_iid(iid), rating]\n",
    "    i += 1\n",
    "\n",
    "train_data = Dataset.load_from_df(train_df, reader = reader)\n",
    "\n",
    "print(type(train))\n",
    "print(type(train_data))\n",
    "##################################################################################"
   ]
  },
  {
   "cell_type": "markdown",
   "metadata": {
    "Collapsed": "false"
   },
   "source": [
    "## Model train"
   ]
  },
  {
   "cell_type": "code",
   "execution_count": 20,
   "metadata": {
    "Collapsed": "false"
   },
   "outputs": [
    {
     "name": "stdout",
     "output_type": "stream",
     "text": [
      "0.8775286523238182\n",
      "{'n_factors': 10}\n"
     ]
    }
   ],
   "source": [
    "### Hyperparameter Grid Search ### \n",
    "\n",
    "from surprise.model_selection import GridSearchCV\n",
    "param_grid = {'n_factors': [10, 15, 20, 30, 50, 100]}\n",
    "\n",
    "####### Fill in Your Code ##########\n",
    "grid = GridSearchCV(SVD, param_grid, measures = ['rmse', 'mae'], cv = 4)\n",
    "grid.fit(train_data)\n",
    "#####################################\n",
    "\n",
    "print(grid.best_score['rmse'])\n",
    "print(grid.best_params['rmse'])"
   ]
  },
  {
   "cell_type": "code",
   "execution_count": 21,
   "metadata": {
    "Collapsed": "false"
   },
   "outputs": [
    {
     "name": "stdout",
     "output_type": "stream",
     "text": [
      "{'rmse': {'n_factors': 10}, 'mae': {'n_factors': 10}}\n"
     ]
    },
    {
     "data": {
      "text/plain": [
       "<surprise.prediction_algorithms.matrix_factorization.SVD at 0x7fbc2c2fa150>"
      ]
     },
     "execution_count": 21,
     "metadata": {},
     "output_type": "execute_result"
    }
   ],
   "source": [
    "### Use the Hyperparameter with best performance ###\n",
    "\n",
    "print(grid.best_params)\n",
    "################ Fill in Your Code #################\n",
    "\n",
    "algorithm = SVD(grid.best_params['rmse']['n_factors'])\n",
    "algorithm.fit(train)\n",
    "####################################################"
   ]
  },
  {
   "cell_type": "markdown",
   "metadata": {
    "Collapsed": "false"
   },
   "source": [
    "## Predict"
   ]
  },
  {
   "cell_type": "code",
   "execution_count": 22,
   "metadata": {
    "Collapsed": "false"
   },
   "outputs": [
    {
     "name": "stdout",
     "output_type": "stream",
     "text": [
      "user: 288        item: 3101       r_ui = 3.00   est = 2.71   {'was_impossible': False}\n",
      "user: 449        item: 527        r_ui = 4.00   est = 3.83   {'was_impossible': False}\n",
      "user: 388        item: 44022      r_ui = 4.50   est = 3.20   {'was_impossible': False}\n",
      "user: 385        item: 1036       r_ui = 3.00   est = 3.58   {'was_impossible': False}\n",
      "user: 304        item: 1207       r_ui = 5.00   est = 4.39   {'was_impossible': False}\n"
     ]
    }
   ],
   "source": [
    "##### algorithm prediction #####\n",
    "\n",
    "prediction = algorithm.test(test)\n",
    "for p in prediction[:5]:            # prediction 결과값 5개 미리보기\n",
    "    print(p)                        # r_ui : 실제 rating 값, est: 예측된 rating 값"
   ]
  },
  {
   "cell_type": "code",
   "execution_count": 23,
   "metadata": {
    "Collapsed": "false"
   },
   "outputs": [
    {
     "name": "stdout",
     "output_type": "stream",
     "text": [
      "user: 800        item: 8368       r_ui = None   est = 4.10   {'was_impossible': False}\n"
     ]
    }
   ],
   "source": [
    "#### 특정 user, 특정 item에 대한 prediction 값 ###\n",
    "uid = 800\n",
    "iid = 8368\n",
    "prediction_user_item = algorithm.predict(uid, iid)\n",
    "print(prediction_user_item)     "
   ]
  },
  {
   "cell_type": "code",
   "execution_count": 24,
   "metadata": {
    "Collapsed": "false"
   },
   "outputs": [],
   "source": [
    "##############################################################\n",
    "##### 해당 user가 아직 보지 않은 영화를 return해주는 함수#####\n",
    "##############################################################\n",
    "def get_unseen_movies(data, user_id):\n",
    "\n",
    "    watched_movies = set()\n",
    "    total_movies = set()\n",
    "    ########### Fill in Your Code #################\n",
    "    for (uid, iid, rating) in data.all_ratings():\n",
    "        \n",
    "        total_movies.add(iid)\n",
    "        if uid == user_id:\n",
    "            watched_movies.add(iid)\n",
    "    \n",
    "    unseen_movies = total_movies - watched_movies\n",
    "    ##################################################\n",
    "    return unseen_movies\n",
    "    # return total_movies"
   ]
  },
  {
   "cell_type": "code",
   "execution_count": 25,
   "metadata": {
    "Collapsed": "false"
   },
   "outputs": [],
   "source": [
    "################################################################################\n",
    "############# 특정 user에게 top k개의 영상을 추천해주는 함수 ###################\n",
    "################################################################################\n",
    "def recommend(train, algorithm, user_id, top_k = 10):\n",
    "    ################ Fill in Your Code ########################################\n",
    "    unseen_movies = get_unseen_movies(train, user_id)\n",
    "    prediction = [algorithm.predict(user_id, movie_id) for movie_id in unseen_movies]\n",
    "\n",
    "    prediction.sort(key = lambda x:x.est, reverse=True)  \n",
    "\n",
    "    ###########################################################################\n",
    "    for _, movie, _, pred, _ in prediction[:top_k]:\n",
    "        print(\"movid id: {}, movie genre: {},predicted rating: {}\".format(movie_id_to_name[movie], movie_id_to_genre[movie], pred))\n"
   ]
  },
  {
   "cell_type": "code",
   "execution_count": 26,
   "metadata": {
    "Collapsed": "false"
   },
   "outputs": [
    {
     "name": "stdout",
     "output_type": "stream",
     "text": [
      "movid id: Lawrence of Arabia (1962), movie genre: Adventure|Drama|War,predicted rating: 4.5040878347152535\n",
      "movid id: Shawshank Redemption, The (1994), movie genre: Crime|Drama,predicted rating: 4.392944623463054\n",
      "movid id: Rear Window (1954), movie genre: Mystery|Thriller,predicted rating: 4.365429961611465\n",
      "movid id: Raging Bull (1980), movie genre: Drama,predicted rating: 4.33328198775012\n",
      "movid id: Usual Suspects, The (1995), movie genre: Crime|Mystery|Thriller,predicted rating: 4.329907386638017\n",
      "movid id: Dr. Strangelove or: How I Learned to Stop Worrying and Love the Bomb (1964), movie genre: Comedy|War,predicted rating: 4.316848116472854\n",
      "movid id: Boondock Saints, The (2000), movie genre: Action|Crime|Drama|Thriller,predicted rating: 4.305904845053234\n",
      "movid id: Great Escape, The (1963), movie genre: Action|Adventure|Drama|War,predicted rating: 4.304581805142542\n",
      "movid id: Princess Bride, The (1987), movie genre: Action|Adventure|Comedy|Fantasy|Romance,predicted rating: 4.298234817453923\n",
      "movid id: Ghost in the Shell (Kôkaku kidôtai) (1995), movie genre: Animation|Sci-Fi,predicted rating: 4.294356152723102\n",
      "movid id: Fight Club (1999), movie genre: Action|Crime|Drama|Thriller,predicted rating: 4.2939777753211015\n",
      "movid id: Goodfellas (1990), movie genre: Crime|Drama,predicted rating: 4.29221545066354\n",
      "movid id: Streetcar Named Desire, A (1951), movie genre: Drama,predicted rating: 4.288578782217452\n",
      "movid id: Godfather: Part II, The (1974), movie genre: Crime|Drama,predicted rating: 4.279692131660037\n",
      "movid id: Amelie (Fabuleux destin d'Amélie Poulain, Le) (2001), movie genre: Comedy|Romance,predicted rating: 4.277269691731094\n",
      "movid id: Star Wars: Episode V - The Empire Strikes Back (1980), movie genre: Action|Adventure|Sci-Fi,predicted rating: 4.267197960403475\n",
      "movid id: Eternal Sunshine of the Spotless Mind (2004), movie genre: Drama|Romance|Sci-Fi,predicted rating: 4.265736960426695\n",
      "movid id: Schindler's List (1993), movie genre: Drama|War,predicted rating: 4.257175825574276\n",
      "movid id: Raiders of the Lost Ark (Indiana Jones and the Raiders of the Lost Ark) (1981), movie genre: Action|Adventure,predicted rating: 4.256082593408659\n",
      "movid id: Apocalypse Now (1979), movie genre: Action|Drama|War,predicted rating: 4.254630417534523\n"
     ]
    }
   ],
   "source": [
    "#########################################\n",
    "####### 800번 유저의 추천 결과 ##########\n",
    "#########################################\n",
    "\n",
    "recommend(train, algorithm, user_id=800, top_k=20)\n"
   ]
  },
  {
   "cell_type": "code",
   "execution_count": 29,
   "metadata": {
    "Collapsed": "false"
   },
   "outputs": [
    {
     "name": "stdout",
     "output_type": "stream",
     "text": [
      "movid id: Lawrence of Arabia (1962), movie genre: Adventure|Drama|War,predicted rating: 4.589607742511709\n",
      "movid id: Shawshank Redemption, The (1994), movie genre: Crime|Drama,predicted rating: 4.452754743825553\n",
      "movid id: Princess Bride, The (1987), movie genre: Action|Adventure|Comedy|Fantasy|Romance,predicted rating: 4.416137907006888\n",
      "movid id: Dr. Strangelove or: How I Learned to Stop Worrying and Love the Bomb (1964), movie genre: Comedy|War,predicted rating: 4.408174390724378\n",
      "movid id: Boondock Saints, The (2000), movie genre: Action|Crime|Drama|Thriller,predicted rating: 4.407180714626624\n",
      "movid id: Usual Suspects, The (1995), movie genre: Crime|Mystery|Thriller,predicted rating: 4.399533856220133\n",
      "movid id: Godfather: Part II, The (1974), movie genre: Crime|Drama,predicted rating: 4.397886663128063\n",
      "movid id: Great Escape, The (1963), movie genre: Action|Adventure|Drama|War,predicted rating: 4.393779583539975\n",
      "movid id: Streetcar Named Desire, A (1951), movie genre: Drama,predicted rating: 4.391032709055873\n",
      "movid id: Star Wars: Episode V - The Empire Strikes Back (1980), movie genre: Action|Adventure|Sci-Fi,predicted rating: 4.388181400547426\n",
      "movid id: Life Is Beautiful (La Vita è bella) (1997), movie genre: Comedy|Drama|Romance|War,predicted rating: 4.386052427840805\n",
      "movid id: Rear Window (1954), movie genre: Mystery|Thriller,predicted rating: 4.385382141732876\n",
      "movid id: Fight Club (1999), movie genre: Action|Crime|Drama|Thriller,predicted rating: 4.384055062239218\n",
      "movid id: Schindler's List (1993), movie genre: Drama|War,predicted rating: 4.382975233731909\n",
      "movid id: Raiders of the Lost Ark (Indiana Jones and the Raiders of the Lost Ark) (1981), movie genre: Action|Adventure,predicted rating: 4.37278081948359\n",
      "movid id: Ghost in the Shell (Kôkaku kidôtai) (1995), movie genre: Animation|Sci-Fi,predicted rating: 4.366035272246282\n",
      "movid id: American History X (1998), movie genre: Crime|Drama,predicted rating: 4.3650988990720085\n",
      "movid id: Raging Bull (1980), movie genre: Drama,predicted rating: 4.3533173327179755\n",
      "movid id: Eternal Sunshine of the Spotless Mind (2004), movie genre: Drama|Romance|Sci-Fi,predicted rating: 4.351796168500505\n",
      "movid id: Casablanca (1942), movie genre: Drama|Romance,predicted rating: 4.347983215754453\n"
     ]
    }
   ],
   "source": [
    "#########################################\n",
    "####### 900번 유저의 추천 결과 ##########\n",
    "#########################################\n",
    "\n",
    "recommend(train, algorithm, user_id=900, top_k=20)\n"
   ]
  },
  {
   "cell_type": "code",
   "execution_count": null,
   "metadata": {
    "Collapsed": "false"
   },
   "outputs": [],
   "source": []
  }
 ],
 "metadata": {
  "kernelspec": {
   "display_name": "Python 3",
   "language": "python",
   "name": "python3"
  },
  "language_info": {
   "codemirror_mode": {
    "name": "ipython",
    "version": 3
   },
   "file_extension": ".py",
   "mimetype": "text/x-python",
   "name": "python",
   "nbconvert_exporter": "python",
   "pygments_lexer": "ipython3",
   "version": "3.7.6"
  }
 },
 "nbformat": 4,
 "nbformat_minor": 4
}
