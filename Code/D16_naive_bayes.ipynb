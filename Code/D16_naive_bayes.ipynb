{
 "cells": [
  {
   "cell_type": "markdown",
   "metadata": {
    "Collapsed": "false",
    "id": "btDmoiRCRfMp"
   },
   "source": [
    "## **1. NaiveBayes Classifier**\r\n",
    "1. 주어진 데이터를 전처리합니다.\r\n",
    "2. NaiveBayes 분류기 모델을 구현하고 학습 데이터로 이를 학습시킵니다.\r\n",
    "3. 간단한 test case로 결과를 확인합니다."
   ]
  },
  {
   "cell_type": "markdown",
   "metadata": {
    "Collapsed": "false",
    "id": "3a3E1pbkSYSF"
   },
   "source": [
    "### **필요 패키지 import**"
   ]
  },
  {
   "cell_type": "code",
   "execution_count": 1,
   "metadata": {
    "Collapsed": "false",
    "colab": {
     "base_uri": "https://localhost:8080/"
    },
    "id": "6GKm6PwhiGxv",
    "outputId": "57db8640-27ad-458d-9cc9-92841746c8f3"
   },
   "outputs": [
    {
     "name": "stdout",
     "output_type": "stream",
     "text": [
      "Collecting konlpy\n",
      "\u001b[?25l  Downloading https://files.pythonhosted.org/packages/85/0e/f385566fec837c0b83f216b2da65db9997b35dd675e107752005b7d392b1/konlpy-0.5.2-py2.py3-none-any.whl (19.4MB)\n",
      "\u001b[K     |████████████████████████████████| 19.4MB 1.2MB/s \n",
      "\u001b[?25hRequirement already satisfied: numpy>=1.6 in /usr/local/lib/python3.6/dist-packages (from konlpy) (1.19.5)\n",
      "Collecting colorama\n",
      "  Downloading https://files.pythonhosted.org/packages/44/98/5b86278fbbf250d239ae0ecb724f8572af1c91f4a11edf4d36a206189440/colorama-0.4.4-py2.py3-none-any.whl\n",
      "Collecting beautifulsoup4==4.6.0\n",
      "\u001b[?25l  Downloading https://files.pythonhosted.org/packages/9e/d4/10f46e5cfac773e22707237bfcd51bbffeaf0a576b0a847ec7ab15bd7ace/beautifulsoup4-4.6.0-py3-none-any.whl (86kB)\n",
      "\u001b[K     |████████████████████████████████| 92kB 10.8MB/s \n",
      "\u001b[?25hCollecting tweepy>=3.7.0\n",
      "  Downloading https://files.pythonhosted.org/packages/67/c3/6bed87f3b1e5ed2f34bd58bf7978e308c86e255193916be76e5a5ce5dfca/tweepy-3.10.0-py2.py3-none-any.whl\n",
      "Collecting JPype1>=0.7.0\n",
      "\u001b[?25l  Downloading https://files.pythonhosted.org/packages/de/af/93f92b38ec1ff3091cd38982ed19cea2800fefb609b5801c41fc43c0781e/JPype1-1.2.1-cp36-cp36m-manylinux2010_x86_64.whl (457kB)\n",
      "\u001b[K     |████████████████████████████████| 460kB 54.7MB/s \n",
      "\u001b[?25hRequirement already satisfied: lxml>=4.1.0 in /usr/local/lib/python3.6/dist-packages (from konlpy) (4.2.6)\n",
      "Requirement already satisfied: requests[socks]>=2.11.1 in /usr/local/lib/python3.6/dist-packages (from tweepy>=3.7.0->konlpy) (2.23.0)\n",
      "Requirement already satisfied: six>=1.10.0 in /usr/local/lib/python3.6/dist-packages (from tweepy>=3.7.0->konlpy) (1.15.0)\n",
      "Requirement already satisfied: requests-oauthlib>=0.7.0 in /usr/local/lib/python3.6/dist-packages (from tweepy>=3.7.0->konlpy) (1.3.0)\n",
      "Requirement already satisfied: typing-extensions; python_version < \"3.8\" in /usr/local/lib/python3.6/dist-packages (from JPype1>=0.7.0->konlpy) (3.7.4.3)\n",
      "Requirement already satisfied: urllib3!=1.25.0,!=1.25.1,<1.26,>=1.21.1 in /usr/local/lib/python3.6/dist-packages (from requests[socks]>=2.11.1->tweepy>=3.7.0->konlpy) (1.24.3)\n",
      "Requirement already satisfied: idna<3,>=2.5 in /usr/local/lib/python3.6/dist-packages (from requests[socks]>=2.11.1->tweepy>=3.7.0->konlpy) (2.10)\n",
      "Requirement already satisfied: chardet<4,>=3.0.2 in /usr/local/lib/python3.6/dist-packages (from requests[socks]>=2.11.1->tweepy>=3.7.0->konlpy) (3.0.4)\n",
      "Requirement already satisfied: certifi>=2017.4.17 in /usr/local/lib/python3.6/dist-packages (from requests[socks]>=2.11.1->tweepy>=3.7.0->konlpy) (2020.12.5)\n",
      "Requirement already satisfied: PySocks!=1.5.7,>=1.5.6; extra == \"socks\" in /usr/local/lib/python3.6/dist-packages (from requests[socks]>=2.11.1->tweepy>=3.7.0->konlpy) (1.7.1)\n",
      "Requirement already satisfied: oauthlib>=3.0.0 in /usr/local/lib/python3.6/dist-packages (from requests-oauthlib>=0.7.0->tweepy>=3.7.0->konlpy) (3.1.0)\n",
      "Installing collected packages: colorama, beautifulsoup4, tweepy, JPype1, konlpy\n",
      "  Found existing installation: beautifulsoup4 4.6.3\n",
      "    Uninstalling beautifulsoup4-4.6.3:\n",
      "      Successfully uninstalled beautifulsoup4-4.6.3\n",
      "  Found existing installation: tweepy 3.6.0\n",
      "    Uninstalling tweepy-3.6.0:\n",
      "      Successfully uninstalled tweepy-3.6.0\n",
      "Successfully installed JPype1-1.2.1 beautifulsoup4-4.6.0 colorama-0.4.4 konlpy-0.5.2 tweepy-3.10.0\n"
     ]
    }
   ],
   "source": [
    "!pip install konlpy # 한국어 토크나이징을 위한 패키지"
   ]
  },
  {
   "cell_type": "code",
   "execution_count": 4,
   "metadata": {
    "Collapsed": "false",
    "id": "2srhF-lp4JxL"
   },
   "outputs": [],
   "source": [
    "from tqdm import tqdm\r\n",
    "\r\n",
    "# 다양한 한국어 형태소 분석기가 클래스로 구현되어 있음\r\n",
    "from konlpy import tag \r\n",
    "\r\n",
    "from collections import defaultdict\r\n",
    "\r\n",
    "import math"
   ]
  },
  {
   "cell_type": "markdown",
   "metadata": {
    "Collapsed": "false",
    "id": "rpgjbzqr6UR4"
   },
   "source": [
    "### **학습 및 테스트 데이터 전처리**"
   ]
  },
  {
   "cell_type": "markdown",
   "metadata": {
    "Collapsed": "false",
    "id": "DTRXq_6G7wTk"
   },
   "source": [
    "Sample 데이터를 확인합니다.  \r\n",
    "긍정($1$), 부정($0$) 2가지 class로 구성되어 있습니다."
   ]
  },
  {
   "cell_type": "code",
   "execution_count": 5,
   "metadata": {
    "Collapsed": "false",
    "id": "MCBnEQrfoL_C"
   },
   "outputs": [],
   "source": [
    "# 레스토랑 리뷰데이터로 각 문장은 긍정 / 부정으로 분류되어 있음\r\n",
    "train_data = [\r\n",
    "  \"정말 맛있습니다. 추천합니다.\",\r\n",
    "  \"기대했던 것보단 별로였네요.\",\r\n",
    "  \"다 좋은데 가격이 너무 비싸서 다시 가고 싶다는 생각이 안 드네요.\",\r\n",
    "  \"완전 최고입니다! 재방문 의사 있습니다.\",\r\n",
    "  \"음식도 서비스도 다 만족스러웠습니다.\",\r\n",
    "  \"위생 상태가 좀 별로였습니다. 좀 더 개선되기를 바랍니다.\",\r\n",
    "  \"맛도 좋았고 직원분들 서비스도 너무 친절했습니다.\",\r\n",
    "  \"기념일에 방문했는데 음식도 분위기도 서비스도 다 좋았습니다.\",\r\n",
    "  \"전반적으로 음식이 너무 짰습니다. 저는 별로였네요.\",\r\n",
    "  \"위생에 조금 더 신경 썼으면 좋겠습니다. 조금 불쾌했습니다.\"\r\n",
    "]\r\n",
    "train_labels = [1, 0, 0, 1, 1, 0, 1, 1, 0, 0]\r\n",
    "\r\n",
    "test_data = [\r\n",
    "  \"정말 좋았습니다. 또 가고 싶네요.\",\r\n",
    "  \"별로였습니다. 되도록 가지 마세요.\",\r\n",
    "  \"다른 분들께도 추천드릴 수 있을 만큼 만족했습니다.\",\r\n",
    "  \"서비스가 좀 더 개선되었으면 좋겠습니다. 기분이 좀 나빴습니다.\"\r\n",
    "]"
   ]
  },
  {
   "cell_type": "markdown",
   "metadata": {
    "Collapsed": "false",
    "id": "dQ7rMLICacVN"
   },
   "source": [
    "KoNLPy 패키지에서 제공하는 Twitter(Okt) tokenizer를 사용하여 tokenization합니다."
   ]
  },
  {
   "cell_type": "code",
   "execution_count": 6,
   "metadata": {
    "Collapsed": "false",
    "id": "bEzeYDmPjNLl"
   },
   "outputs": [],
   "source": [
    "tokenizer = tag.Okt()"
   ]
  },
  {
   "cell_type": "code",
   "execution_count": 8,
   "metadata": {
    "Collapsed": "false",
    "id": "Tftxirx_7sk7"
   },
   "outputs": [],
   "source": [
    "def make_tokenized(data):\r\n",
    "    tokenized = []  # 단어 단위로 나뉜 리뷰 데이터.\r\n",
    "\r\n",
    "    for sent in tqdm(data):\r\n",
    "        tokens = tokenizer.morphs(sent) # 문장 -> 토큰 리스트로 바꿔주는 메소드\r\n",
    "        tokenized.append(tokens)\r\n",
    "    return tokenized"
   ]
  },
  {
   "cell_type": "code",
   "execution_count": 9,
   "metadata": {
    "Collapsed": "false",
    "colab": {
     "base_uri": "https://localhost:8080/"
    },
    "id": "I4VEZyFlCqi-",
    "outputId": "fe012f02-c944-4e9e-eeb1-ee55a9b7026b"
   },
   "outputs": [
    {
     "name": "stderr",
     "output_type": "stream",
     "text": [
      "100%|██████████| 10/10 [00:05<00:00,  1.77it/s]\n",
      "100%|██████████| 4/4 [00:00<00:00, 86.37it/s]\n"
     ]
    }
   ],
   "source": [
    "# 토큰 == 단어가 아님\r\n",
    "# 토큰이란 보통 하나의 의미를 이루는 모음이라고 생각하는 것이 보다 맞음\r\n",
    "# 문장을 토크나이징하는 다양한 방법이 존재함\r\n",
    "train_tokenized = make_tokenized(train_data)\r\n",
    "test_tokenized = make_tokenized(test_data)"
   ]
  },
  {
   "cell_type": "code",
   "execution_count": 10,
   "metadata": {
    "Collapsed": "false",
    "colab": {
     "base_uri": "https://localhost:8080/"
    },
    "id": "OEhn3uv2o2kt",
    "outputId": "c29947b5-99f2-4d80-e213-7265dd699aa5"
   },
   "outputs": [
    {
     "data": {
      "text/plain": [
       "[['정말', '맛있습니다', '.', '추천', '합니다', '.'],\n",
       " ['기대했던', '것', '보단', '별로', '였네요', '.'],\n",
       " ['다',\n",
       "  '좋은데',\n",
       "  '가격',\n",
       "  '이',\n",
       "  '너무',\n",
       "  '비싸서',\n",
       "  '다시',\n",
       "  '가고',\n",
       "  '싶다는',\n",
       "  '생각',\n",
       "  '이',\n",
       "  '안',\n",
       "  '드네',\n",
       "  '요',\n",
       "  '.'],\n",
       " ['완전', '최고', '입니다', '!', '재', '방문', '의사', '있습니다', '.'],\n",
       " ['음식', '도', '서비스', '도', '다', '만족스러웠습니다', '.'],\n",
       " ['위생',\n",
       "  '상태',\n",
       "  '가',\n",
       "  '좀',\n",
       "  '별로',\n",
       "  '였습니다',\n",
       "  '.',\n",
       "  '좀',\n",
       "  '더',\n",
       "  '개선',\n",
       "  '되',\n",
       "  '기를',\n",
       "  '바랍니다',\n",
       "  '.'],\n",
       " ['맛', '도', '좋았고', '직원', '분들', '서비스', '도', '너무', '친절했습니다', '.'],\n",
       " ['기념일',\n",
       "  '에',\n",
       "  '방문',\n",
       "  '했는데',\n",
       "  '음식',\n",
       "  '도',\n",
       "  '분위기',\n",
       "  '도',\n",
       "  '서비스',\n",
       "  '도',\n",
       "  '다',\n",
       "  '좋았습니다',\n",
       "  '.'],\n",
       " ['전반', '적', '으로', '음식', '이', '너무', '짰습니다', '.', '저', '는', '별로', '였네요', '.'],\n",
       " ['위생', '에', '조금', '더', '신경', '썼으면', '좋겠습니다', '.', '조금', '불쾌했습니다', '.']]"
      ]
     },
     "execution_count": 10,
     "metadata": {
      "tags": []
     },
     "output_type": "execute_result"
    }
   ],
   "source": [
    "train_tokenized"
   ]
  },
  {
   "cell_type": "markdown",
   "metadata": {
    "Collapsed": "false",
    "id": "SVPd7lQjbfNO"
   },
   "source": [
    "학습데이터 기준으로 가장 많이 등장한 단어부터 순서대로 vocab에 추가합니다."
   ]
  },
  {
   "cell_type": "code",
   "execution_count": 11,
   "metadata": {
    "Collapsed": "false",
    "colab": {
     "base_uri": "https://localhost:8080/"
    },
    "id": "w1S1egKgeJzM",
    "outputId": "0969ec75-5e6b-48cb-a36d-f3ce28f12fc0"
   },
   "outputs": [
    {
     "name": "stderr",
     "output_type": "stream",
     "text": [
      "100%|██████████| 10/10 [00:00<00:00, 15169.27it/s]\n"
     ]
    }
   ],
   "source": [
    "word_count = defaultdict(int)  # Key: 단어, Value: 등장 횟수\r\n",
    "\r\n",
    "for tokens in tqdm(train_tokenized):\r\n",
    "  for token in tokens:\r\n",
    "    word_count[token] += 1"
   ]
  },
  {
   "cell_type": "code",
   "execution_count": 12,
   "metadata": {
    "Collapsed": "false",
    "colab": {
     "base_uri": "https://localhost:8080/"
    },
    "id": "I0LPetURIdxK",
    "outputId": "e92f0143-edf9-45dd-b11a-ca95a71ca5d0"
   },
   "outputs": [
    {
     "name": "stdout",
     "output_type": "stream",
     "text": [
      "66\n"
     ]
    }
   ],
   "source": [
    "word_count = sorted(word_count.items(), key=lambda x: x[1], reverse=True)\r\n",
    "print(len(word_count))"
   ]
  },
  {
   "cell_type": "code",
   "execution_count": 18,
   "metadata": {
    "Collapsed": "false",
    "colab": {
     "base_uri": "https://localhost:8080/"
    },
    "id": "vTokka9YjPTd",
    "outputId": "07d0b3ae-d9cf-4075-e38a-710d81482057"
   },
   "outputs": [
    {
     "data": {
      "text/plain": [
       "[('.', 14), ('도', 7), ('별로', 3), ('다', 3), ('이', 3)]"
      ]
     },
     "execution_count": 18,
     "metadata": {
      "tags": []
     },
     "output_type": "execute_result"
    }
   ],
   "source": [
    "word_count[:5]"
   ]
  },
  {
   "cell_type": "code",
   "execution_count": 14,
   "metadata": {
    "Collapsed": "false",
    "colab": {
     "base_uri": "https://localhost:8080/"
    },
    "id": "tI2p2T1CJMlB",
    "outputId": "15b5ecd0-6591-412b-9c30-7e074da08b75"
   },
   "outputs": [
    {
     "name": "stderr",
     "output_type": "stream",
     "text": [
      "100%|██████████| 66/66 [00:00<00:00, 103718.27it/s]\n"
     ]
    }
   ],
   "source": [
    "w2i = {}  # Key: 단어, Value: 단어의 index\r\n",
    "for pair in tqdm(word_count):\r\n",
    "  if pair[0] not in w2i:\r\n",
    "    w2i[pair[0]] = len(w2i)"
   ]
  },
  {
   "cell_type": "code",
   "execution_count": 15,
   "metadata": {
    "Collapsed": "false",
    "colab": {
     "base_uri": "https://localhost:8080/"
    },
    "id": "cG3kuKkNKj0Z",
    "outputId": "c4bbe9f2-ea99-4620-a383-31e31a9a944f"
   },
   "outputs": [
    {
     "data": {
      "text/plain": [
       "66"
      ]
     },
     "execution_count": 15,
     "metadata": {
      "tags": []
     },
     "output_type": "execute_result"
    }
   ],
   "source": [
    "len(w2i)"
   ]
  },
  {
   "cell_type": "code",
   "execution_count": 16,
   "metadata": {
    "Collapsed": "false",
    "colab": {
     "base_uri": "https://localhost:8080/"
    },
    "id": "XIy3zcUSXNuR",
    "outputId": "c1ec9f84-d194-44a5-c60d-5ea48e1947ca"
   },
   "outputs": [
    {
     "data": {
      "text/plain": [
       "{'!': 35,\n",
       " '.': 0,\n",
       " '가': 41,\n",
       " '가격': 23,\n",
       " '가고': 26,\n",
       " '개선': 43,\n",
       " '것': 20,\n",
       " '기념일': 52,\n",
       " '기대했던': 19,\n",
       " '기를': 45,\n",
       " '너무': 5,\n",
       " '는': 61,\n",
       " '다': 3,\n",
       " '다시': 25,\n",
       " '더': 12,\n",
       " '도': 1,\n",
       " '되': 44,\n",
       " '드네': 30,\n",
       " '만족스러웠습니다': 39,\n",
       " '맛': 47,\n",
       " '맛있습니다': 16,\n",
       " '바랍니다': 46,\n",
       " '방문': 9,\n",
       " '별로': 2,\n",
       " '보단': 21,\n",
       " '분들': 50,\n",
       " '분위기': 54,\n",
       " '불쾌했습니다': 65,\n",
       " '비싸서': 24,\n",
       " '상태': 40,\n",
       " '생각': 28,\n",
       " '서비스': 7,\n",
       " '신경': 62,\n",
       " '싶다는': 27,\n",
       " '썼으면': 63,\n",
       " '안': 29,\n",
       " '에': 13,\n",
       " '였네요': 8,\n",
       " '였습니다': 42,\n",
       " '완전': 32,\n",
       " '요': 31,\n",
       " '위생': 10,\n",
       " '으로': 58,\n",
       " '음식': 6,\n",
       " '의사': 37,\n",
       " '이': 4,\n",
       " '입니다': 34,\n",
       " '있습니다': 38,\n",
       " '재': 36,\n",
       " '저': 60,\n",
       " '적': 57,\n",
       " '전반': 56,\n",
       " '정말': 15,\n",
       " '조금': 14,\n",
       " '좀': 11,\n",
       " '좋겠습니다': 64,\n",
       " '좋았고': 48,\n",
       " '좋았습니다': 55,\n",
       " '좋은데': 22,\n",
       " '직원': 49,\n",
       " '짰습니다': 59,\n",
       " '최고': 33,\n",
       " '추천': 17,\n",
       " '친절했습니다': 51,\n",
       " '합니다': 18,\n",
       " '했는데': 53}"
      ]
     },
     "execution_count": 16,
     "metadata": {
      "tags": []
     },
     "output_type": "execute_result"
    }
   ],
   "source": [
    "# word to index\n",
    "w2i"
   ]
  },
  {
   "cell_type": "markdown",
   "metadata": {
    "Collapsed": "false",
    "id": "85oCOe0Xqcwk"
   },
   "source": [
    "### **모델 Class 구현**"
   ]
  },
  {
   "cell_type": "markdown",
   "metadata": {
    "Collapsed": "false",
    "id": "w3uuFi52qjh6"
   },
   "source": [
    "NaiveBayes Classifier 모델 클래스를 구현합니다.\r\n",
    "\r\n",
    "*   `self.k`: Smoothing을 위한 상수.\r\n",
    "*   `self.w2i`: 사전에 구한 vocab.\r\n",
    "*   `self.priors`: 각 class의 prior 확률.\r\n",
    "*   `self.likelihoods`: 각 token의 특정 class 조건 내에서의 likelihood.\r\n"
   ]
  },
  {
   "cell_type": "code",
   "execution_count": 19,
   "metadata": {
    "Collapsed": "false",
    "id": "TsZlgjkBHAod"
   },
   "outputs": [],
   "source": [
    "class NaiveBayesClassifier():\r\n",
    "  def __init__(self, w2i, k=0.1):\r\n",
    "    self.k = k # 곱해지는 조건부확률이 0이 됨을 방지하기 위한 bias\r\n",
    "    self.w2i = w2i\r\n",
    "    self.priors = {} # 해당 label 개수 / 전체 label 개수\r\n",
    "    self.likelihoods = {} # 각 라벨별 토큰별 전체 단어 중 해당 \r\n",
    "\r\n",
    "  def train(self, train_tokenized, train_labels):\r\n",
    "    self.set_priors(train_labels)  # Priors 계산.\r\n",
    "    self.set_likelihoods(train_tokenized, train_labels)  # Likelihoods 계산.\r\n",
    "\r\n",
    "  def inference(self, tokens):\r\n",
    "    log_prob0 = 0.0 # 극단적으로 작아는 곱을 방지하기 위한 log 덧셈으로 치환\r\n",
    "    log_prob1 = 0.0\r\n",
    "\r\n",
    "    for token in tokens:\r\n",
    "      if token in self.likelihoods:  # 학습 당시 추가했던 단어에 대해서만 고려.\r\n",
    "        log_prob0 += math.log(self.likelihoods[token][0])\r\n",
    "        log_prob1 += math.log(self.likelihoods[token][1])\r\n",
    "\r\n",
    "    # 마지막에 prior를 고려.\r\n",
    "    log_prob0 += math.log(self.priors[0])\r\n",
    "    log_prob1 += math.log(self.priors[1])\r\n",
    "\r\n",
    "    if log_prob0 >= log_prob1:\r\n",
    "      return 0\r\n",
    "    else:\r\n",
    "      return 1\r\n",
    "\r\n",
    "  def set_priors(self, train_labels):\r\n",
    "    class_counts = defaultdict(int)\r\n",
    "    for label in tqdm(train_labels):\r\n",
    "      class_counts[label] += 1\r\n",
    "    \r\n",
    "    for label, count in class_counts.items():\r\n",
    "      self.priors[label] = class_counts[label] / len(train_labels)\r\n",
    "\r\n",
    "  def set_likelihoods(self, train_tokenized, train_labels):\r\n",
    "    token_dists = {}  # 각 단어의 특정 class 조건 하에서의 등장 횟수.\r\n",
    "    class_counts = defaultdict(int)  # 특정 class에서 등장한 모든 단어의 등장 횟수.\r\n",
    "\r\n",
    "    for i, label in enumerate(tqdm(train_labels)):\r\n",
    "      count = 0\r\n",
    "      for token in train_tokenized[i]:\r\n",
    "        if token in self.w2i:  # 학습 데이터로 구축한 vocab에 있는 token만 고려.\r\n",
    "          if token not in token_dists:\r\n",
    "            token_dists[token] = {0:0, 1:0}\r\n",
    "          token_dists[token][label] += 1\r\n",
    "          count += 1\r\n",
    "      class_counts[label] += count\r\n",
    "\r\n",
    "    for token, dist in tqdm(token_dists.items()):\r\n",
    "      if token not in self.likelihoods:\r\n",
    "        self.likelihoods[token] = {\r\n",
    "            0:(token_dists[token][0] + self.k) / (class_counts[0] + len(self.w2i)*self.k),\r\n",
    "            1:(token_dists[token][1] + self.k) / (class_counts[1] + len(self.w2i)*self.k),\r\n",
    "        }"
   ]
  },
  {
   "cell_type": "markdown",
   "metadata": {
    "Collapsed": "false",
    "id": "xzjVUyBOQEJk"
   },
   "source": [
    "### **모델 학습**"
   ]
  },
  {
   "cell_type": "markdown",
   "metadata": {
    "Collapsed": "false",
    "id": "HuE3mFM46VBP"
   },
   "source": [
    "모델 객체를 만들고 학습 데이터로 학습시킵니다."
   ]
  },
  {
   "cell_type": "code",
   "execution_count": 23,
   "metadata": {
    "Collapsed": "false",
    "colab": {
     "base_uri": "https://localhost:8080/"
    },
    "id": "eiGW3laKRTPE",
    "outputId": "1a743df0-1711-4eb8-af72-c01714159f8a"
   },
   "outputs": [
    {
     "data": {
      "text/plain": [
       "[1, 0, 0, 1, 1, 0, 1, 1, 0, 0]"
      ]
     },
     "execution_count": 23,
     "metadata": {
      "tags": []
     },
     "output_type": "execute_result"
    }
   ],
   "source": [
    "train_labels"
   ]
  },
  {
   "cell_type": "code",
   "execution_count": 20,
   "metadata": {
    "Collapsed": "false",
    "colab": {
     "base_uri": "https://localhost:8080/"
    },
    "id": "Wt-iUEVRNsRj",
    "outputId": "8bb3ef13-7cac-42b0-8211-4ffe41537c38"
   },
   "outputs": [
    {
     "name": "stderr",
     "output_type": "stream",
     "text": [
      "100%|██████████| 10/10 [00:00<00:00, 6873.65it/s]\n",
      "100%|██████████| 10/10 [00:00<00:00, 36792.14it/s]\n",
      "100%|██████████| 66/66 [00:00<00:00, 67765.99it/s]\n"
     ]
    }
   ],
   "source": [
    "classifier = NaiveBayesClassifier(w2i)\r\n",
    "classifier.train(train_tokenized, train_labels)"
   ]
  },
  {
   "cell_type": "markdown",
   "metadata": {
    "Collapsed": "false",
    "id": "h79XWrsnQJtN"
   },
   "source": [
    "### **테스트**"
   ]
  },
  {
   "cell_type": "markdown",
   "metadata": {
    "Collapsed": "false",
    "id": "Pjk05W136d5o"
   },
   "source": [
    "Test sample에 대한 결과는 다음과 같습니다."
   ]
  },
  {
   "cell_type": "code",
   "execution_count": 21,
   "metadata": {
    "Collapsed": "false",
    "colab": {
     "base_uri": "https://localhost:8080/"
    },
    "id": "Fe-fOScGNzH3",
    "outputId": "43ecde52-db8a-4d80-ed72-33b49262ab67"
   },
   "outputs": [
    {
     "name": "stderr",
     "output_type": "stream",
     "text": [
      "100%|██████████| 4/4 [00:00<00:00, 5054.90it/s]\n"
     ]
    }
   ],
   "source": [
    "preds = []\r\n",
    "for test_tokens in tqdm(test_tokenized):\r\n",
    "  pred = classifier.inference(test_tokens)\r\n",
    "  preds.append(pred)"
   ]
  },
  {
   "cell_type": "code",
   "execution_count": 22,
   "metadata": {
    "Collapsed": "false",
    "colab": {
     "base_uri": "https://localhost:8080/"
    },
    "id": "hrYMTKM10vYk",
    "outputId": "9d1e87f3-7faf-4311-a161-0f12c3505055"
   },
   "outputs": [
    {
     "data": {
      "text/plain": [
       "[1, 0, 1, 0]"
      ]
     },
     "execution_count": 22,
     "metadata": {
      "tags": []
     },
     "output_type": "execute_result"
    }
   ],
   "source": [
    "preds"
   ]
  },
  {
   "cell_type": "markdown",
   "metadata": {
    "Collapsed": "false",
    "id": "BQkQRDBQT254"
   },
   "source": [
    "### **코드 분석**"
   ]
  },
  {
   "cell_type": "code",
   "execution_count": 24,
   "metadata": {
    "Collapsed": "false",
    "id": "4b68-Bh5zArE"
   },
   "outputs": [],
   "source": [
    "def set_priors(self, train_labels):\n",
    "    class_counts = defaultdict(int)\n",
    "    for label in tqdm(train_labels):\n",
    "      class_counts[label] += 1\n",
    "    \n",
    "    for label, count in class_counts.items():\n",
    "      self.priors[label] = class_counts[label] / len(train_labels)"
   ]
  },
  {
   "cell_type": "code",
   "execution_count": 25,
   "metadata": {
    "Collapsed": "false",
    "colab": {
     "base_uri": "https://localhost:8080/"
    },
    "id": "AqsG7p19Yl7M",
    "outputId": "1f6d2036-74ea-4f80-e8c7-b92d56d1b5f9"
   },
   "outputs": [
    {
     "data": {
      "text/plain": [
       "[1, 0, 0, 1, 1, 0, 1, 1, 0, 0]"
      ]
     },
     "execution_count": 25,
     "metadata": {
      "tags": []
     },
     "output_type": "execute_result"
    }
   ],
   "source": [
    "train_labels"
   ]
  },
  {
   "cell_type": "code",
   "execution_count": 26,
   "metadata": {
    "Collapsed": "false",
    "colab": {
     "base_uri": "https://localhost:8080/"
    },
    "id": "izHivBTkYfVM",
    "outputId": "301fd996-53bb-405a-cbdf-57e6c8bd5220"
   },
   "outputs": [
    {
     "name": "stderr",
     "output_type": "stream",
     "text": [
      "100%|██████████| 10/10 [00:00<00:00, 30437.62it/s]\n"
     ]
    },
    {
     "data": {
      "text/plain": [
       "defaultdict(int, {0: 5, 1: 5})"
      ]
     },
     "execution_count": 26,
     "metadata": {
      "tags": []
     },
     "output_type": "execute_result"
    }
   ],
   "source": [
    "class_counts = defaultdict(int)\n",
    "\n",
    "for label in tqdm(train_labels):\n",
    "    class_counts[label] += 1\n",
    "\n",
    "class_counts"
   ]
  },
  {
   "cell_type": "code",
   "execution_count": 27,
   "metadata": {
    "Collapsed": "false",
    "id": "x9wvlrHhYqWF"
   },
   "outputs": [],
   "source": [
    "priors = {}\n",
    "for label, count in class_counts.items():\n",
    "    priors[label] = class_counts[label] / len(train_labels)"
   ]
  },
  {
   "cell_type": "code",
   "execution_count": 28,
   "metadata": {
    "Collapsed": "false",
    "colab": {
     "base_uri": "https://localhost:8080/"
    },
    "id": "gMY3Hz__ZCA5",
    "outputId": "0d9081bb-090c-4d82-ed9c-668dcc3459ef"
   },
   "outputs": [
    {
     "data": {
      "text/plain": [
       "{0: 0.5, 1: 0.5}"
      ]
     },
     "execution_count": 28,
     "metadata": {
      "tags": []
     },
     "output_type": "execute_result"
    }
   ],
   "source": [
    "priors"
   ]
  },
  {
   "cell_type": "code",
   "execution_count": 33,
   "metadata": {
    "Collapsed": "false",
    "colab": {
     "base_uri": "https://localhost:8080/"
    },
    "id": "U_BjKCGhZy13",
    "outputId": "bc7c3e9c-fda4-402f-8b80-3ccc7d7c5054"
   },
   "outputs": [
    {
     "name": "stderr",
     "output_type": "stream",
     "text": [
      "100%|██████████| 10/10 [00:00<00:00, 2496.76it/s]\n"
     ]
    }
   ],
   "source": [
    "token_dists = {}\n",
    "class_counts = defaultdict(int)\n",
    "\n",
    "for i, label in enumerate(tqdm(train_labels)):\n",
    "    count = 0\n",
    "    for token in train_tokenized[i]:\n",
    "        if token in w2i:\n",
    "            if token not in token_dists:\n",
    "                token_dists[token] = {0:0, 1:0}\n",
    "            token_dists[token][label] += 1\n",
    "            count += 1\n",
    "        class_counts[label] += count"
   ]
  },
  {
   "cell_type": "code",
   "execution_count": 38,
   "metadata": {
    "Collapsed": "false",
    "colab": {
     "base_uri": "https://localhost:8080/"
    },
    "id": "E3zyb8I7aaaZ",
    "outputId": "1d161bd7-621d-488f-edfa-b8e48d1d7f72"
   },
   "outputs": [
    {
     "name": "stderr",
     "output_type": "stream",
     "text": [
      "100%|██████████| 66/66 [00:00<00:00, 18200.14it/s]\n"
     ]
    }
   ],
   "source": [
    "likelihoods = {}\n",
    "k = 0.1\n",
    "\n",
    "for token, dist in tqdm(token_dists.items()):\n",
    "    if token not in likelihoods:\n",
    "        likelihoods[token] = {\n",
    "            0:(token_dists[token][0] + k) / (class_counts[0] + len(w2i)*k),\n",
    "            1:(token_dists[token][1] + k) / (class_counts[1] + len(w2i)*k),\n",
    "        }"
   ]
  },
  {
   "cell_type": "code",
   "execution_count": 39,
   "metadata": {
    "Collapsed": "false",
    "colab": {
     "base_uri": "https://localhost:8080/"
    },
    "id": "wJWqDI9EakUz",
    "outputId": "46a840fd-9edb-4b86-a7ea-81d063d793b9"
   },
   "outputs": [
    {
     "data": {
      "text/plain": [
       "{'!': {0: 0.000244140625, 1: 0.004460665044606651},\n",
       " '.': {0: 0.019775390624999997, 1: 0.02473641524736415},\n",
       " '가': {0: 0.002685546875, 1: 0.00040551500405515005},\n",
       " '가격': {0: 0.002685546875, 1: 0.00040551500405515005},\n",
       " '가고': {0: 0.002685546875, 1: 0.00040551500405515005},\n",
       " '개선': {0: 0.002685546875, 1: 0.00040551500405515005},\n",
       " '것': {0: 0.002685546875, 1: 0.00040551500405515005},\n",
       " '기념일': {0: 0.000244140625, 1: 0.004460665044606651},\n",
       " '기대했던': {0: 0.002685546875, 1: 0.00040551500405515005},\n",
       " '기를': {0: 0.002685546875, 1: 0.00040551500405515005},\n",
       " '너무': {0: 0.005126953125, 1: 0.004460665044606651},\n",
       " '는': {0: 0.002685546875, 1: 0.00040551500405515005},\n",
       " '다': {0: 0.002685546875, 1: 0.00851581508515815},\n",
       " '다시': {0: 0.002685546875, 1: 0.00040551500405515005},\n",
       " '더': {0: 0.005126953125, 1: 0.00040551500405515005},\n",
       " '도': {0: 0.000244140625, 1: 0.02879156528791565},\n",
       " '되': {0: 0.002685546875, 1: 0.00040551500405515005},\n",
       " '드네': {0: 0.002685546875, 1: 0.00040551500405515005},\n",
       " '만족스러웠습니다': {0: 0.000244140625, 1: 0.004460665044606651},\n",
       " '맛': {0: 0.000244140625, 1: 0.004460665044606651},\n",
       " '맛있습니다': {0: 0.000244140625, 1: 0.004460665044606651},\n",
       " '바랍니다': {0: 0.002685546875, 1: 0.00040551500405515005},\n",
       " '방문': {0: 0.000244140625, 1: 0.00851581508515815},\n",
       " '별로': {0: 0.007568359375, 1: 0.00040551500405515005},\n",
       " '보단': {0: 0.002685546875, 1: 0.00040551500405515005},\n",
       " '분들': {0: 0.000244140625, 1: 0.004460665044606651},\n",
       " '분위기': {0: 0.000244140625, 1: 0.004460665044606651},\n",
       " '불쾌했습니다': {0: 0.002685546875, 1: 0.00040551500405515005},\n",
       " '비싸서': {0: 0.002685546875, 1: 0.00040551500405515005},\n",
       " '상태': {0: 0.002685546875, 1: 0.00040551500405515005},\n",
       " '생각': {0: 0.002685546875, 1: 0.00040551500405515005},\n",
       " '서비스': {0: 0.000244140625, 1: 0.012570965125709653},\n",
       " '신경': {0: 0.002685546875, 1: 0.00040551500405515005},\n",
       " '싶다는': {0: 0.002685546875, 1: 0.00040551500405515005},\n",
       " '썼으면': {0: 0.002685546875, 1: 0.00040551500405515005},\n",
       " '안': {0: 0.002685546875, 1: 0.00040551500405515005},\n",
       " '에': {0: 0.002685546875, 1: 0.004460665044606651},\n",
       " '였네요': {0: 0.005126953125, 1: 0.00040551500405515005},\n",
       " '였습니다': {0: 0.002685546875, 1: 0.00040551500405515005},\n",
       " '완전': {0: 0.000244140625, 1: 0.004460665044606651},\n",
       " '요': {0: 0.002685546875, 1: 0.00040551500405515005},\n",
       " '위생': {0: 0.005126953125, 1: 0.00040551500405515005},\n",
       " '으로': {0: 0.002685546875, 1: 0.00040551500405515005},\n",
       " '음식': {0: 0.002685546875, 1: 0.00851581508515815},\n",
       " '의사': {0: 0.000244140625, 1: 0.004460665044606651},\n",
       " '이': {0: 0.007568359375, 1: 0.00040551500405515005},\n",
       " '입니다': {0: 0.000244140625, 1: 0.004460665044606651},\n",
       " '있습니다': {0: 0.000244140625, 1: 0.004460665044606651},\n",
       " '재': {0: 0.000244140625, 1: 0.004460665044606651},\n",
       " '저': {0: 0.002685546875, 1: 0.00040551500405515005},\n",
       " '적': {0: 0.002685546875, 1: 0.00040551500405515005},\n",
       " '전반': {0: 0.002685546875, 1: 0.00040551500405515005},\n",
       " '정말': {0: 0.000244140625, 1: 0.004460665044606651},\n",
       " '조금': {0: 0.005126953125, 1: 0.00040551500405515005},\n",
       " '좀': {0: 0.005126953125, 1: 0.00040551500405515005},\n",
       " '좋겠습니다': {0: 0.002685546875, 1: 0.00040551500405515005},\n",
       " '좋았고': {0: 0.000244140625, 1: 0.004460665044606651},\n",
       " '좋았습니다': {0: 0.000244140625, 1: 0.004460665044606651},\n",
       " '좋은데': {0: 0.002685546875, 1: 0.00040551500405515005},\n",
       " '직원': {0: 0.000244140625, 1: 0.004460665044606651},\n",
       " '짰습니다': {0: 0.002685546875, 1: 0.00040551500405515005},\n",
       " '최고': {0: 0.000244140625, 1: 0.004460665044606651},\n",
       " '추천': {0: 0.000244140625, 1: 0.004460665044606651},\n",
       " '친절했습니다': {0: 0.000244140625, 1: 0.004460665044606651},\n",
       " '합니다': {0: 0.000244140625, 1: 0.004460665044606651},\n",
       " '했는데': {0: 0.000244140625, 1: 0.004460665044606651}}"
      ]
     },
     "execution_count": 39,
     "metadata": {
      "tags": []
     },
     "output_type": "execute_result"
    }
   ],
   "source": [
    "likelihoods"
   ]
  }
 ],
 "metadata": {
  "accelerator": "GPU",
  "colab": {
   "collapsed_sections": [],
   "name": "D16_naive_bayes.ipynb",
   "provenance": []
  },
  "kernelspec": {
   "display_name": "Python 3",
   "language": "python",
   "name": "python3"
  },
  "language_info": {
   "codemirror_mode": {
    "name": "ipython",
    "version": 3
   },
   "file_extension": ".py",
   "mimetype": "text/x-python",
   "name": "python",
   "nbconvert_exporter": "python",
   "pygments_lexer": "ipython3",
   "version": "3.7.6"
  }
 },
 "nbformat": 4,
 "nbformat_minor": 4
}
