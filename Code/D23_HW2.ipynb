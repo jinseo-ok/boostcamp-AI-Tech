{
  "nbformat": 4,
  "nbformat_minor": 0,
  "metadata": {
    "colab": {
      "name": "과제2의 사본",
      "provenance": [],
      "collapsed_sections": []
    },
    "kernelspec": {
      "display_name": "Python 3",
      "name": "python3"
    }
  },
  "cells": [
    {
      "cell_type": "code",
      "metadata": {
        "id": "RXgAgI1ewdlI"
      },
      "source": [
        "import random\r\n",
        "import numpy as np\r\n",
        "import pandas as pd\r\n",
        "import operator\r\n",
        "from scipy.sparse import coo_matrix\r\n",
        "from numpy.linalg import norm\r\n",
        "from sklearn.metrics import mean_squared_error"
      ],
      "execution_count": 8,
      "outputs": []
    },
    {
      "cell_type": "code",
      "metadata": {
        "id": "0gdhwpu2wtfk",
        "colab": {
          "base_uri": "https://localhost:8080/"
        },
        "outputId": "fbe57fba-a9eb-4d74-e036-871eb623425b"
      },
      "source": [
        "ls"
      ],
      "execution_count": 2,
      "outputs": [
        {
          "output_type": "stream",
          "text": [
            "\u001b[0m\u001b[01;34msample_data\u001b[0m/\n"
          ],
          "name": "stdout"
        }
      ]
    },
    {
      "cell_type": "code",
      "metadata": {
        "id": "E9Km6q1Dkk0O",
        "colab": {
          "base_uri": "https://localhost:8080/"
        },
        "outputId": "bd3dcaac-24b9-47d4-f912-25db0c780e63"
      },
      "source": [
        "import os, sys \r\n",
        "from google.colab import drive \r\n",
        "\r\n",
        "### 해당 코드 실행 시 colab에서 실행중인 폴더의 /content/drive/My Drive가 구글 드라이브에 연결됨\r\n",
        "\r\n",
        "drive.mount('/content/drive')\r\n"
      ],
      "execution_count": 3,
      "outputs": [
        {
          "output_type": "stream",
          "text": [
            "Mounted at /content/drive\n"
          ],
          "name": "stdout"
        }
      ]
    },
    {
      "cell_type": "code",
      "metadata": {
        "id": "I40uSNFYerGO",
        "colab": {
          "base_uri": "https://localhost:8080/"
        },
        "outputId": "1a4b3663-e2a6-4bb0-87a6-55fbf007a612"
      },
      "source": [
        "#### 영화 데이터셋 형태 확인 ####\r\n",
        "movies = pd.read_csv(\"/content/drive/MyDrive/boostcamp/data/graph/others/movies.csv\")\r\n",
        "\r\n",
        "print(\"### Movie Dataset Format ###\", end = '\\n\\n')\r\n",
        "print(movies.head())"
      ],
      "execution_count": 4,
      "outputs": [
        {
          "output_type": "stream",
          "text": [
            "### Movie Dataset Format ###\n",
            "\n",
            "   movieId  ...                                       genres\n",
            "0        1  ...  Adventure|Animation|Children|Comedy|Fantasy\n",
            "1        2  ...                   Adventure|Children|Fantasy\n",
            "2        3  ...                               Comedy|Romance\n",
            "3        4  ...                         Comedy|Drama|Romance\n",
            "4        5  ...                                       Comedy\n",
            "\n",
            "[5 rows x 3 columns]\n"
          ],
          "name": "stdout"
        }
      ]
    },
    {
      "cell_type": "code",
      "metadata": {
        "id": "YIPStkMqgZUH"
      },
      "source": [
        "################### 가상 유저 추가해주기 위한 작업 데이터 전처리 - 장르별 영화 리스트를 뽑는다 #################\r\n",
        "\r\n",
        "# 이 셀을 실행하는 이유는 후에 특정 장르를 좋아하는 가상의 유저를 만들어서 추천의 결과를 보기 위함입니다.\r\n",
        "\r\n",
        "movie_dict = dict()                 # {movie_id : (movie_title, movie_genre)}\r\n",
        "musical_list = list()               # musical 장르의 영화들\r\n",
        "horror_list = list()                # horror 장르의 영화들\r\n",
        "documentary_list = list()           # documentary 장르의 영화들\r\n",
        "comedy_list = list()                # comedy 장르의 영화들\r\n",
        "animation_list = list()\r\n",
        "\r\n",
        "for (movie_id, movie_title, movie_genre) in movies.itertuples(index=False):\r\n",
        "    movie_dict[movie_id] = (movie_title, movie_genre)\r\n",
        "    if 'Musical' in movie_genre:\r\n",
        "        musical_list.append(movie_id)\r\n",
        "    if 'Horror' in movie_genre:\r\n",
        "        horror_list.append(movie_id)\r\n",
        "    if 'Documentary' in movie_genre:\r\n",
        "        documentary_list.append(movie_id)\r\n",
        "    if 'Comedy' in movie_genre:\r\n",
        "        comedy_list.append(movie_id)\r\n",
        "    if 'Animation' in movie_genre:\r\n",
        "        animation_list.append(movie_id)"
      ],
      "execution_count": 5,
      "outputs": []
    },
    {
      "cell_type": "code",
      "metadata": {
        "id": "hmAWs5jy9VkB",
        "colab": {
          "base_uri": "https://localhost:8080/"
        },
        "outputId": "6a4e08c9-e985-413e-97df-7a5457b2aba8"
      },
      "source": [
        "ratings = pd.read_csv(\"/content/drive/MyDrive/boostcamp/data/graph/others/ratings.csv\")\r\n",
        "\r\n",
        "# 평점 데이터셋 형태 확인\r\n",
        "print(\"### Rating Dataset Format ###\", end='\\n\\n')\r\n",
        "print(ratings.head(), end='\\n\\n\\n')\r\n",
        "ratings.drop(['timestamp'], axis=1, inplace=True)\r\n",
        "print(ratings.head())"
      ],
      "execution_count": 6,
      "outputs": [
        {
          "output_type": "stream",
          "text": [
            "### Rating Dataset Format ###\n",
            "\n",
            "   userId  movieId  rating  timestamp\n",
            "0       1        1     4.0  964982703\n",
            "1       1        3     4.0  964981247\n",
            "2       1        6     4.0  964982224\n",
            "3       1       47     5.0  964983815\n",
            "4       1       50     5.0  964982931\n",
            "\n",
            "\n",
            "   userId  movieId  rating\n",
            "0       1        1     4.0\n",
            "1       1        3     4.0\n",
            "2       1        6     4.0\n",
            "3       1       47     5.0\n",
            "4       1       50     5.0\n"
          ],
          "name": "stdout"
        }
      ]
    },
    {
      "cell_type": "code",
      "metadata": {
        "id": "vglb1zq9XRJD",
        "colab": {
          "base_uri": "https://localhost:8080/"
        },
        "outputId": "6f6edbe5-e110-4d11-8f07-88ba11869840"
      },
      "source": [
        "'''\r\n",
        "    유저가 평균적으로 영화를 130개정도 본 것으로 나타나서 일반적으로 추가하는 사람들도 그정도로 설정\r\n",
        "    그리고, 영화에 대한 평점을 줄 때는 영화 순서를 섞고, 무조건 5점을 주는 것이 아니라 4, 5점 중 랜덤으로 설정\r\n",
        "    낮은 점수를 줄 때도 마찬가지.\r\n",
        "'''\r\n",
        "# uid==800을 가지는 유저를 추가한다. 이 유저는 뮤지컬의 광팬이다.\r\n",
        "\r\n",
        "random.shuffle(musical_list);\r\n",
        "random.shuffle(horror_list);\r\n",
        "random.shuffle(documentary_list);\r\n",
        "random.shuffle(comedy_list);\r\n",
        "\r\n",
        "print(ratings)\r\n",
        "new_uid = 800\r\n",
        "rows = list()\r\n",
        "for movie_id in musical_list[:100]:\r\n",
        "    rows.append([new_uid, movie_id, random.randint(4,5)])\r\n",
        "for movie_id in horror_list[:50]:\r\n",
        "    rows.append([new_uid, movie_id, random.randint(1,2)])\r\n",
        "for movie_id in documentary_list[:20]:\r\n",
        "    rows.append([new_uid, movie_id, random.randint(2,3)])\r\n",
        "for row in rows:\r\n",
        "    ratings = ratings.append(pd.Series(row, index=ratings.columns), ignore_index=True)\r\n",
        "print(ratings)\r\n"
      ],
      "execution_count": 9,
      "outputs": [
        {
          "output_type": "stream",
          "text": [
            "        userId  movieId  rating\n",
            "0            1        1     4.0\n",
            "1            1        3     4.0\n",
            "2            1        6     4.0\n",
            "3            1       47     5.0\n",
            "4            1       50     5.0\n",
            "...        ...      ...     ...\n",
            "100831     610   166534     4.0\n",
            "100832     610   168248     5.0\n",
            "100833     610   168250     5.0\n",
            "100834     610   168252     5.0\n",
            "100835     610   170875     3.0\n",
            "\n",
            "[100836 rows x 3 columns]\n",
            "        userId  movieId  rating\n",
            "0            1        1     4.0\n",
            "1            1        3     4.0\n",
            "2            1        6     4.0\n",
            "3            1       47     5.0\n",
            "4            1       50     5.0\n",
            "...        ...      ...     ...\n",
            "101001     800    27850     2.0\n",
            "101002     800   158842     2.0\n",
            "101003     800     1123     3.0\n",
            "101004     800     4237     3.0\n",
            "101005     800   102852     2.0\n",
            "\n",
            "[101006 rows x 3 columns]\n"
          ],
          "name": "stdout"
        }
      ]
    },
    {
      "cell_type": "code",
      "metadata": {
        "id": "3Rg96RFt10xs",
        "colab": {
          "base_uri": "https://localhost:8080/"
        },
        "outputId": "4bbbbac1-9c08-4716-a8c6-5cb68f679563"
      },
      "source": [
        "# uid==850을 가지는 유저를 추가한다. 이 유저는 다큐 영화의 광팬이다.\r\n",
        "\r\n",
        "random.shuffle(musical_list);\r\n",
        "random.shuffle(horror_list);\r\n",
        "random.shuffle(documentary_list);\r\n",
        "random.shuffle(comedy_list);\r\n",
        "random.shuffle(animation_list);\r\n",
        "\r\n",
        "\r\n",
        "print(ratings)\r\n",
        "new_uid = 850\r\n",
        "rows = list()\r\n",
        "for movie_id in documentary_list[:100]:\r\n",
        "    rows.append([new_uid, movie_id, random.randint(4,5)])\r\n",
        "for movie_id in horror_list[:50]:\r\n",
        "    rows.append([new_uid, movie_id, random.randint(1,2)])\r\n",
        "for movie_id in animation_list[:10]:\r\n",
        "    rows.append([new_uid, movie_id, random.randint(1,2)])\r\n",
        "\r\n",
        "for row in rows:\r\n",
        "    ratings = ratings.append(pd.Series(row, index=ratings.columns), ignore_index=True)\r\n",
        "print(ratings)"
      ],
      "execution_count": 10,
      "outputs": [
        {
          "output_type": "stream",
          "text": [
            "        userId  movieId  rating\n",
            "0            1        1     4.0\n",
            "1            1        3     4.0\n",
            "2            1        6     4.0\n",
            "3            1       47     5.0\n",
            "4            1       50     5.0\n",
            "...        ...      ...     ...\n",
            "101001     800    27850     2.0\n",
            "101002     800   158842     2.0\n",
            "101003     800     1123     3.0\n",
            "101004     800     4237     3.0\n",
            "101005     800   102852     2.0\n",
            "\n",
            "[101006 rows x 3 columns]\n",
            "        userId  movieId  rating\n",
            "0            1        1     4.0\n",
            "1            1        3     4.0\n",
            "2            1        6     4.0\n",
            "3            1       47     5.0\n",
            "4            1       50     5.0\n",
            "...        ...      ...     ...\n",
            "101161     850   157296     1.0\n",
            "101162     850     6857     1.0\n",
            "101163     850     5159     2.0\n",
            "101164     850    74791     2.0\n",
            "101165     850   162578     2.0\n",
            "\n",
            "[101166 rows x 3 columns]\n"
          ],
          "name": "stdout"
        }
      ]
    },
    {
      "cell_type": "code",
      "metadata": {
        "id": "0mdpHH8kxGuL",
        "colab": {
          "base_uri": "https://localhost:8080/"
        },
        "outputId": "a329598d-af95-40e4-fbd5-381c183cd8e4"
      },
      "source": [
        "# uid==900을 가지는 유저를 추가한다. 이 유저는 호러의 광팬이다.\r\n",
        "\r\n",
        "random.shuffle(musical_list);\r\n",
        "random.shuffle(horror_list);\r\n",
        "random.shuffle(documentary_list);\r\n",
        "random.shuffle(comedy_list);\r\n",
        "random.shuffle(animation_list);\r\n",
        "\r\n",
        "new_uid = 900\r\n",
        "rows = list()\r\n",
        "for movie_id in horror_list[:120]:\r\n",
        "    rows.append([new_uid, movie_id, random.randint(4,5)])\r\n",
        "for movie_id in documentary_list[:10]:\r\n",
        "    rows.append([new_uid, movie_id, random.randint(1,2)])\r\n",
        "for movie_id in comedy_list[:30]:\r\n",
        "    rows.append([new_uid, movie_id, random.randint(1,2)])\r\n",
        "for movie_id in animation_list[:20]:\r\n",
        "    rows.append([new_uid, movie_id, random.randint(1,2)])\r\n",
        "for row in rows:\r\n",
        "    ratings = ratings.append(pd.Series(row, index=ratings.columns), ignore_index=True)\r\n",
        "print(ratings)"
      ],
      "execution_count": 11,
      "outputs": [
        {
          "output_type": "stream",
          "text": [
            "        userId  movieId  rating\n",
            "0            1        1     4.0\n",
            "1            1        3     4.0\n",
            "2            1        6     4.0\n",
            "3            1       47     5.0\n",
            "4            1       50     5.0\n",
            "...        ...      ...     ...\n",
            "101341     900     3725     1.0\n",
            "101342     900   143245     1.0\n",
            "101343     900    62336     1.0\n",
            "101344     900    46337     1.0\n",
            "101345     900   128991     1.0\n",
            "\n",
            "[101346 rows x 3 columns]\n"
          ],
          "name": "stdout"
        }
      ]
    },
    {
      "cell_type": "code",
      "metadata": {
        "id": "SnjlX5BT_yKC",
        "colab": {
          "base_uri": "https://localhost:8080/"
        },
        "outputId": "8569f452-fb9d-4481-873a-565e30d415c8"
      },
      "source": [
        "# uid==950을 가지는 유저를 추가한다. 이 유저는 애니메이션의 광팬이다.\r\n",
        "\r\n",
        "random.shuffle(musical_list);\r\n",
        "random.shuffle(horror_list);\r\n",
        "random.shuffle(documentary_list);\r\n",
        "random.shuffle(comedy_list);\r\n",
        "random.shuffle(animation_list);\r\n",
        "\r\n",
        "new_uid = 950\r\n",
        "rows = list()\r\n",
        "for movie_id in horror_list[:20]:\r\n",
        "    rows.append([new_uid, movie_id, random.randint(1,2)])\r\n",
        "for movie_id in documentary_list[:10]:\r\n",
        "    rows.append([new_uid, movie_id, random.randint(1,3)])\r\n",
        "for movie_id in comedy_list[:30]:\r\n",
        "    rows.append([new_uid, movie_id, random.randint(2,4)])\r\n",
        "for movie_id in animation_list[:150]:\r\n",
        "    rows.append([new_uid, movie_id, random.randint(3,5)])\r\n",
        "for row in rows:\r\n",
        "    ratings = ratings.append(pd.Series(row, index=ratings.columns), ignore_index=True)\r\n",
        "print(ratings)"
      ],
      "execution_count": 12,
      "outputs": [
        {
          "output_type": "stream",
          "text": [
            "        userId  movieId  rating\n",
            "0            1        1     4.0\n",
            "1            1        3     4.0\n",
            "2            1        6     4.0\n",
            "3            1       47     5.0\n",
            "4            1       50     5.0\n",
            "...        ...      ...     ...\n",
            "101551     950   143245     5.0\n",
            "101552     950   163639     5.0\n",
            "101553     950   167746     3.0\n",
            "101554     950   104245     5.0\n",
            "101555     950    96281     4.0\n",
            "\n",
            "[101556 rows x 3 columns]\n"
          ],
          "name": "stdout"
        }
      ]
    },
    {
      "cell_type": "code",
      "metadata": {
        "id": "4u-StcnO9Vl3",
        "colab": {
          "base_uri": "https://localhost:8080/"
        },
        "outputId": "94ff7010-a977-428b-f6bf-25f0da0255fc"
      },
      "source": [
        "########################################################################\r\n",
        "######### Mapping user id, movie id to user index, movie index #########\r\n",
        "########################################################################\r\n",
        "\r\n",
        "uid_2_idx = dict()     # user id --> user idx\r\n",
        "mid_2_idx = dict()    # movie id --> movie idx\r\n",
        "\r\n",
        "u_idx = 0\r\n",
        "m_idx = 0\r\n",
        "for user_id, movie_id, r in ratings.itertuples(index=False):\r\n",
        "    if user_id not in uid_2_idx:\r\n",
        "        uid_2_idx[user_id] = u_idx\r\n",
        "        u_idx = u_idx+1\r\n",
        "\r\n",
        "    if movie_id not in mid_2_idx:\r\n",
        "        mid_2_idx[movie_id] = m_idx\r\n",
        "        m_idx = m_idx+1\r\n",
        "\r\n",
        "num_user = len(uid_2_idx)\r\n",
        "num_movie = len(mid_2_idx)\r\n",
        "print(num_user) # 유저수\r\n",
        "print(num_movie) # 영화수\r\n",
        "\r\n",
        "uidx_2_id = {v:k for (k,v) in uid_2_idx.items()}    # user idx --> user id\r\n",
        "midx_2_id = {v:k for (k,v) in mid_2_idx.items()}    # movie idx --> movie id\r\n"
      ],
      "execution_count": 13,
      "outputs": [
        {
          "output_type": "stream",
          "text": [
            "614\n",
            "9725\n"
          ],
          "name": "stdout"
        }
      ]
    },
    {
      "cell_type": "code",
      "metadata": {
        "id": "5bpAhY-QAQ5i",
        "colab": {
          "base_uri": "https://localhost:8080/"
        },
        "outputId": "cc97b91f-a544-419d-aaa7-9cb2e2791f65"
      },
      "source": [
        "# rating matrix 초기화\r\n",
        "rating_matrix = np.zeros((num_user, num_movie)) # num_user x num_movie를 크기로 가지는 numpy 행렬 선언, 각 요소는 유저가 영화에 매긴 rating을 나타냄.\r\n",
        "\r\n",
        "for user_id, movie_id, r in ratings.itertuples(index=False):\r\n",
        "    u_idx = uid_2_idx[user_id]\r\n",
        "    m_idx = mid_2_idx[movie_id]\r\n",
        "    rating_matrix[u_idx, m_idx] = r\r\n",
        "\r\n",
        "rating_matrix"
      ],
      "execution_count": 14,
      "outputs": [
        {
          "output_type": "execute_result",
          "data": {
            "text/plain": [
              "array([[4., 4., 4., ..., 0., 0., 0.],\n",
              "       [0., 0., 0., ..., 0., 0., 0.],\n",
              "       [0., 0., 0., ..., 0., 0., 0.],\n",
              "       ...,\n",
              "       [0., 0., 0., ..., 0., 0., 0.],\n",
              "       [0., 0., 0., ..., 0., 4., 0.],\n",
              "       [5., 0., 0., ..., 0., 0., 0.]])"
            ]
          },
          "metadata": {
            "tags": []
          },
          "execution_count": 14
        }
      ]
    },
    {
      "cell_type": "code",
      "metadata": {
        "id": "vNh0QF9ROiEl"
      },
      "source": [
        "######################################################################################################################################\r\n",
        "# Training Set과 Test Set을 분리해 주는 함수\r\n",
        "######################################################################################################################################\r\n",
        "def train_test_split(ratings):\r\n",
        "    test = np.zeros_like(ratings)\r\n",
        "    train = ratings.copy()\r\n",
        "    for x in range(ratings.shape[0]):\r\n",
        "        nonzero_idx = ratings[x, :].nonzero()[0]\r\n",
        "        test_ratings = np.random.choice(nonzero_idx, \r\n",
        "                                        size=int(len(nonzero_idx)/5),  \r\n",
        "                                        replace=False)\r\n",
        "        train[x, test_ratings] = 0.\r\n",
        "        test[x, test_ratings] = ratings[x, test_ratings]\r\n",
        "        \r\n",
        "    assert(np.all((train * test) == 0))     # train set과 test set이 완전히 분리되었는지 확인\r\n",
        "\r\n",
        "    return train, test\r\n",
        "\r\n",
        "######################################################################################\r\n",
        "###################### 유저별 평균을 기존 rating에서 빼준다 ##########################\r\n",
        "######################################################################################\r\n",
        "####### *****rating이 \"있는\" 값들의 평균만을 rating이 있는 곳에서만 빼준다############\r\n",
        "def subtract_mean_ratings(ratings):\r\n",
        "    mean_subtracted_ratings = np.zeros_like(ratings)\r\n",
        "    avg_ratings = np.zeros(ratings.shape[0])\r\n",
        "    for i in range(ratings.shape[0]):\r\n",
        "        nonzero_idx = ratings[i].nonzero()[0]                       # rating 값이 존재하는(0이 아닌) index 추출\r\n",
        "        sum_ratings = np.sum(ratings[i])          \r\n",
        "        num_nonzero = len(nonzero_idx)\r\n",
        "        avg_rating = sum_ratings / num_nonzero                      # rating 값들의 평균값 계산\r\n",
        "        if num_nonzero == 0:                  \r\n",
        "            avg_rating = 0\r\n",
        "        avg_ratings[i] = avg_rating\r\n",
        "        mean_subtracted_ratings[i, nonzero_idx] = ratings[i, nonzero_idx] - avg_rating \r\n",
        "                                                                    # 원 rating matrix에서 평균 값을 빼줌\r\n",
        "    return mean_subtracted_ratings, avg_ratings\r\n"
      ],
      "execution_count": 15,
      "outputs": []
    },
    {
      "cell_type": "code",
      "metadata": {
        "id": "HeFBFpNpN5PM"
      },
      "source": [
        "train_ratings, test_ratings = train_test_split(rating_matrix)\n",
        "mean_subtracted_ratings, avg_ratings = subtract_mean_ratings(train_ratings)"
      ],
      "execution_count": 16,
      "outputs": []
    },
    {
      "cell_type": "markdown",
      "metadata": {
        "id": "VTQZ8QtXld-2"
      },
      "source": [
        "![image](https://user-images.githubusercontent.com/48677363/109418269-d9f66f80-7a0a-11eb-844f-a46225867401.png)\n"
      ]
    },
    {
      "cell_type": "markdown",
      "metadata": {
        "id": "nA4qNfVJmxuf"
      },
      "source": [
        "![image](https://user-images.githubusercontent.com/48677363/109418422-a9630580-7a0b-11eb-8193-3554c968d3d2.png)\n"
      ]
    },
    {
      "cell_type": "code",
      "metadata": {
        "id": "22zzcXhMwaO5"
      },
      "source": [
        "def calculate_rmse(R, U, V, lambda_u, lambda_v):\r\n",
        "    error = 0\r\n",
        "    for u, i, r_ui in zip(R.row, R.col, R.data):\r\n",
        "        # \"Insert Your Code!\"\r\n",
        "        error += (r_ui - np.dot(U[u], V[:, i])) ** 2\r\n",
        "    for u in range(U.shape[0]):\r\n",
        "        # \"Insert Your Code!\"\r\n",
        "        error += lambda_u * (norm(U[u]) ** 2)\r\n",
        "    for i in range(V.shape[1]):\r\n",
        "        # \"Insert Your Code!\"\r\n",
        "        error += lambda_v * (norm(V[:,i]) ** 2)\r\n",
        "    rmse = np.sqrt(error/len(R.data))\r\n",
        "    return rmse\r\n",
        "\r\n",
        "def SGD(U, V, R, lr, lambda_u, lambda_v):\r\n",
        "    for u, i, r_ui in R:\r\n",
        "        # Insert Your Code!\r\n",
        "        e = r_ui - np.dot(U[u], V[:,i])\r\n",
        "        grad_u = 2 * e * (-V[:,i]) + 2 * lambda_u * U[u]\r\n",
        "        grad_v = 2 * e * (-U[u,:]) + 2 * lambda_v * V[:,i]\r\n",
        "        U[u] = U[u] - lr * grad_u\r\n",
        "        V[:, i] = V[:, i] - lr * grad_v\r\n",
        "        \r\n",
        "    return U, V\r\n",
        "\r\n",
        "\r\n",
        "def train(ratings, dim=10, max_epoch=50, lambda_u=0.1, lambda_v=0.1, lr=0.01):\r\n",
        "    #lambda_u : regularization coefficient of U matrix, lambda_v : regularizatoin coeff of V matrix,\r\n",
        "    # lr : learning rate\r\n",
        "    num_u, num_i = ratings.shape\r\n",
        "\r\n",
        "    U = np.random.rand(num_u, dim)\r\n",
        "    V = np.random.rand(dim, num_i)\r\n",
        "    R = coo_matrix(ratings)\r\n",
        "    rmse = calculate_rmse(R, U, V, lambda_u, lambda_v)\r\n",
        "    print(\"Initial RMSE: \" + str(rmse))\r\n",
        "\r\n",
        "    for epoch in range(max_epoch):\r\n",
        "        if epoch != 0 and epoch%10==0:\r\n",
        "            lr /= 2\r\n",
        "        rating_data = list(zip(R.row, R.col, R.data))\r\n",
        "        random.shuffle(rating_data)\r\n",
        "        U, V = SGD(U, V, rating_data, lr, lambda_u, lambda_v)\r\n",
        "        rmse = calculate_rmse(R, U, V, lambda_u, lambda_v)        \r\n",
        "        print('Epoch: {:5}, RMSE: {:15}, Learning Rate:{}'.format(epoch, rmse, lr))\r\n",
        "    \r\n",
        "    return U, V \r\n",
        "\r\n",
        "def predict(U, V, user_id=None):\r\n",
        "    # user_id가 주어지지 않은 경우엔 전체 예측된 평점 행렬을 return,\r\n",
        "    # 주어진 경우엔 해당 유저에 대한 예측 평점 행렬을 return한다.\r\n",
        "\r\n",
        "    if user_id is None:\r\n",
        "        return np.dot(U, V)\r\n",
        "    else:\r\n",
        "        user_idx = uid_2_idx[user_id]\r\n",
        "        return np.dot(U[user_idx], V )\r\n",
        "\r\n",
        "\r\n",
        "#######################################################################################\r\n",
        "##########user id = uid인 유저에게 유저가 본 영화를 제외하고 N개를 추천해준다######\r\n",
        "#######################################################################################\r\n",
        "def recommend_for_uid(uid, ori_rating_matrix, U, V, top_N):\r\n",
        "\r\n",
        "    movie_rating_dict = dict()\r\n",
        "    u_predicted_rating = predict(U, V, user_id=uid)\r\n",
        "    for movie_idx, pred_rating in enumerate(u_predicted_rating):\r\n",
        "        movie_rating_dict[movie_idx] = pred_rating\r\n",
        "    \r\n",
        "    uidx = uid_2_idx[uid]\r\n",
        "    sorted_dict = sorted(movie_rating_dict.items(), key=operator.itemgetter(1), reverse=True)       # 전체 영화를 대상으로 예측 rating을 기준으로 나열\r\n",
        "    already_seen_movie_idxs = np.nonzero(ori_rating_matrix[uidx])[0]                                # 유저가 평점을매긴(이미 본) 영화들의 idx\r\n",
        "\r\n",
        "    print_cnt = 0\r\n",
        "    for idx, pred_rating in sorted_dict:\r\n",
        "        if print_cnt == top_N:\r\n",
        "            break\r\n",
        "        if idx not in already_seen_movie_idxs:\r\n",
        "            print(str(movie_dict[midx_2_id[idx]])+\"    \"+str(pred_rating))\r\n",
        "            print_cnt = print_cnt+1\r\n"
      ],
      "execution_count": 33,
      "outputs": []
    },
    {
      "cell_type": "code",
      "metadata": {
        "id": "mbm168gnDW1p",
        "colab": {
          "base_uri": "https://localhost:8080/"
        },
        "outputId": "9c58cedb-b5c3-4402-b2a9-7239d6cb6d05"
      },
      "source": [
        "U, V = train(mean_subtracted_ratings)"
      ],
      "execution_count": 34,
      "outputs": [
        {
          "output_type": "stream",
          "text": [
            "Initial RMSE: 2.7895811373480206\n",
            "Epoch:     0, RMSE: 0.9780018000324875, Learning Rate:0.01\n",
            "Epoch:     1, RMSE: 0.9545814739430523, Learning Rate:0.01\n",
            "Epoch:     2, RMSE: 0.9437708586728852, Learning Rate:0.01\n",
            "Epoch:     3, RMSE: 0.9353692191382806, Learning Rate:0.01\n",
            "Epoch:     4, RMSE: 0.9274391133529494, Learning Rate:0.01\n",
            "Epoch:     5, RMSE: 0.9166994187750706, Learning Rate:0.01\n",
            "Epoch:     6, RMSE: 0.899381521598756, Learning Rate:0.01\n",
            "Epoch:     7, RMSE: 0.8817504672331042, Learning Rate:0.01\n",
            "Epoch:     8, RMSE: 0.8628940873411419, Learning Rate:0.01\n",
            "Epoch:     9, RMSE: 0.8474557624154331, Learning Rate:0.01\n",
            "Epoch:    10, RMSE: 0.8374987883785165, Learning Rate:0.005\n",
            "Epoch:    11, RMSE: 0.830069610156552, Learning Rate:0.005\n",
            "Epoch:    12, RMSE: 0.8236317109533862, Learning Rate:0.005\n",
            "Epoch:    13, RMSE: 0.8169700634159396, Learning Rate:0.005\n",
            "Epoch:    14, RMSE: 0.8113189978569127, Learning Rate:0.005\n",
            "Epoch:    15, RMSE: 0.8054457580335065, Learning Rate:0.005\n",
            "Epoch:    16, RMSE: 0.8002130874340448, Learning Rate:0.005\n",
            "Epoch:    17, RMSE: 0.7951194255176292, Learning Rate:0.005\n",
            "Epoch:    18, RMSE: 0.7898159343798347, Learning Rate:0.005\n",
            "Epoch:    19, RMSE: 0.7854450323534724, Learning Rate:0.005\n",
            "Epoch:    20, RMSE: 0.7823449990286454, Learning Rate:0.0025\n",
            "Epoch:    21, RMSE: 0.7800072114821978, Learning Rate:0.0025\n",
            "Epoch:    22, RMSE: 0.7776207360191755, Learning Rate:0.0025\n",
            "Epoch:    23, RMSE: 0.7753258241023999, Learning Rate:0.0025\n",
            "Epoch:    24, RMSE: 0.7731319232149476, Learning Rate:0.0025\n",
            "Epoch:    25, RMSE: 0.7711799862330161, Learning Rate:0.0025\n",
            "Epoch:    26, RMSE: 0.7689787252831214, Learning Rate:0.0025\n",
            "Epoch:    27, RMSE: 0.7668270651905497, Learning Rate:0.0025\n",
            "Epoch:    28, RMSE: 0.7646975117820991, Learning Rate:0.0025\n",
            "Epoch:    29, RMSE: 0.7628598055947791, Learning Rate:0.0025\n",
            "Epoch:    30, RMSE: 0.7616365937705634, Learning Rate:0.00125\n",
            "Epoch:    31, RMSE: 0.7605910166005384, Learning Rate:0.00125\n",
            "Epoch:    32, RMSE: 0.7596264507700309, Learning Rate:0.00125\n",
            "Epoch:    33, RMSE: 0.758736704891403, Learning Rate:0.00125\n",
            "Epoch:    34, RMSE: 0.7577883285197444, Learning Rate:0.00125\n",
            "Epoch:    35, RMSE: 0.7568144172666471, Learning Rate:0.00125\n",
            "Epoch:    36, RMSE: 0.7559207202932091, Learning Rate:0.00125\n",
            "Epoch:    37, RMSE: 0.7550233975790102, Learning Rate:0.00125\n",
            "Epoch:    38, RMSE: 0.7539888535175797, Learning Rate:0.00125\n",
            "Epoch:    39, RMSE: 0.7532146903699934, Learning Rate:0.00125\n",
            "Epoch:    40, RMSE: 0.7526513622121692, Learning Rate:0.000625\n",
            "Epoch:    41, RMSE: 0.7521700512241547, Learning Rate:0.000625\n",
            "Epoch:    42, RMSE: 0.7517023168190493, Learning Rate:0.000625\n",
            "Epoch:    43, RMSE: 0.7512493713559605, Learning Rate:0.000625\n",
            "Epoch:    44, RMSE: 0.7507866055590541, Learning Rate:0.000625\n",
            "Epoch:    45, RMSE: 0.7503556480788149, Learning Rate:0.000625\n",
            "Epoch:    46, RMSE: 0.7499295639644764, Learning Rate:0.000625\n",
            "Epoch:    47, RMSE: 0.7494707835576141, Learning Rate:0.000625\n",
            "Epoch:    48, RMSE: 0.7490655852628784, Learning Rate:0.000625\n",
            "Epoch:    49, RMSE: 0.7486110399426161, Learning Rate:0.000625\n"
          ],
          "name": "stdout"
        }
      ]
    },
    {
      "cell_type": "code",
      "metadata": {
        "id": "T_ralUqhZVGV",
        "colab": {
          "base_uri": "https://localhost:8080/"
        },
        "outputId": "adc8c066-6e3f-4887-ae43-ec087d1509f1"
      },
      "source": [
        "predicted_ratings = predict(U, V)\r\n",
        "predicted_ratings += avg_ratings.reshape([-1,1])\r\n",
        "print(predicted_ratings)"
      ],
      "execution_count": 35,
      "outputs": [
        {
          "output_type": "stream",
          "text": [
            "[[4.53608618 4.24901643 4.55389726 ... 4.28559529 4.50491747 4.2098708 ]\n",
            " [3.73005748 3.92828458 4.12524144 ... 4.49845689 4.7179534  4.40854497]\n",
            " [1.35328565 2.66813652 1.20038201 ... 3.05075427 2.96624938 2.04590862]\n",
            " ...\n",
            " [3.13169854 3.10711626 3.25588901 ... 3.08812031 3.00304178 3.48415122]\n",
            " [2.75373305 3.94377944 3.40657115 ... 3.54152527 3.85110451 3.80106804]\n",
            " [3.40407582 3.40175766 3.68259398 ... 3.37618886 3.91010663 4.02098585]]\n"
          ],
          "name": "stdout"
        }
      ]
    },
    {
      "cell_type": "code",
      "metadata": {
        "id": "xZj01amDwC7T"
      },
      "source": [
        "# 타겟 유저를 정해서, 해당 유저가 본 영화들의 분포를 뽑아내보기\r\n",
        "# 유저의 추첨 결과가 올바르게 나왔는지 해석하기 위하여 해당 함수를 만들어서 추천 결과와 출력합니다.  \r\n",
        "def print_user_preference(ori_rating_matrix, u_idx, type):\r\n",
        "    '''\r\n",
        "        type : ['avg', 'sum', 'cnt']\r\n",
        "        avg 는 평균 평점, sum은 평점의 합, cnt은 평점 매긴 횟수\r\n",
        "    '''\r\n",
        "    target_hist = ori_rating_matrix[u_idx]\r\n",
        "    target_seen_movie_idx =  np.nonzero(target_hist)[0]\r\n",
        "    target_genre_dict = dict()\r\n",
        "    target_genre_sum_rating_dict = dict()\r\n",
        "    for movie_idx in target_seen_movie_idx:\r\n",
        "        _, genre = movie_dict[midx_2_id[movie_idx]]\r\n",
        "        for g in genre.split(\"|\"):\r\n",
        "            if g not in target_genre_dict.keys():\r\n",
        "                target_genre_dict[g]=0\r\n",
        "                target_genre_sum_rating_dict[g]=0\r\n",
        "            target_genre_dict[g]=target_genre_dict[g]+1\r\n",
        "            target_genre_sum_rating_dict[g] = target_genre_sum_rating_dict[g] + ori_rating_matrix[u_idx][movie_idx]\r\n",
        "\r\n",
        "    # # 많이 본 횟수 대로 \r\n",
        "    if type=='cnt':\r\n",
        "        target_genre_dict = sorted(target_genre_dict.items(), key=operator.itemgetter(1), reverse=True)\r\n",
        "        for k,v in target_genre_dict:\r\n",
        "            print(k,v)\r\n",
        "    \r\n",
        "    # # 영화 평점의 합대로\r\n",
        "    elif type=='sum':\r\n",
        "        target_genre_sum_rating_dict = sorted(target_genre_sum_rating_dict.items(), key=operator.itemgetter(1), reverse=True)\r\n",
        "        for k,v in target_genre_sum_rating_dict:\r\n",
        "            print(k,v)\r\n",
        "        \r\n",
        "    # 영화 평균 평점 순서대로\r\n",
        "    elif type==\"avg\":    \r\n",
        "        target_genre_avg_rating_dict = dict()\r\n",
        "        for k,v in target_genre_sum_rating_dict.items():\r\n",
        "            target_genre_avg_rating_dict[k] = v/target_genre_dict[k]\r\n",
        "        target_genre_avg_rating_dict = sorted(target_genre_avg_rating_dict.items(), key=operator.itemgetter(1), reverse=True)\r\n",
        "        for k,v in target_genre_avg_rating_dict:\r\n",
        "            print(k,v)\r\n",
        "    \r\n",
        "    else:\r\n",
        "        target_genre_avg_rating_dict = dict()\r\n",
        "        for k,v in target_genre_sum_rating_dict.items():\r\n",
        "            target_genre_avg_rating_dict[k] = v/target_genre_dict[k]\r\n",
        "        target_genre_avg_rating_dict = sorted(target_genre_avg_rating_dict.items(), key=operator.itemgetter(1), reverse=True)\r\n",
        "        for k,v in target_genre_avg_rating_dict:\r\n",
        "            print(k,v,target_genre_dict[k],target_genre_sum_rating_dict[k])"
      ],
      "execution_count": 36,
      "outputs": []
    },
    {
      "cell_type": "code",
      "metadata": {
        "id": "t92lSG2RjcMn",
        "colab": {
          "base_uri": "https://localhost:8080/"
        },
        "outputId": "f45956eb-bed0-4cbb-bc2a-6776b3c5a91a"
      },
      "source": [
        "##### Check the RMSE of the test set ####### \r\n",
        "pred = predicted_ratings[test_ratings.nonzero()].flatten()\r\n",
        "actual = test_ratings[test_ratings.nonzero()].flatten()\r\n",
        "\r\n",
        "print(\"### Test RMSE ###\")\r\n",
        "print(np.sqrt(mean_squared_error(pred,actual)))"
      ],
      "execution_count": 37,
      "outputs": [
        {
          "output_type": "stream",
          "text": [
            "### Test RMSE ###\n",
            "0.8717832142841332\n"
          ],
          "name": "stdout"
        }
      ]
    },
    {
      "cell_type": "code",
      "metadata": {
        "id": "hlgj8jBnDW3x"
      },
      "source": [
        "musical_fan = 800\r\n",
        "docu_fan = 850\r\n",
        "horror_fan = 900\r\n",
        "animation_fan =  950"
      ],
      "execution_count": 38,
      "outputs": []
    },
    {
      "cell_type": "code",
      "metadata": {
        "id": "vZaDTFklxcop",
        "colab": {
          "base_uri": "https://localhost:8080/"
        },
        "outputId": "5eb5c878-6c6d-4618-90f2-bd13bb4e45ee"
      },
      "source": [
        "# 해당 유저가 본 영화의 분포를 알고 싶으면 print_user_preference 함수를 실행시켜보세요!\r\n",
        "# print_user_preference(rating_matrix, musical_fan, 'sum')\r\n",
        "recommend_for_uid(musical_fan, rating_matrix, U, V, top_N=30)"
      ],
      "execution_count": 39,
      "outputs": [
        {
          "output_type": "stream",
          "text": [
            "('The Artist (2011)', 'Comedy|Drama|Romance')    1.8313238591338274\n",
            "(\"Doug's 1st Movie (1999)\", 'Animation|Children')    1.7009352861018563\n",
            "('Death Proof (2007)', 'Action|Adventure|Crime|Horror|Thriller')    1.6842807141551401\n",
            "('Pearl Jam Twenty (2011)', 'Documentary|Musical')    1.6683720240907736\n",
            "('Fifty Shades of Grey (2015)', 'Drama|Romance')    1.659167002096692\n",
            "('Follow Me, Boys! (1966)', 'Comedy|Drama')    1.5314294138544347\n",
            "('There Once Was a Dog (1982)', 'Animation|Children|Comedy')    1.5209660603888113\n",
            "(\"Ivan's Childhood (a.k.a. My Name is Ivan) (Ivanovo detstvo) (1962)\", 'Drama|War')    1.5190116491273833\n",
            "('Last Waltz, The (1978)', 'Documentary')    1.5152458554975428\n",
            "('Wrong Turn (2003)', 'Horror|Thriller')    1.5145034111930369\n",
            "('Iron Man (1931)', 'Drama')    1.5092918263409656\n",
            "('22 Jump Street (2014)', 'Action|Comedy|Crime')    1.4438146420619065\n",
            "('Jim Jefferies: Freedumb (2016)', 'Comedy')    1.443638808981635\n",
            "('Year of the Dragon (1985)', 'Action|Crime|Drama')    1.4186875389865816\n",
            "('Spirit Camp (2009)', 'Horror')    1.4148267329190392\n",
            "('Crossroads (1986)', 'Drama')    1.407145064942667\n",
            "('Ring, The (1927)', 'Drama')    1.4043618659717612\n",
            "('Alice Through the Looking Glass (2016)', 'Adventure|Children|Fantasy')    1.4004656922118996\n",
            "('Captain Fantastic (2016)', 'Drama')    1.3784811623836053\n",
            "('Manufacturing Consent: Noam Chomsky and the Media (1992)', 'Documentary|War')    1.3756331095837484\n",
            "('War Machine (2017)', 'Comedy|Drama|War')    1.3755186176727314\n",
            "('Waking Life (2001)', 'Animation|Drama|Fantasy')    1.3737864320828026\n",
            "('Cosmos', '(no genres listed)')    1.3692152279008145\n",
            "('Senna (2010)', 'Documentary')    1.3528471177578374\n",
            "('High Tension (Haute tension) (Switchblade Romance) (2003)', 'Horror|Thriller')    1.3386468621344314\n",
            "(\"Clara's Heart (1988)\", 'Drama')    1.3369329671337886\n",
            "('Casablanca (1942)', 'Drama|Romance')    1.3276926969667162\n",
            "('John Wick (2014)', 'Action|Thriller')    1.3217443725921134\n",
            "('Meet Me in St. Louis (1944)', 'Musical')    1.3136117249087558\n",
            "('Poolhall Junkies (2002)', 'Comedy|Drama|Thriller')    1.3134891189813065\n"
          ],
          "name": "stdout"
        }
      ]
    },
    {
      "cell_type": "code",
      "metadata": {
        "id": "I9Bvdj5Oxnsy",
        "colab": {
          "base_uri": "https://localhost:8080/"
        },
        "outputId": "c180d702-cac5-4aa7-c19e-737e922ad7e0"
      },
      "source": [
        "# 해당 유저가 본 영화의 분포를 알고 싶으면 print_user_preference 함수를 실행시켜보세요!\r\n",
        "# print_user_preference(rating_matrix, docu_fan,'sum')\r\n",
        "recommend_for_uid(docu_fan, rating_matrix, U, V, top_N=30)"
      ],
      "execution_count": 40,
      "outputs": [
        {
          "output_type": "stream",
          "text": [
            "('Peeping Tom (1960)', 'Drama|Horror|Thriller')    2.1946486495721715\n",
            "('Tale of Two Sisters, A (Janghwa, Hongryeon) (2003)', 'Drama|Horror|Mystery|Thriller')    1.868048483557578\n",
            "('I Walked with a Zombie (1943)', 'Drama|Horror')    1.8302623676622958\n",
            "('Thing, The (1982)', 'Action|Horror|Sci-Fi|Thriller')    1.8152167874988345\n",
            "(\"It's a Very Merry Muppet Christmas Movie (2002)\", 'Children|Comedy')    1.8114983729179226\n",
            "('Phantom, The (1996)', 'Action|Adventure')    1.8093458411014427\n",
            "('Fifty Shades Darker (2017)', 'Drama|Romance')    1.8031369637974828\n",
            "('Opera (1987)', 'Crime|Horror|Mystery')    1.75828476069098\n",
            "('Witchfinder General (Conquerer Worm, The) (1968)', 'Horror')    1.7068386531075426\n",
            "('Kwaidan (Kaidan) (1964)', 'Horror')    1.6849416188562716\n",
            "('Babe: Pig in the City (1998)', 'Adventure|Children|Drama')    1.6599706318928873\n",
            "('Cook the Thief His Wife & Her Lover, The (1989)', 'Comedy|Drama')    1.6522565511810838\n",
            "(\"Dead Man's Shoes (2004)\", 'Crime|Thriller')    1.604390728432891\n",
            "('Diabolique (Les diaboliques) (1955)', 'Horror|Mystery|Thriller')    1.5739316166328685\n",
            "('Funny Games (1997)', 'Drama|Horror|Thriller')    1.552293725170579\n",
            "('Them (Ils) (2006)', 'Horror')    1.546734562678156\n",
            "('We Were Soldiers (2002)', 'Action|Drama|War')    1.5380556155889202\n",
            "('Happy Feet Two (2011)', 'Animation|Children|Comedy|IMAX')    1.512327691859466\n",
            "('Exit to Eden (1994)', 'Comedy')    1.5028941816995498\n",
            "('Romper Stomper (1992)', 'Action|Drama')    1.494945702171437\n",
            "('Best in Show (2000)', 'Comedy')    1.4866716804737483\n",
            "(\"Devil's Backbone, The (Espinazo del diablo, El) (2001)\", 'Drama|Fantasy|Horror|Thriller|War')    1.4723970200736984\n",
            "('Confidence (2003)', 'Crime|Thriller')    1.4666061557306067\n",
            "('The Lego Movie (2014)', 'Action|Adventure|Animation|Children|Comedy|Fantasy')    1.4607339213769317\n",
            "('Dead of Night (1945)', 'Horror|Mystery')    1.4544823770347617\n",
            "('Visitor Q (Bizita Q) (2001)', 'Comedy|Drama|Horror')    1.447132386738644\n",
            "('Good Thief, The (2002)', 'Crime|Drama')    1.4444832624138468\n",
            "('Mighty Wind, A (2003)', 'Comedy|Musical')    1.4402280692812224\n",
            "('Scenes from a Mall (1991)', 'Comedy')    1.4265550330235364\n",
            "(\"Don't Be a Menace to South Central While Drinking Your Juice in the Hood (1996)\", 'Comedy|Crime')    1.424483935761893\n"
          ],
          "name": "stdout"
        }
      ]
    },
    {
      "cell_type": "code",
      "metadata": {
        "id": "3gtm2ef3xjwQ",
        "colab": {
          "base_uri": "https://localhost:8080/"
        },
        "outputId": "7e0573eb-7d5f-4d0d-bf3e-8e58a4a9e1f7"
      },
      "source": [
        "# 해당 유저가 본 영화의 분포를 알고 싶으면 print_user_preference 함수를 실행시켜보세요!\r\n",
        "# print_user_preference(rating_matrix, horror_fan,'sum')\r\n",
        "recommend_for_uid(horror_fan, rating_matrix, U, V, top_N=30)"
      ],
      "execution_count": 41,
      "outputs": [
        {
          "output_type": "stream",
          "text": [
            "('Cable Guy, The (1996)', 'Comedy|Thriller')    2.0305647921061385\n",
            "('Meatballs III (1987)', 'Comedy')    1.868982882305965\n",
            "('Jerky Boys, The (1995)', 'Comedy')    1.8316649245057004\n",
            "(\"Twelve O'Clock High (1949)\", 'Drama|War')    1.804374381231377\n",
            "('Bad Lieutenant (1992)', 'Crime|Drama')    1.7933511811818719\n",
            "('Popstar: Never Stop Never Stopping (2016)', 'Comedy')    1.7926306580329427\n",
            "('Kill Command (2016)', 'Action|Horror|Sci-Fi')    1.792007762643156\n",
            "('Scream (1996)', 'Comedy|Horror|Mystery|Thriller')    1.7205681238196497\n",
            "('Cook the Thief His Wife & Her Lover, The (1989)', 'Comedy|Drama')    1.670964887547751\n",
            "('Dragon Ball Z: Dead Zone (Doragon bôru Z 1: Ora no Gohan wo kaese) (1989)', 'Action|Adventure|Animation|Fantasy|Sci-Fi')    1.6492066375742778\n",
            "('Hellbenders (2012)', 'Comedy|Horror|Thriller')    1.6459067194056693\n",
            "('Bats (1999)', 'Horror|Thriller')    1.5941628248321371\n",
            "('Star Wars: Episode I - The Phantom Menace (1999)', 'Action|Adventure|Sci-Fi')    1.5926681147132626\n",
            "(\"Orchestra Rehearsal (Prova d'orchestra) (1978)\", 'Drama')    1.5822184026713533\n",
            "(\"He's Just Not That Into You (2009)\", 'Comedy|Drama|Romance')    1.5752292054463617\n",
            "('Meteor (1979)', 'Sci-Fi')    1.5647100494945194\n",
            "('Three Outlaw Samurai (Sanbiki no samurai) (1964)', 'Action|Drama')    1.557175886345904\n",
            "('Fay Grim (2006)', 'Action|Thriller')    1.5569578309017063\n",
            "('Toxic Avenger, The (1985)', 'Comedy|Horror')    1.5424989437749295\n",
            "(\"On the Other Side of the Tracks (De l'autre côté du périph) (2012)\", 'Action|Comedy|Crime')    1.5249401737670576\n",
            "('Buzzard (2015)', 'Comedy|Drama|Horror')    1.509401230289316\n",
            "('Animal Farm (1954)', 'Animation|Drama')    1.509035454963917\n",
            "('Bad Santa 2 (2016)', 'Comedy')    1.5089329896998223\n",
            "('Casino Royale (1967)', 'Action|Adventure|Comedy')    1.5064970858643105\n",
            "('Life of Emile Zola, The (1937)', 'Drama')    1.5034412838710383\n",
            "('Tall Tale (1995)', 'Adventure|Children|Fantasy|Western')    1.4995297535059877\n",
            "('Stingray Sam (2009)', 'Comedy|Musical|Sci-Fi|Western')    1.4982588242702497\n",
            "(\"Valentine's Day (2010)\", 'Comedy|Romance')    1.4977393887341692\n",
            "('Babe: Pig in the City (1998)', 'Adventure|Children|Drama')    1.4964170992300956\n",
            "('Pet Sematary (1989)', 'Horror')    1.4846759276820827\n"
          ],
          "name": "stdout"
        }
      ]
    },
    {
      "cell_type": "code",
      "metadata": {
        "id": "nSdpjiJf860-",
        "colab": {
          "base_uri": "https://localhost:8080/"
        },
        "outputId": "75ff5e74-fa0a-4be4-d9fa-94eaa5a59c88"
      },
      "source": [
        "# 해당 유저가 본 영화의 분포를 알고 싶으면 print_user_preference 함수를 실행시켜보세요!\r\n",
        "# print_user_preference(rating_matrix, horror_fan,'sum')\r\n",
        "recommend_for_uid(animation_fan, rating_matrix, U, V, top_N=30)"
      ],
      "execution_count": 42,
      "outputs": [
        {
          "output_type": "stream",
          "text": [
            "('Heidi Fleiss: Hollywood Madam (1995)', 'Documentary')    1.307743948604379\n",
            "('Panic Room (2002)', 'Thriller')    1.200012948620719\n",
            "('84 Charing Cross Road (1987)', 'Drama|Romance')    1.168331773713939\n",
            "('Shaolin Temple (Shao Lin si) (1976)', 'Action|Adventure|Drama')    1.143231795071151\n",
            "('Producers, The (1968)', 'Comedy')    1.1363483607156841\n",
            "('Pure Formality, A (Pura formalità, Una) (1994)', 'Crime|Film-Noir|Mystery|Thriller')    1.0880611540408858\n",
            "('Yogi Bear (2010)', 'Children|Comedy')    1.0850159975358808\n",
            "('Meteor (1979)', 'Sci-Fi')    1.0768171240719828\n",
            "('Madhouse (1990)', 'Comedy')    1.0708116122249656\n",
            "('Raven, The (2012)', 'Mystery|Thriller')    1.0647061106232663\n",
            "(\"Garfield's Pet Force (2009)\", 'Animation')    1.0635061563495665\n",
            "('The End of the Tour (2015)', 'Drama')    1.0605086579553769\n",
            "('Out-of-Towners, The (1999)', 'Comedy')    1.0395255993019952\n",
            "('Other Woman, The (2014)', 'Comedy|Romance')    1.0392230323296372\n",
            "('Circle of Friends (1995)', 'Drama|Romance')    1.0296503537174706\n",
            "('Along Came Polly (2004)', 'Comedy|Romance')    1.024273296677752\n",
            "('Shall We Dance? (2004)', 'Comedy|Romance')    1.023449925888185\n",
            "('Secretariat (2010)', 'Adventure|Drama')    1.022115806947184\n",
            "('Strictly Ballroom (1992)', 'Comedy|Romance')    1.0098642144929786\n",
            "('Lost in America (1985)', 'Comedy')    1.0081346963931543\n",
            "('Carnosaur 3: Primal Species (1996)', 'Horror|Sci-Fi')    1.0038001995999473\n",
            "('I Am a Fugitive from a Chain Gang (1932)', 'Crime|Drama|Film-Noir')    0.9924108937401522\n",
            "('Deadpool 2 (2018)', 'Action|Comedy|Sci-Fi')    0.9862403829126536\n",
            "('My Stepmother Is an Alien (1988)', 'Comedy|Romance|Sci-Fi')    0.9796004408934051\n",
            "('Storks (2016)', 'Animation|Children|Comedy')    0.9732217212557638\n",
            "('The Lovers (2015)', 'Action|Adventure|Romance|Sci-Fi')    0.9614497868862207\n",
            "('Dr. Jekyll and Mr. Hyde (1931)', 'Drama|Horror')    0.9553139057775503\n",
            "('American Friend, The (Amerikanische Freund, Der) (1977)', 'Crime|Drama|Mystery|Thriller')    0.9492616745471344\n",
            "('Darkest Hour, The (2011)', 'Action|Horror|Sci-Fi|Thriller')    0.9467868556535145\n",
            "('Kung Fu Panda (2008)', 'Action|Animation|Children|Comedy|IMAX')    0.9381919228215845\n"
          ],
          "name": "stdout"
        }
      ]
    },
    {
      "cell_type": "markdown",
      "metadata": {
        "id": "mOjrAnlAO1Un"
      },
      "source": [
        "# Test Code"
      ]
    },
    {
      "cell_type": "code",
      "metadata": {
        "id": "ECV1KEDPPbQ-"
      },
      "source": [
        "################ Generating Synthetic Data #######################\r\n",
        "synthetic_rating = np.zeros((5,10))\r\n",
        "\r\n",
        "for i in range(10):\r\n",
        "    random.seed(i)\r\n",
        "    u_idx = random.randint(0,4)\r\n",
        "    i_idx = random.randint(0,9)\r\n",
        "    r_ui = random.randint(1,5)\r\n",
        "    synthetic_rating[u_idx ,i_idx] = r_ui\r\n",
        "\r\n",
        "synthetic_R = coo_matrix(synthetic_rating)\r\n",
        "synthetic_R_zipped = list(zip(synthetic_R.row, synthetic_R.col, synthetic_R.data))\r\n",
        "np.random.seed(7)\r\n",
        "synthetic_U = np.random.rand(5, 3)\r\n",
        "synthetic_V = np.random.rand(3, 10)"
      ],
      "execution_count": 43,
      "outputs": []
    },
    {
      "cell_type": "code",
      "metadata": {
        "id": "W5fswgL8p-hU"
      },
      "source": [
        "answer_U = np.load('/content/drive/MyDrive/boostcamp/data/graph/others/answer_U.npy')\r\n",
        "answer_V = np.load('/content/drive/MyDrive/boostcamp/data/graph/others/answer_V.npy')\r\n",
        "answer_rmse = np.load('/content/drive/MyDrive/boostcamp/data/graph/others/answer_rmse.npy')"
      ],
      "execution_count": 44,
      "outputs": []
    },
    {
      "cell_type": "code",
      "metadata": {
        "id": "E_XZKIbymCHA"
      },
      "source": [
        "def test_code(sgd, rmse):\r\n",
        "    U, V = sgd(synthetic_U, synthetic_V, synthetic_R_zipped, lr=0.01, lambda_u=0.1, lambda_v=0.1) \r\n",
        "    mse_u = mean_squared_error(U, answer_U)\r\n",
        "    mse_v = mean_squared_error(V, answer_V)\r\n",
        "    assert(mse_u <1e-2 or mse_v < 1e-2), 'calculated U, V is different with the answer : SGD 함수 오류'   ## 정답과 오차범위 내의 값이 아니면 assertion 오류\r\n",
        "\r\n",
        "    rmse = calculate_rmse(synthetic_R, U, V, lambda_u=0.1, lambda_v=0.1)\r\n",
        "    assert(abs(answer_rmse-rmse)<1e-05), 'calculated rmse is diferent with the answer : RMSE 함수 오류'   ## 정답과 오차범위 내의 값이 아니면 assertion 오류\r\n",
        "    \r\n",
        "    print(\"모든 함수 알맞게 구현됨\")\r\n"
      ],
      "execution_count": 45,
      "outputs": []
    },
    {
      "cell_type": "code",
      "metadata": {
        "id": "zYKTqyN2pQEx",
        "colab": {
          "base_uri": "https://localhost:8080/"
        },
        "outputId": "65950b20-8d07-40cd-f2fd-06a5026ba796"
      },
      "source": [
        "test_code(SGD, calculate_rmse)"
      ],
      "execution_count": 46,
      "outputs": [
        {
          "output_type": "stream",
          "text": [
            "모든 함수 알맞게 구현됨\n"
          ],
          "name": "stdout"
        }
      ]
    },
    {
      "cell_type": "code",
      "metadata": {
        "id": "BKUilAsVA8gj"
      },
      "source": [
        ""
      ],
      "execution_count": null,
      "outputs": []
    }
  ]
}