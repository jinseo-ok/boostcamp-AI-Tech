{
 "cells": [
  {
   "cell_type": "code",
   "execution_count": 1,
   "metadata": {
    "Collapsed": "false"
   },
   "outputs": [],
   "source": [
    "import os\n",
    "import sys\n",
    "import glob\n",
    "import shutil\n",
    "import argparse\n",
    "\n",
    "import numpy as np\n",
    "\n",
    "from sklearn.model_selection import train_test_split\n",
    "\n",
    "import cv2\n",
    "import torch\n",
    "from torch import nn, optim\n",
    "from torchvision import datasets, transforms\n",
    "\n",
    "from tqdm import tqdm"
   ]
  },
  {
   "cell_type": "code",
   "execution_count": 26,
   "metadata": {
    "Collapsed": "false"
   },
   "outputs": [],
   "source": [
    "# load and organize the file structure\n",
    "def loadData():\n",
    "\n",
    "    directory = os.listdir()\n",
    "\n",
    "    if 'dataset' in directory:\n",
    "        print('already loaded data..')\n",
    "        return\n",
    "    \n",
    "    # 모든 파일 로드\n",
    "    dataset = []\n",
    "    folders = os.listdir('./thumbnails')\n",
    "    for label, folder in enumerate(folders):\n",
    "        files = glob.glob(os.path.join('thumbnails', folder, '*.jpg'))\n",
    "        dataset.extend(list(zip(files, [folder] * len(files))))\n",
    "    dataset = np.array(dataset)\n",
    "    \n",
    "    # 데이터셋 별, 클래스 별 폴더 정리\n",
    "    train, test = train_test_split(dataset, test_size = 0.2, stratify = dataset[:, -1])\n",
    "    \n",
    "    DATA_PATH = 'dataset'\n",
    "    if not os.path.exists(DATA_PATH):\n",
    "        os.mkdir(DATA_PATH)\n",
    "        os.makedirs(os.path.join(DATA_PATH, 'train'))\n",
    "        os.makedirs(os.path.join(DATA_PATH, 'test'))\n",
    "        \n",
    "    for folder in set(dataset[:, -1]):\n",
    "        os.makedirs(os.path.join(DATA_PATH, \"train\", folder))\n",
    "        os.makedirs(os.path.join(DATA_PATH, \"test\", folder))\n",
    "    \n",
    "    # 파일 이동\n",
    "    for folder, data in [('train', train), ('test', test)]:\n",
    "        for file in data:\n",
    "            label = file[-1]\n",
    "            file_name = label + '_' + file[0].split('/')[-1]\n",
    "            from_path = file[0]\n",
    "            to_path = os.path.join('dataset', folder, label, file_name)\n",
    "            shutil.move(from_path, to_path)\n",
    "            \n",
    "    print(f'total files: {len(dataset)}')\n",
    "    print(f'total labels: {len(set(dataset[:, -1]))}')"
   ]
  },
  {
   "cell_type": "code",
   "execution_count": 27,
   "metadata": {
    "Collapsed": "false"
   },
   "outputs": [
    {
     "name": "stdout",
     "output_type": "stream",
     "text": [
      "total files: 23296\n",
      "total labels: 10\n"
     ]
    }
   ],
   "source": [
    "loadData()"
   ]
  },
  {
   "cell_type": "code",
   "execution_count": null,
   "metadata": {
    "Collapsed": "false"
   },
   "outputs": [],
   "source": []
  },
  {
   "cell_type": "code",
   "execution_count": 51,
   "metadata": {
    "Collapsed": "false"
   },
   "outputs": [],
   "source": [
    "x0 = np.array([0.5, 0.4, 0.2]).reshape(-1, 1)\n",
    "\n",
    "w = np.random.randn(3,3)\n",
    "b = np.random.randn(3,1)"
   ]
  },
  {
   "cell_type": "code",
   "execution_count": 52,
   "metadata": {
    "Collapsed": "false"
   },
   "outputs": [
    {
     "data": {
      "text/plain": [
       "array([[-0.60881099],\n",
       "       [ 0.11129566],\n",
       "       [ 0.03190344]])"
      ]
     },
     "execution_count": 52,
     "metadata": {},
     "output_type": "execute_result"
    }
   ],
   "source": [
    "np.multiply(x0,\n",
    "           np.dot(w, x0) + b\n",
    "           ) + x0"
   ]
  },
  {
   "cell_type": "code",
   "execution_count": null,
   "metadata": {
    "Collapsed": "false"
   },
   "outputs": [],
   "source": []
  },
  {
   "cell_type": "code",
   "execution_count": 58,
   "metadata": {
    "Collapsed": "false"
   },
   "outputs": [],
   "source": [
    "import matplotlib.pyplot as plt\n",
    "import seaborn as sns"
   ]
  },
  {
   "cell_type": "code",
   "execution_count": 65,
   "metadata": {
    "Collapsed": "false"
   },
   "outputs": [
    {
     "data": {
      "text/plain": [
       "<matplotlib.axes._subplots.AxesSubplot at 0x7fd247b83b50>"
      ]
     },
     "execution_count": 65,
     "metadata": {},
     "output_type": "execute_result"
    },
    {
     "data": {
      "image/png": "[encoded data removed]",
      "text/plain": [
       "<Figure size 432x360 with 2 Axes>"
      ]
     },
     "metadata": {
      "needs_background": "light"
     },
     "output_type": "display_data"
    }
   ],
   "source": [
    "plt.figure(figsize = (6,5))\n",
    "sns.heatmap(w, cmap = 'summer', annot = True)"
   ]
  },
  {
   "cell_type": "code",
   "execution_count": 70,
   "metadata": {
    "Collapsed": "false"
   },
   "outputs": [
    {
     "data": {
      "text/plain": [
       "1.3015410245730946e-05"
      ]
     },
     "execution_count": 70,
     "metadata": {},
     "output_type": "execute_result"
    }
   ],
   "source": [
    "1/14 * 1/14 * 1/14 * 1/14 * 1/2"
   ]
  },
  {
   "cell_type": "code",
   "execution_count": 69,
   "metadata": {
    "Collapsed": "false"
   },
   "outputs": [
    {
     "data": {
      "text/plain": [
       "0.0001"
      ]
     },
     "execution_count": 69,
     "metadata": {},
     "output_type": "execute_result"
    }
   ],
   "source": [
    "1/10*1/10*2/10*1/10*1/2"
   ]
  },
  {
   "cell_type": "code",
   "execution_count": null,
   "metadata": {
    "Collapsed": "false"
   },
   "outputs": [],
   "source": []
  }
 ],
 "metadata": {
  "kernelspec": {
   "display_name": "Python 3",
   "language": "python",
   "name": "python3"
  },
  "language_info": {
   "codemirror_mode": {
    "name": "ipython",
    "version": 3
   },
   "file_extension": ".py",
   "mimetype": "text/x-python",
   "name": "python",
   "nbconvert_exporter": "python",
   "pygments_lexer": "ipython3",
   "version": "3.7.6"
  }
 },
 "nbformat": 4,
 "nbformat_minor": 4
}
