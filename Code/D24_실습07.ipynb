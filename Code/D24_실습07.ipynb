{
 "cells": [
  {
   "cell_type": "markdown",
   "metadata": {
    "Collapsed": "false"
   },
   "source": [
    "**Lab 7 : Node2Vec**\n",
    "- Instuctor : Kijung Shin\n",
    "- Teaching Assistants : Hyunju Lee(main), Deukryeol Yoon, Shinhwan Kang \n",
    "- 본 실습에서는 random walk 기반 network embedding 방법 중 하나인 node2vec 알고리즘을 사용하여 clustering, node classification과 같은 여러 downstream task들을 수행해본다.\n",
    "\n",
    "* 학습 목표\n",
    "\n",
    "> 1. node2vec library의 사용법을 익힌다.\n",
    "2. node2vec embedding 벡터를 사용하여 여러 downstream tasks(clustering, node classification)를 수행하는 방법을 익힌다.\n",
    "\n",
    "\n"
   ]
  },
  {
   "cell_type": "markdown",
   "metadata": {
    "Collapsed": "false"
   },
   "source": [
    "## Clustering with Node2Vec"
   ]
  },
  {
   "cell_type": "code",
   "execution_count": 29,
   "metadata": {
    "Collapsed": "false"
   },
   "outputs": [],
   "source": [
    "import os\n",
    "import sys\n",
    "\n",
    "import networkx as nx\n",
    "from node2vec import Node2Vec\n",
    "import matplotlib.pyplot as plt"
   ]
  },
  {
   "cell_type": "code",
   "execution_count": null,
   "metadata": {
    "Collapsed": "false"
   },
   "outputs": [],
   "source": [
    "###################### Dataset Description ##########################\n",
    "'''\n",
    "    [Reference]\n",
    "        title={The Network Data Repository with Interactive Graph Analytics and Visualization},\n",
    "        author={Ryan A. Rossi and Nesreen K. Ahmed},\n",
    "        booktitle={AAAI},\n",
    "        url={http://networkrepository.com},\n",
    "        year={2015}\n",
    "\n",
    "'''\n",
    "###### lesmis.mtx : <node 1> <node 2> <weight> ######################\n",
    "###### weight : 레미제라블에 동시에 등장한 등장인물의 횟수 ##########\n",
    "#####################################################################"
   ]
  },
  {
   "cell_type": "code",
   "execution_count": 44,
   "metadata": {
    "Collapsed": "false"
   },
   "outputs": [],
   "source": [
    "##### Weighted Graph Generation #####\n",
    "\n",
    "FILE_PATH = os.path.join('graph', 'lab', 'lab7', 'lesmis.mtx')\n",
    "weighted_edgelist = []\n",
    "\n",
    "with open(FILE_PATH, 'r') as f:\n",
    "    for line in f:\n",
    "        l = line.strip().split()\n",
    "        if l[0].isdigit() == False:\n",
    "            continue\n",
    "        value = [str(int(l[0]) - 1), str(int(l[1]) - 1), float(l[2])]\n",
    "        weighted_edgelist.append(value)"
   ]
  },
  {
   "cell_type": "code",
   "execution_count": 45,
   "metadata": {
    "Collapsed": "false"
   },
   "outputs": [
    {
     "data": {
      "text/plain": [
       "[['76', '76', 254.0],\n",
       " ['1', '0', 1.0],\n",
       " ['2', '0', 8.0],\n",
       " ['3', '0', 10.0],\n",
       " ['4', '0', 1.0]]"
      ]
     },
     "execution_count": 45,
     "metadata": {},
     "output_type": "execute_result"
    }
   ],
   "source": [
    "weighted_edgelist[:5]"
   ]
  },
  {
   "cell_type": "code",
   "execution_count": 46,
   "metadata": {
    "Collapsed": "false"
   },
   "outputs": [],
   "source": [
    "G = nx.Graph()\n",
    "G.add_weighted_edges_from(weighted_edgelist)"
   ]
  },
  {
   "cell_type": "code",
   "execution_count": 47,
   "metadata": {
    "Collapsed": "false"
   },
   "outputs": [
    {
     "data": {
      "application/vnd.jupyter.widget-view+json": {
       "model_id": "304370a0b7804f3fb0d4ffc1176a1a6d",
       "version_major": 2,
       "version_minor": 0
      },
      "text/plain": [
       "HBox(children=(FloatProgress(value=0.0, description='Computing transition probabilities', max=77.0, style=Prog…"
      ]
     },
     "metadata": {},
     "output_type": "display_data"
    },
    {
     "name": "stdout",
     "output_type": "stream",
     "text": [
      "\n"
     ]
    }
   ],
   "source": [
    "# edge 별 확률 계산(p, q에 따른 edge별 확률 계산) & random walk 생성 \n",
    "node2vec = Node2Vec(G,\n",
    "                    dimensions = 16,\n",
    "                    walk_length = 4,\n",
    "                    num_walks = 200,\n",
    "                    workers = 4)  # p = 1, q = 1 as default\n",
    "\n",
    "# node embedding 구하기\n",
    "model = node2vec.fit(window = 2,\n",
    "                     min_count = 1,\n",
    "                     batch_words = 4)"
   ]
  },
  {
   "cell_type": "code",
   "execution_count": 48,
   "metadata": {
    "Collapsed": "false"
   },
   "outputs": [
    {
     "name": "stdout",
     "output_type": "stream",
     "text": [
      "#### Embedding Vector of Node 2 ####\n",
      "[-0.5965929  -0.976168    0.55454904  0.20596774  0.03093667  0.6691666\n",
      " -0.7244549  -0.7383088   0.2424277  -1.0698895  -0.98930985 -0.06130071\n",
      " -0.02612203 -0.7067945   1.3439697   0.47778705]\n"
     ]
    }
   ],
   "source": [
    "print(\"#### Embedding Vector of Node 2 ####\")\n",
    "print(model.wv['2'])"
   ]
  },
  {
   "cell_type": "code",
   "execution_count": 49,
   "metadata": {
    "Collapsed": "false"
   },
   "outputs": [
    {
     "name": "stdout",
     "output_type": "stream",
     "text": [
      "#### Most Similar Nodes to Node 2\n"
     ]
    },
    {
     "data": {
      "text/plain": [
       "[('3', 0.9937043190002441),\n",
       " ('5', 0.9925392866134644),\n",
       " ('6', 0.9923713207244873),\n",
       " ('1', 0.9916898012161255),\n",
       " ('9', 0.9908527135848999),\n",
       " ('8', 0.9885632991790771),\n",
       " ('4', 0.9871704578399658),\n",
       " ('7', 0.9868944883346558),\n",
       " ('0', 0.9852105379104614),\n",
       " ('14', 0.6317763924598694)]"
      ]
     },
     "execution_count": 49,
     "metadata": {},
     "output_type": "execute_result"
    }
   ],
   "source": [
    "##### Node 2와 가장 유사한 10개의 node를 출력 #####\n",
    "\n",
    "print(\"#### Most Similar Nodes to Node 2\")\n",
    "model.wv.most_similar('2')  "
   ]
  },
  {
   "cell_type": "code",
   "execution_count": 51,
   "metadata": {
    "Collapsed": "false"
   },
   "outputs": [],
   "source": [
    "import numpy as np\n",
    "\n",
    "from sklearn.cluster import KMeans"
   ]
  },
  {
   "cell_type": "code",
   "execution_count": 52,
   "metadata": {
    "Collapsed": "false"
   },
   "outputs": [],
   "source": [
    "#### sklearn.cluster의 KMeans 알고리즘을 실행시키기 위해 node별 embedding 값을 array로 변환해준다 \n",
    "#### 노드 번호에 해당하는 index에 embedding 값을 저장\n",
    "vectors_array = np.zeros((len(G.nodes), 16))\n",
    "\n",
    "for node in G.nodes:\n",
    "    vectors_array[int(node)] = model.wv[node]"
   ]
  },
  {
   "cell_type": "code",
   "execution_count": 53,
   "metadata": {
    "Collapsed": "false"
   },
   "outputs": [],
   "source": [
    "kmeans = KMeans(n_clusters = 5, random_state = 0).fit(vectors_array)"
   ]
  },
  {
   "cell_type": "code",
   "execution_count": 57,
   "metadata": {
    "Collapsed": "false"
   },
   "outputs": [
    {
     "data": {
      "text/plain": [
       "NodeView(('76', '1', '0', '2', '3', '4', '5', '6', '7', '8', '9', '11', '10', '12', '13', '14', '15', '23', '24', '25', '26', '27', '28', '29', '31', '32', '33', '34', '35', '36', '37', '38', '43', '44', '48', '49', '51', '55', '58', '64', '68', '69', '70', '71', '72', '17', '16', '18', '19', '20', '21', '22', '30', '41', '42', '50', '39', '40', '75', '54', '45', '52', '57', '62', '47', '46', '59', '60', '61', '63', '65', '66', '73', '74', '56', '53', '67'))"
      ]
     },
     "execution_count": 57,
     "metadata": {},
     "output_type": "execute_result"
    }
   ],
   "source": [
    "G.nodes"
   ]
  },
  {
   "cell_type": "code",
   "execution_count": 55,
   "metadata": {
    "Collapsed": "false"
   },
   "outputs": [
    {
     "data": {
      "image/png": "[encoded data removed]",
      "text/plain": [
       "<Figure size 504x504 with 1 Axes>"
      ]
     },
     "metadata": {},
     "output_type": "display_data"
    }
   ],
   "source": [
    "#### 그래프 시각화 - 각 클러스터별로 다른 색깔을 갖도록 함 ####\n",
    "pos = nx.spring_layout(G)\n",
    "node_color=[]\n",
    "node_degree = []\n",
    "for node in G.nodes:\n",
    "    node_degree.append(G.degree[node] * 10)\n",
    "    i = int(node)\n",
    "    if kmeans.labels_[i] == 0:\n",
    "        node_color.append('red')\n",
    "        \n",
    "    elif kmeans.labels_[i] == 1:\n",
    "        node_color.append('yellow')\n",
    "        \n",
    "    elif kmeans.labels_[i] == 2:\n",
    "        node_color.append('blue')\n",
    "        \n",
    "    elif kmeans.labels_[i] == 3:\n",
    "        node_color.append('green')\n",
    "        \n",
    "    else:\n",
    "        node_color.append('orange')\n",
    "\n",
    "plt.figure(figsize = (7,7))\n",
    "img = nx.draw_networkx_nodes(G, pos, node_color = node_color, node_size=node_degree)\n",
    "nx.draw_networkx_edges(G, pos)\n",
    "plt.show()"
   ]
  },
  {
   "cell_type": "markdown",
   "metadata": {
    "Collapsed": "false"
   },
   "source": [
    "## Node Calssification"
   ]
  },
  {
   "cell_type": "code",
   "execution_count": 56,
   "metadata": {
    "Collapsed": "false"
   },
   "outputs": [],
   "source": [
    "###################### Dataset Description ##########################\n",
    "##### cora.content : <paper_id> <word_attributes> <class_name> #####\n",
    "##### cora.cites : <ID of cited paper> <ID of citing paper> #########\n",
    "#####################################################################"
   ]
  },
  {
   "cell_type": "code",
   "execution_count": 68,
   "metadata": {
    "Collapsed": "false"
   },
   "outputs": [],
   "source": [
    "# Directed Graph Generation \n",
    "# 메모리 활용을 위해 node class는 숫자로 re-labelling하여 사용\n",
    "\n",
    "node_class = dict()\n",
    "edgelist = list()\n",
    "class_num = 1\n",
    "class_name_to_num = dict()\n",
    "FILE1_PATH = os.path.join('graph', 'lab', 'lab7', 'cora.content')\n",
    "FILE2_PATH = os.path.join('graph', 'lab', 'lab7', 'cora.cites')\n",
    "\n",
    "with open(FILE1_PATH, 'r') as f, open(FILE2_PATH, 'r') as f2:\n",
    "    for line in f:\n",
    "        l = line.strip().split()\n",
    "        class_name = l[-1]\n",
    "        if class_name not in class_name_to_num:\n",
    "            class_name_to_num[class_name] = class_num\n",
    "            class_num += 1\n",
    "        node_class[l[0]] = class_name_to_num[class_name]\n",
    "\n",
    "    for line in f2:\n",
    "        l = line.strip().split()\n",
    "        edgelist.append((l[1],l[0]))"
   ]
  },
  {
   "cell_type": "code",
   "execution_count": 69,
   "metadata": {
    "Collapsed": "false"
   },
   "outputs": [],
   "source": [
    "G = nx.DiGraph()\n",
    "G.add_edges_from(edgelist)"
   ]
  },
  {
   "cell_type": "code",
   "execution_count": 70,
   "metadata": {
    "Collapsed": "false"
   },
   "outputs": [],
   "source": [
    "import time"
   ]
  },
  {
   "cell_type": "code",
   "execution_count": 71,
   "metadata": {
    "Collapsed": "false"
   },
   "outputs": [
    {
     "data": {
      "application/vnd.jupyter.widget-view+json": {
       "model_id": "c9679074aeca4ed7983edd15e76e9aba",
       "version_major": 2,
       "version_minor": 0
      },
      "text/plain": [
       "HBox(children=(FloatProgress(value=0.0, description='Computing transition probabilities', max=2708.0, style=Pr…"
      ]
     },
     "metadata": {},
     "output_type": "display_data"
    },
    {
     "name": "stdout",
     "output_type": "stream",
     "text": [
      "\n",
      "runtime:  138.33479380607605\n"
     ]
    }
   ],
   "source": [
    "s= time.time()\n",
    "##### Node Embedding #####\n",
    "node2vec = Node2Vec(G,\n",
    "                    dimensions = 16,\n",
    "                    walk_length = 4,\n",
    "                    num_walks = 200,\n",
    "                    workers = 4)\n",
    "\n",
    "model = node2vec.fit(window = 10,\n",
    "                     min_count = 1,\n",
    "                     batch_words = 4)\n",
    "\n",
    "print(\"runtime: \", time.time() - s)"
   ]
  },
  {
   "cell_type": "code",
   "execution_count": 72,
   "metadata": {
    "Collapsed": "false"
   },
   "outputs": [],
   "source": [
    "from sklearn.model_selection import train_test_split\n",
    "from sklearn.neural_network import MLPClassifier\n",
    "from sklearn.metrics import mean_squared_error, accuracy_score"
   ]
  },
  {
   "cell_type": "code",
   "execution_count": 73,
   "metadata": {
    "Collapsed": "false"
   },
   "outputs": [],
   "source": [
    "#### X : embedding of a node, y : class label of a node ####\n",
    "\n",
    "X = list()\n",
    "y = list()\n",
    "node_name_to_idx = dict()\n",
    "\n",
    "for i, (v, class_) in enumerate(node_class.items()):\n",
    "    node_name_to_idx[v] = i\n",
    "    X.append(model.wv[v])\n",
    "    y.append(class_)\n",
    "    \n",
    "X = np.array(X)\n",
    "y = np.array(y)"
   ]
  },
  {
   "cell_type": "code",
   "execution_count": 74,
   "metadata": {
    "Collapsed": "false"
   },
   "outputs": [
    {
     "name": "stderr",
     "output_type": "stream",
     "text": [
      "/Users/jinseok/opt/anaconda3/lib/python3.7/site-packages/sklearn/neural_network/_multilayer_perceptron.py:585: ConvergenceWarning: Stochastic Optimizer: Maximum iterations (500) reached and the optimization hasn't converged yet.\n",
      "  % self.max_iter, ConvergenceWarning)\n"
     ]
    }
   ],
   "source": [
    "X_train, X_test, y_train, y_test = train_test_split(X, y, shuffle = True)\n",
    "\n",
    "clf = MLPClassifier(max_iter = 500).fit(X_train, y_train)"
   ]
  },
  {
   "cell_type": "code",
   "execution_count": 75,
   "metadata": {
    "Collapsed": "false"
   },
   "outputs": [
    {
     "name": "stdout",
     "output_type": "stream",
     "text": [
      "###### Result of prediction #####\n",
      "Accuracy : 79.03% \n"
     ]
    }
   ],
   "source": [
    "y_predict = clf.predict(X_test)\n",
    "\n",
    "print(\"###### Result of prediction #####\")\n",
    "print(\"Accuracy : {0:05.2f}% \".format(accuracy_score(y_test, y_predict)*100))"
   ]
  },
  {
   "cell_type": "code",
   "execution_count": 79,
   "metadata": {
    "Collapsed": "false"
   },
   "outputs": [
    {
     "name": "stdout",
     "output_type": "stream",
     "text": [
      "########## Comparison of Predicted and Test Results ######\n",
      "--------------------------------------------------\n",
      "예측:  [4 4 4 1 4 4 4 4 1 6 5 4 6 1 3 1 3 4 5 7]\n",
      "실제:  [5 4 4 1 4 4 4 4 1 6 5 7 6 1 3 3 3 1 5 7]\n",
      "--------------------------------------------------\n",
      "예측:  [2 4 1 1 4 1 3 1 5 2 1 3 1 3 7 4 1 1 6 4]\n",
      "실제:  [2 4 3 1 4 1 1 1 5 7 6 3 1 1 7 4 3 4 6 4]\n",
      "--------------------------------------------------\n",
      "예측:  [4 4 1 7 2 5 5 7 5 2 1 5 7 1 1 6 7 5 6 1]\n",
      "실제:  [4 6 5 7 5 5 5 2 6 2 1 5 7 5 1 6 2 7 6 1]\n",
      "--------------------------------------------------\n",
      "예측:  [6 1 2 3 1 6 5 1 1 7 6 6 2 5 1 4 6 1 1 1]\n",
      "실제:  [6 1 2 3 1 6 1 6 1 7 6 1 2 5 1 4 3 1 1 2]\n",
      "--------------------------------------------------\n",
      "예측:  [2 1 7 6 5 1 4 1 4 1 1 4 1 3 1 4 7 5 1 1]\n",
      "실제:  [2 5 7 6 7 1 4 6 4 1 1 4 1 3 3 1 2 1 5 1]\n",
      "--------------------------------------------------\n",
      "예측:  [5 1 1 6 4 5 4 1 2 1 1 5 3 7 1 6 7 2 6 6]\n",
      "실제:  [5 1 5 6 4 5 1 1 2 1 1 3 3 1 5 6 6 2 6 6]\n",
      "--------------------------------------------------\n",
      "예측:  [6 2 5 3 7 4 5 4 7 6 6 5 2 7 1 1 4 1 7 3]\n",
      "실제:  [6 2 5 3 7 4 5 4 1 6 6 5 2 7 1 1 1 1 7 3]\n",
      "--------------------------------------------------\n",
      "예측:  [6 1 1 5 6 5 4 1 6 4 5 7 4 5 2 5 5 5 5 1]\n",
      "실제:  [6 1 4 1 6 5 4 1 6 4 5 2 4 5 2 4 5 3 4 1]\n",
      "--------------------------------------------------\n",
      "예측:  [6 7 1 6 1 6 5 3 5 1 3 6 6 6 6 6 1 1 6 3]\n",
      "실제:  [6 7 1 6 1 6 5 3 5 1 3 6 6 6 6 6 1 4 5 3]\n",
      "--------------------------------------------------\n",
      "예측:  [1 7 6 2 6 4 1 4 2 1 2 1 4 4 4 5 1 2 1 1]\n",
      "실제:  [1 7 6 2 6 4 1 4 2 4 7 5 4 4 4 1 1 2 1 1]\n",
      "--------------------------------------------------\n",
      "예측:  [4 1 1 5 1 1 1 2 1 2 6 3 5 1 7 1 6 7 3 4]\n",
      "실제:  [4 1 4 5 5 1 1 2 1 2 6 3 5 1 3 1 6 7 7 4]\n",
      "--------------------------------------------------\n",
      "예측:  [3 7 6 1 5 5 1 1 6 5 3 6 1 6 1 6 1 5 5 1]\n",
      "실제:  [3 7 6 1 5 5 1 1 4 5 3 6 1 6 1 7 1 5 5 7]\n",
      "--------------------------------------------------\n",
      "예측:  [1 1 3 4 4 6 4 1 4 1 5 5 6 7 1 4 4 6 6 1]\n",
      "실제:  [1 1 3 4 4 6 4 1 4 1 5 1 1 7 1 4 1 6 6 5]\n",
      "--------------------------------------------------\n",
      "예측:  [1 7 4 4 2 6 1 5 1 4 1 7 4 1 1 4 7 6 1 4]\n",
      "실제:  [1 7 4 1 2 6 1 5 1 7 1 1 1 1 1 4 7 6 1 1]\n",
      "--------------------------------------------------\n",
      "예측:  [4 1 5 6 4 1 6 7 3 1 4 6 1 5 3 4 1 6 4 3]\n",
      "실제:  [1 2 5 6 4 1 6 7 3 1 4 6 1 7 3 4 1 6 4 3]\n",
      "--------------------------------------------------\n",
      "예측:  [1 6 1 7 1 7 4 6 1 6 6 5 4 1 4 6 1 6 7 4]\n",
      "실제:  [1 6 1 7 1 7 4 6 1 6 6 5 4 1 2 6 1 6 7 4]\n",
      "--------------------------------------------------\n",
      "예측:  [1 1 4 4 4 4 7 3 5 1 7 1 6 5 3 4 4 1 1 3]\n",
      "실제:  [1 1 4 4 4 4 7 3 5 1 7 4 6 5 3 4 4 1 1 3]\n",
      "--------------------------------------------------\n",
      "예측:  [1 1 1 1 3 6 2 6 5 6 4 1 6 6 7 5 1 1 5 6]\n",
      "실제:  [7 1 1 1 3 7 1 6 5 6 4 4 6 6 7 1 1 1 5 6]\n",
      "--------------------------------------------------\n",
      "예측:  [4 6 1 2 1 6 4 5 7 6 5 3 4 1 1 7 1 5 5 6]\n",
      "실제:  [4 6 1 2 1 2 4 1 7 6 5 3 5 1 1 1 6 2 5 6]\n",
      "--------------------------------------------------\n",
      "예측:  [1 1 3 2 6 1 1 1 5 7 1 7 6 6 1 4 5 1 5 1]\n",
      "실제:  [1 1 3 2 6 1 1 1 5 1 1 5 6 6 1 4 5 1 1 1]\n",
      "--------------------------------------------------\n",
      "예측:  [1 6 5 3 7 1 3 4 6 5 6 1 6 7 4 4 1 1 6 1]\n",
      "실제:  [1 6 5 3 7 1 3 4 3 5 6 3 6 7 4 7 1 1 6 1]\n",
      "--------------------------------------------------\n",
      "예측:  [4 2 1 7 4 5 2 1 4 6 5 1 1 7 6 6 7 2 4 7]\n",
      "실제:  [4 2 1 7 1 5 2 1 6 6 5 1 1 7 1 6 7 2 6 7]\n",
      "--------------------------------------------------\n",
      "예측:  [5 4 1 4 1 3 2 5 5 6 1 1 4 1 4 7 5 3 5 5]\n",
      "실제:  [5 4 1 4 1 3 7 2 5 4 1 1 4 1 4 3 2 3 5 3]\n",
      "--------------------------------------------------\n",
      "예측:  [5 6 5 4 1 3 4 5 3 7 7 1 1 1 4 1 1 5 1 4]\n",
      "실제:  [5 6 5 1 1 3 2 5 6 7 7 1 1 1 4 4 1 6 1 1]\n",
      "--------------------------------------------------\n",
      "예측:  [2 6 5 5 6 5 4 1 4 6 3 2 7 2 7 1 7 4 6 1]\n",
      "실제:  [2 6 5 5 6 1 4 1 4 6 3 5 7 2 7 1 1 1 6 2]\n",
      "--------------------------------------------------\n",
      "예측:  [4 7 1 1 1 1 1 5 4 7 1 4 5 1 5 6 1 4 4 4]\n",
      "실제:  [4 2 1 1 1 1 1 5 4 7 4 4 5 1 5 6 1 4 4 4]\n",
      "--------------------------------------------------\n",
      "예측:  [4 2 5 7 1 1 6 7 7 3 7 1 1 4 3 7 1 1 4 1]\n",
      "실제:  [4 2 5 7 1 1 6 7 7 7 7 7 1 4 3 3 1 1 4 1]\n",
      "--------------------------------------------------\n",
      "예측:  [2 2 1 1 3 4 7 4 5 4 1 5 4 4 6 3 5 5 5 7]\n",
      "실제:  [2 2 1 1 3 4 7 4 5 4 1 5 4 4 6 3 5 5 5 3]\n",
      "--------------------------------------------------\n",
      "예측:  [5 1 6 6 1 6 2 4 5 4 7 7 6 5 1 1 1 4 1 6]\n",
      "실제:  [5 1 6 6 1 6 1 4 5 4 7 5 6 5 1 1 1 4 1 6]\n",
      "--------------------------------------------------\n",
      "예측:  [2 1 6 6 7 1 6 1 4 3 5 3 1 7 1 6 1 7 4 7]\n",
      "실제:  [5 1 6 6 7 1 6 1 1 3 4 3 1 7 1 3 1 7 1 7]\n",
      "--------------------------------------------------\n",
      "예측:  [1 6 7 7 7 7 2 5 1 1 6 7 1 1 2 1 1 4 1 1]\n",
      "실제:  [1 6 2 7 7 7 2 1 1 1 6 4 1 5 2 1 1 4 1 1]\n",
      "--------------------------------------------------\n",
      "예측:  [4 5 4 4 1 3 4 1 1 5 1 1 1 3 1 1 4 3 5 3]\n",
      "실제:  [4 2 4 4 1 3 4 3 1 4 6 4 4 3 1 5 4 3 4 3]\n",
      "--------------------------------------------------\n",
      "예측:  [5 5 5 6 1 6 1 6 5 7 4 1 1 1 1 1 1 4 4 4]\n",
      "실제:  [5 5 5 6 1 6 4 6 1 7 4 1 1 1 1 1 1 4 4 4]\n"
     ]
    }
   ],
   "source": [
    "print(\"########## Comparison of Predicted and Test Results ######\")\n",
    "for i in range(len(y_test)//20):\n",
    "    print('-' * 50)\n",
    "    print(\"예측: \", y_predict[i*20:(i+1)*20])\n",
    "    print(\"실제: \", y_test[i*20:(i+1)*20])"
   ]
  },
  {
   "cell_type": "code",
   "execution_count": null,
   "metadata": {
    "Collapsed": "false"
   },
   "outputs": [],
   "source": []
  }
 ],
 "metadata": {
  "kernelspec": {
   "display_name": "Python 3",
   "language": "python",
   "name": "python3"
  },
  "language_info": {
   "codemirror_mode": {
    "name": "ipython",
    "version": 3
   },
   "file_extension": ".py",
   "mimetype": "text/x-python",
   "name": "python",
   "nbconvert_exporter": "python",
   "pygments_lexer": "ipython3",
   "version": "3.7.6"
  }
 },
 "nbformat": 4,
 "nbformat_minor": 4
}
